{
  "cells": [
    {
      "cell_type": "markdown",
      "metadata": {
        "id": "view-in-github",
        "colab_type": "text"
      },
      "source": [
        "<a href=\"https://colab.research.google.com/github/flaviocrispin/twitter_analisys/blob/main/4_Word2Vec_e_treinamento_da_rede_neural_.ipynb\" target=\"_parent\"><img src=\"https://colab.research.google.com/assets/colab-badge.svg\" alt=\"Open In Colab\"/></a>"
      ]
    },
    {
      "cell_type": "markdown",
      "metadata": {
        "id": "oj6erTigpV2w"
      },
      "source": [
        "# Word2Vec Análise e treino\n",
        "\n",
        "---\n",
        " - Carregamento arquivos\n",
        " - Tokenização \n",
        " - Separar dados de treino e teste\n",
        " - Construir vocabulário Word2Vec e treinar o algoritmo\n",
        " - Gráfico de palavras semelhantes\n",
        " - Gráfico t-SNE\n",
        " - Construir matrix TF-IDF\n",
        " - Construir vetores\n",
        " - Concatenar vetores\n",
        " - Treinar modelo\n",
        " - Resultado\n"
      ]
    },
    {
      "cell_type": "markdown",
      "metadata": {
        "id": "WwWCxaswQTbI"
      },
      "source": [
        "## 1. Carregar e importar dados"
      ]
    },
    {
      "cell_type": "code",
      "execution_count": 1,
      "metadata": {
        "cellView": "form",
        "colab": {
          "base_uri": "https://localhost:8080/"
        },
        "id": "wZnUIO7-LlgV",
        "outputId": "de1bffc9-9737-4c56-fb66-13ddeeaccbcd"
      },
      "outputs": [
        {
          "output_type": "stream",
          "name": "stdout",
          "text": [
            "Drive already mounted at /content/drive; to attempt to forcibly remount, call drive.mount(\"/content/drive\", force_remount=True).\n"
          ]
        }
      ],
      "source": [
        "#@title Conectar google colab com  google drive\n",
        "\n",
        "from google.colab import drive\n",
        "drive.mount('/content/drive') "
      ]
    },
    {
      "cell_type": "code",
      "execution_count": 2,
      "metadata": {
        "cellView": "form",
        "id": "CNen9eZ5Jczx"
      },
      "outputs": [],
      "source": [
        "#@title Importar bibliotecas\n",
        "\n",
        "import pandas as pd\n",
        "import numpy as np\n",
        "import matplotlib.pyplot as plt\n",
        "import seaborn as sns\n",
        "\n",
        "\n",
        "pd.options.mode.chained_assignment = None\n",
        "\n",
        "\n",
        "import gensim\n",
        "from gensim.models.word2vec import Word2Vec # the word2vec model gensim class\n",
        "import gensim.corpora as corpora\n",
        "from gensim.corpora import Dictionary\n",
        "from gensim.models.coherencemodel import CoherenceModel\n",
        "from gensim.models.ldamodel import LdaModel\n",
        "\n",
        "from pprint import pprint\n",
        "\n",
        "import spacy\n",
        "\n",
        "\n",
        "from tqdm import tqdm\n",
        "tqdm.pandas(desc=\"progress-bar\")\n",
        "\n",
        "from nltk.tokenize import TweetTokenizer # a tweet tokenizer from nltk.\n",
        "from nltk import word_tokenize\n",
        "\n",
        "from sklearn.preprocessing import scale\n",
        "from sklearn.model_selection import train_test_split\n",
        "from sklearn.feature_extraction.text import TfidfVectorizer\n",
        "from sklearn.feature_extraction.text import CountVectorizer\n",
        "\n",
        "from keras.preprocessing.image import ImageDataGenerator\n",
        "from keras.models import Sequential\n",
        "from keras.layers import Dense\n",
        "from keras.layers import Dropout\n",
        "from keras.layers import Flatten\n",
        "from keras.constraints import maxnorm\n",
        "#from keras.optimizers import SGD\n",
        "from keras.layers.convolutional import Conv2D\n",
        "from keras.layers.convolutional import MaxPooling2D\n",
        "from keras.utils import np_utils\n",
        "from keras.callbacks import Callback\n",
        "from keras.models import model_from_json\n",
        "\n",
        "\n",
        "# importing bokeh library for interactive dataviz\n",
        "import bokeh.plotting as bp\n",
        "from bokeh.models import HoverTool, BoxSelectTool\n",
        "from bokeh.plotting import figure, show, output_notebook\n",
        "\n",
        "import warnings\n",
        "warnings.filterwarnings(\"ignore\")"
      ]
    },
    {
      "cell_type": "code",
      "execution_count": 3,
      "metadata": {
        "id": "M6KYyoCInqyH",
        "cellView": "form"
      },
      "outputs": [],
      "source": [
        "PATH_FOLDER = '/content/drive/MyDrive/Colab Notebooks/project_politics' #@param {type: 'string'}\n",
        "PATH_IMAGES = '/content/drive/MyDrive/Colab Notebooks/project_politics/img/' #@param {type: 'string'}\n",
        "PATH_MODELS = '/content/drive/MyDrive/Colab Notebooks/project_politics/models/' #@param {type: 'string'}\n",
        "PATH_DATA = '/content/drive/MyDrive/Colab Notebooks/project_politics/data/' #@param {type: 'string'}\n"
      ]
    },
    {
      "cell_type": "code",
      "source": [
        "#@title Carregar DATASETS\n",
        "df1 = pd.read_csv(PATH_DATA +  'interim' + '/bolsonaro_tratado_sentiment.csv', sep=';')\n",
        "df2 = pd.read_csv(PATH_DATA +  'interim' + '/lula_tratado_sentiment.csv', sep=';')\n",
        "df3 = pd.read_csv(PATH_DATA +  'interim' + '/ciro_tratado_sentiment.csv', sep=';')"
      ],
      "metadata": {
        "cellView": "form",
        "id": "LzzlKYznWqe7"
      },
      "execution_count": 4,
      "outputs": []
    },
    {
      "cell_type": "markdown",
      "metadata": {
        "id": "ji8l5MMtj7Qs"
      },
      "source": [
        "## 2. Classificação usando Word2Vec"
      ]
    },
    {
      "cell_type": "code",
      "execution_count": 7,
      "metadata": {
        "cellView": "form",
        "colab": {
          "base_uri": "https://localhost:8080/"
        },
        "id": "Zr5fVlw8wAOF",
        "outputId": "50e77878-4262-49a2-b1ee-efeae7229f69"
      },
      "outputs": [
        {
          "output_type": "stream",
          "name": "stderr",
          "text": [
            "progress-bar: 100%|██████████| 207555/207555 [00:16<00:00, 12229.47it/s]\n"
          ]
        }
      ],
      "source": [
        "#@title Tokenização dos tweets\n",
        "\n",
        "tokenizer = TweetTokenizer()\n",
        "\n",
        "\n",
        "def tokenize (tweet):\n",
        "  try:\n",
        "    tokens = tokenizer.tokenize(tweet)\n",
        "    return tokens\n",
        "  except:\n",
        "    return 'NC'\n",
        "\n",
        "def postprocess(data):\n",
        "  data['tokens'] = data['cleaned_tweet'].progress_map(tokenize)\n",
        "  data = data[data.tokens != 'NC']\n",
        "  data.reset_index(inplace=True)\n",
        "  data.drop('index', inplace=True, axis=1)\n",
        "  return data \n",
        "\n",
        "\n",
        "candidate = 'Ciro' #@param [\"Bolsonaro\", \"Lula\", \"Ciro\"]\n",
        "\n",
        "if candidate == 'Bolsonaro':\n",
        "  df_b = postprocess(df1)\n",
        "\n",
        "if candidate == 'Lula':\n",
        "  df_l= postprocess(df2)\n",
        "\n",
        "if candidate == 'Ciro':\n",
        "  df_c = postprocess(df3)\n",
        "  \n",
        "#@markdown Determinar de números de DIM e Epochs\n",
        "n_dim = 200 #@param {type: 'integer'}\n",
        "epochs = 10 #@param {type: 'integer'}"
      ]
    },
    {
      "cell_type": "code",
      "execution_count": 16,
      "metadata": {
        "colab": {
          "base_uri": "https://localhost:8080/"
        },
        "id": "Peuf_q5mwA-S",
        "outputId": "a6059f4e-7c9d-4126-8303-7639dd39034b",
        "cellView": "form"
      },
      "outputs": [
        {
          "output_type": "stream",
          "name": "stderr",
          "text": [
            "\n",
            "\n",
            "0it [01:39, ?it/s]\n",
            "\n",
            "\n",
            "23331it [00:00, 233293.54it/s]\u001b[A\u001b[A\n",
            "\n",
            "49066it [00:00, 247436.84it/s]\u001b[A\u001b[A\n",
            "\n",
            "73810it [00:00, 240604.87it/s]\u001b[A\u001b[A\n",
            "\n",
            "100942it [00:00, 252520.44it/s]\u001b[A\u001b[A\n",
            "\n",
            "127373it [00:00, 256719.93it/s]\u001b[A\u001b[A\n",
            "\n",
            "153072it [00:01, 74712.92it/s] \u001b[A\u001b[A\n",
            "\n",
            "177268it [00:01, 95288.07it/s]\u001b[A\u001b[A\n",
            "\n",
            "203228it [00:01, 119848.20it/s]\u001b[A\u001b[A\n",
            "\n",
            "229431it [00:01, 144865.80it/s]\u001b[A\u001b[A\n",
            "\n",
            "255631it [00:01, 168394.07it/s]\u001b[A\u001b[A\n",
            "\n",
            "281882it [00:01, 189377.65it/s]\u001b[A\u001b[A\n",
            "\n",
            "307860it [00:01, 206382.62it/s]\u001b[A\u001b[A\n",
            "\n",
            "333968it [00:02, 220412.71it/s]\u001b[A\u001b[A\n",
            "\n",
            "360460it [00:02, 232347.48it/s]\u001b[A\u001b[A\n",
            "\n",
            "387857it [00:02, 243873.69it/s]\u001b[A\u001b[A\n",
            "\n",
            "414112it [00:02, 243203.21it/s]\u001b[A\u001b[A\n",
            "\n",
            "439738it [00:03, 77081.07it/s] \u001b[A\u001b[A\n",
            "\n",
            "483749it [00:03, 141773.71it/s]\n",
            "207321it [00:00, 263295.01it/s]\n",
            "454530it [00:02, 181140.56it/s]\n",
            "194799it [00:01, 108721.55it/s]\n",
            "145064it [00:00, 280149.03it/s]\n",
            "62171it [00:00, 279719.25it/s]\n",
            "691070it [00:03, 201679.93it/s]\n",
            "649329it [00:03, 190198.03it/s]\n",
            "207235it [00:00, 310626.06it/s]\n"
          ]
        }
      ],
      "source": [
        "#@title Separar dados de treino e teste\n",
        "LabeledSentence = gensim.models.doc2vec.LabeledSentence # we'll talk about this down below\n",
        "def labelizeTweets(tweets, label_type):\n",
        "    labelized = []\n",
        "    for i,v in tqdm(enumerate(tweets)):\n",
        "        label = '%s_%s'%(label_type,i)\n",
        "        labelized.append(LabeledSentence(v, [label]))\n",
        "    return labelized\n",
        "\n",
        "#training and test split the datasets\n",
        "x_train_b, x_test_b, y_train_b, y_test_b = train_test_split(np.array(df_b.tokens),\n",
        "                                                    np.array(df_b.Sentiment), test_size=0.3)\n",
        "\n",
        "x_train_l, x_test_l, y_train_l, y_test_l = train_test_split(np.array(df_l.tokens),\n",
        "                                                    np.array(df_l.Sentiment), test_size=0.3)\n",
        "\n",
        "x_train_c, x_test_c, y_train_c, y_test_c = train_test_split(np.array(df_c.tokens),\n",
        "                                                    np.array(df_c.Sentiment), test_size=0.3)\n",
        "\n",
        "\n",
        "\n",
        "x_train_b = labelizeTweets(x_train_b, 'TRAIN')\n",
        "x_test_b = labelizeTweets(x_test_b, 'TEST')\n",
        "\n",
        "x_train_l = labelizeTweets(x_train_l, 'TRAIN')\n",
        "x_test_l = labelizeTweets(x_test_l, 'TEST')\n",
        "\n",
        "x_train_c = labelizeTweets(x_train_c, 'TRAIN')\n",
        "x_test_c = labelizeTweets(x_test_c, 'TEST')\n",
        "\n",
        "\n",
        "\n",
        "data_labellised_b = labelizeTweets(np.array(df_b.tokens), 'data')\n",
        "data_labellised_l = labelizeTweets(np.array(df_l.tokens), 'data')\n",
        "data_labellised_c = labelizeTweets(np.array(df_c.tokens), 'data')\n"
      ]
    },
    {
      "cell_type": "code",
      "execution_count": 9,
      "metadata": {
        "cellView": "form",
        "colab": {
          "base_uri": "https://localhost:8080/"
        },
        "id": "fr1V7k3awBoR",
        "outputId": "23305e19-25fe-4912-ff91-0c5440b05e6f"
      },
      "outputs": [
        {
          "output_type": "stream",
          "name": "stderr",
          "text": [
            "100%|██████████| 691070/691070 [00:00<00:00, 3002103.21it/s]\n",
            "100%|██████████| 691070/691070 [00:00<00:00, 3075265.50it/s]\n"
          ]
        },
        {
          "output_type": "stream",
          "name": "stdout",
          "text": [
            "Training Bolsonaro completed\n",
            "---------------\n"
          ]
        },
        {
          "output_type": "stream",
          "name": "stderr",
          "text": [
            "100%|██████████| 649329/649329 [00:00<00:00, 2983455.57it/s]\n",
            "100%|██████████| 649329/649329 [00:00<00:00, 3120040.35it/s]\n"
          ]
        },
        {
          "output_type": "stream",
          "name": "stdout",
          "text": [
            "Training Lula completed\n",
            "---------------\n"
          ]
        },
        {
          "output_type": "stream",
          "name": "stderr",
          "text": [
            "100%|██████████| 207235/207235 [00:00<00:00, 2662211.07it/s]\n",
            "100%|██████████| 207235/207235 [00:00<00:00, 2943848.48it/s]\n"
          ]
        },
        {
          "output_type": "stream",
          "name": "stdout",
          "text": [
            "Training Ciro completed\n",
            "---------------\n"
          ]
        }
      ],
      "source": [
        "#@title Construir vocabulário e treino\n",
        "\n",
        "tweet_w2v_b = Word2Vec(size=n_dim)\n",
        "tweet_w2v_b.build_vocab([x.words for x in tqdm(data_labellised_b)])\n",
        "tweet_w2v_b.train([x.words for x in tqdm(data_labellised_b)], total_examples=tweet_w2v_b.corpus_count, epochs=epochs)\n",
        "print ('Training Bolsonaro completed')\n",
        "print ('---------------')\n",
        "\n",
        "tweet_w2v_l = Word2Vec(size=n_dim)\n",
        "tweet_w2v_l.build_vocab([x.words for x in tqdm(data_labellised_l)])\n",
        "tweet_w2v_l.train([x.words for x in tqdm(data_labellised_l)], total_examples=tweet_w2v_l.corpus_count, epochs=epochs)\n",
        "print ('Training Lula completed')\n",
        "print ('---------------')\n",
        "\n",
        "tweet_w2v_c = Word2Vec(size=n_dim)\n",
        "tweet_w2v_c.build_vocab([x.words for x in tqdm(data_labellised_c)])\n",
        "tweet_w2v_c.train([x.words for x in tqdm(data_labellised_c)], total_examples=tweet_w2v_c.corpus_count, epochs=epochs)\n",
        "print ('Training Ciro completed')\n",
        "print ('---------------')"
      ]
    },
    {
      "cell_type": "code",
      "execution_count": 36,
      "metadata": {
        "cellView": "form",
        "colab": {
          "base_uri": "https://localhost:8080/",
          "height": 513
        },
        "id": "xfsrSMiGwB3v",
        "outputId": "bd62b97c-f4e8-475c-ccf7-035a29edf2f1"
      },
      "outputs": [
        {
          "output_type": "display_data",
          "data": {
            "text/plain": [
              "<Figure size 1080x576 with 1 Axes>"
            ],
            "image/png": "[encoded data removed]"
          },
          "metadata": {
            "needs_background": "light"
          }
        }
      ],
      "source": [
        "#@title Palavras semelhantes\n",
        "#@markdown  Escolha o candidato e a palavra semelhante\n",
        "\n",
        "candidato = 'Bolsonaro' #@param [\"Bolsonaro\", \"Lula\", \"Ciro\"]\n",
        "Palavra = 'lula' #@param {type:'string'}\n",
        "Salvar = True #@param {type:\"boolean\"}\n",
        "\n",
        "def similar_words (data, word, save_file, candidate):\n",
        "  similar = data.most_similar(word)\n",
        "  plt.figure(figsize = (15,8))\n",
        "  series = pd.Series(data=[v for k, v in similar], index=[k for k, v in similar], name='')\n",
        "  plt.title('Palavras semelhantes no twitter de {} sobre a palavra {}'.format (candidate, word))\n",
        "  ax = sns.barplot(series.index, series.values,\n",
        "              palette=\"Blues_d\")\n",
        "  ax.set_xlabel('Palavras')\n",
        "  ax.set_ylabel('Porcentagem')\n",
        "  if save_file:\n",
        "    plt.savefig(PATH_IMAGES + '{}_similar_words_about_{}_graphic.png'.format (candidate, word))\n",
        "  plt.show()\n",
        "\n",
        "  return \n",
        "\n",
        "\n",
        "\n",
        "if candidato == 'Bolsonaro':\n",
        "  similar_words(tweet_w2v_b, Palavra, Salvar, candidato)\n",
        "\n",
        "if candidato == 'Lula':\n",
        "  similar_words(tweet_w2v_l, Palavra, Salvar, candidato)\n",
        "\n",
        "if candidato == 'Ciro':\n",
        "  similar_words(tweet_w2v_c, Palavra, Salvar, candidato)\n"
      ]
    },
    {
      "cell_type": "code",
      "execution_count": 10,
      "metadata": {
        "cellView": "form",
        "id": "-EyoipvfsO7g"
      },
      "outputs": [],
      "source": [
        "#@title Save the Word2Vec model\n",
        "tweet_w2v_b.save(PATH_MODELS + '/w2vmodel_bolsonaro.model')\n",
        "tweet_w2v_l.save(PATH_MODELS + '/w2vmodel_lula.model')\n",
        "tweet_w2v_c.save(PATH_MODELS + '/w2vmodel_ciro.model')"
      ]
    },
    {
      "cell_type": "code",
      "source": [
        "#@title Load the Word2Vec model\n",
        "tweet_w2v_b = Word2Vec.load(PATH_MODELS + '/w2vmodel_bolsonaro.model')\n",
        "tweet_w2v_l = Word2Vec.load(PATH_MODELS + '/w2vmodel_lula.model')\n",
        "tweet_w2v_c = Word2Vec.load(PATH_MODELS + '/w2vmodel_ciro.model')"
      ],
      "metadata": {
        "cellView": "form",
        "id": "FkmvGSc5J1mG"
      },
      "execution_count": 8,
      "outputs": []
    },
    {
      "cell_type": "code",
      "execution_count": null,
      "metadata": {
        "cellView": "form",
        "colab": {
          "base_uri": "https://localhost:8080/",
          "height": 825
        },
        "id": "bGIbycBeIOjG",
        "outputId": "9f05dd10-930b-4a48-fa04-2830c34ce4c9"
      },
      "outputs": [
        {
          "output_type": "stream",
          "name": "stdout",
          "text": [
            "[t-SNE] Computing 91 nearest neighbors...\n",
            "[t-SNE] Indexed 5000 samples in 0.003s...\n",
            "[t-SNE] Computed neighbors for 5000 samples in 1.560s...\n",
            "[t-SNE] Computed conditional probabilities for sample 1000 / 5000\n",
            "[t-SNE] Computed conditional probabilities for sample 2000 / 5000\n",
            "[t-SNE] Computed conditional probabilities for sample 3000 / 5000\n",
            "[t-SNE] Computed conditional probabilities for sample 4000 / 5000\n",
            "[t-SNE] Computed conditional probabilities for sample 5000 / 5000\n",
            "[t-SNE] Mean sigma: 0.640743\n",
            "[t-SNE] KL divergence after 250 iterations with early exaggeration: 85.514030\n",
            "[t-SNE] KL divergence after 1000 iterations: 2.805921\n"
          ]
        },
        {
          "output_type": "display_data",
          "data": {
            "application/javascript": [
              "\n",
              "(function(root) {\n",
              "  function now() {\n",
              "    return new Date();\n",
              "  }\n",
              "\n",
              "  var force = true;\n",
              "\n",
              "  if (typeof root._bokeh_onload_callbacks === \"undefined\" || force === true) {\n",
              "    root._bokeh_onload_callbacks = [];\n",
              "    root._bokeh_is_loading = undefined;\n",
              "  }\n",
              "\n",
              "  var JS_MIME_TYPE = 'application/javascript';\n",
              "  var HTML_MIME_TYPE = 'text/html';\n",
              "  var EXEC_MIME_TYPE = 'application/vnd.bokehjs_exec.v0+json';\n",
              "  var CLASS_NAME = 'output_bokeh rendered_html';\n",
              "\n",
              "  /**\n",
              "   * Render data to the DOM node\n",
              "   */\n",
              "  function render(props, node) {\n",
              "    var script = document.createElement(\"script\");\n",
              "    node.appendChild(script);\n",
              "  }\n",
              "\n",
              "  /**\n",
              "   * Handle when an output is cleared or removed\n",
              "   */\n",
              "  function handleClearOutput(event, handle) {\n",
              "    var cell = handle.cell;\n",
              "\n",
              "    var id = cell.output_area._bokeh_element_id;\n",
              "    var server_id = cell.output_area._bokeh_server_id;\n",
              "    // Clean up Bokeh references\n",
              "    if (id != null && id in Bokeh.index) {\n",
              "      Bokeh.index[id].model.document.clear();\n",
              "      delete Bokeh.index[id];\n",
              "    }\n",
              "\n",
              "    if (server_id !== undefined) {\n",
              "      // Clean up Bokeh references\n",
              "      var cmd = \"from bokeh.io.state import curstate; print(curstate().uuid_to_server['\" + server_id + \"'].get_sessions()[0].document.roots[0]._id)\";\n",
              "      cell.notebook.kernel.execute(cmd, {\n",
              "        iopub: {\n",
              "          output: function(msg) {\n",
              "            var id = msg.content.text.trim();\n",
              "            if (id in Bokeh.index) {\n",
              "              Bokeh.index[id].model.document.clear();\n",
              "              delete Bokeh.index[id];\n",
              "            }\n",
              "          }\n",
              "        }\n",
              "      });\n",
              "      // Destroy server and session\n",
              "      var cmd = \"import bokeh.io.notebook as ion; ion.destroy_server('\" + server_id + \"')\";\n",
              "      cell.notebook.kernel.execute(cmd);\n",
              "    }\n",
              "  }\n",
              "\n",
              "  /**\n",
              "   * Handle when a new output is added\n",
              "   */\n",
              "  function handleAddOutput(event, handle) {\n",
              "    var output_area = handle.output_area;\n",
              "    var output = handle.output;\n",
              "\n",
              "    // limit handleAddOutput to display_data with EXEC_MIME_TYPE content only\n",
              "    if ((output.output_type != \"display_data\") || (!Object.prototype.hasOwnProperty.call(output.data, EXEC_MIME_TYPE))) {\n",
              "      return\n",
              "    }\n",
              "\n",
              "    var toinsert = output_area.element.find(\".\" + CLASS_NAME.split(' ')[0]);\n",
              "\n",
              "    if (output.metadata[EXEC_MIME_TYPE][\"id\"] !== undefined) {\n",
              "      toinsert[toinsert.length - 1].firstChild.textContent = output.data[JS_MIME_TYPE];\n",
              "      // store reference to embed id on output_area\n",
              "      output_area._bokeh_element_id = output.metadata[EXEC_MIME_TYPE][\"id\"];\n",
              "    }\n",
              "    if (output.metadata[EXEC_MIME_TYPE][\"server_id\"] !== undefined) {\n",
              "      var bk_div = document.createElement(\"div\");\n",
              "      bk_div.innerHTML = output.data[HTML_MIME_TYPE];\n",
              "      var script_attrs = bk_div.children[0].attributes;\n",
              "      for (var i = 0; i < script_attrs.length; i++) {\n",
              "        toinsert[toinsert.length - 1].firstChild.setAttribute(script_attrs[i].name, script_attrs[i].value);\n",
              "        toinsert[toinsert.length - 1].firstChild.textContent = bk_div.children[0].textContent\n",
              "      }\n",
              "      // store reference to server id on output_area\n",
              "      output_area._bokeh_server_id = output.metadata[EXEC_MIME_TYPE][\"server_id\"];\n",
              "    }\n",
              "  }\n",
              "\n",
              "  function register_renderer(events, OutputArea) {\n",
              "\n",
              "    function append_mime(data, metadata, element) {\n",
              "      // create a DOM node to render to\n",
              "      var toinsert = this.create_output_subarea(\n",
              "        metadata,\n",
              "        CLASS_NAME,\n",
              "        EXEC_MIME_TYPE\n",
              "      );\n",
              "      this.keyboard_manager.register_events(toinsert);\n",
              "      // Render to node\n",
              "      var props = {data: data, metadata: metadata[EXEC_MIME_TYPE]};\n",
              "      render(props, toinsert[toinsert.length - 1]);\n",
              "      element.append(toinsert);\n",
              "      return toinsert\n",
              "    }\n",
              "\n",
              "    /* Handle when an output is cleared or removed */\n",
              "    events.on('clear_output.CodeCell', handleClearOutput);\n",
              "    events.on('delete.Cell', handleClearOutput);\n",
              "\n",
              "    /* Handle when a new output is added */\n",
              "    events.on('output_added.OutputArea', handleAddOutput);\n",
              "\n",
              "    /**\n",
              "     * Register the mime type and append_mime function with output_area\n",
              "     */\n",
              "    OutputArea.prototype.register_mime_type(EXEC_MIME_TYPE, append_mime, {\n",
              "      /* Is output safe? */\n",
              "      safe: true,\n",
              "      /* Index of renderer in `output_area.display_order` */\n",
              "      index: 0\n",
              "    });\n",
              "  }\n",
              "\n",
              "  // register the mime type if in Jupyter Notebook environment and previously unregistered\n",
              "  if (root.Jupyter !== undefined) {\n",
              "    var events = require('base/js/events');\n",
              "    var OutputArea = require('notebook/js/outputarea').OutputArea;\n",
              "\n",
              "    if (OutputArea.prototype.mime_types().indexOf(EXEC_MIME_TYPE) == -1) {\n",
              "      register_renderer(events, OutputArea);\n",
              "    }\n",
              "  }\n",
              "\n",
              "  \n",
              "  if (typeof (root._bokeh_timeout) === \"undefined\" || force === true) {\n",
              "    root._bokeh_timeout = Date.now() + 5000;\n",
              "    root._bokeh_failed_load = false;\n",
              "  }\n",
              "\n",
              "  var NB_LOAD_WARNING = {'data': {'text/html':\n",
              "     \"<div style='background-color: #fdd'>\\n\"+\n",
              "     \"<p>\\n\"+\n",
              "     \"BokehJS does not appear to have successfully loaded. If loading BokehJS from CDN, this \\n\"+\n",
              "     \"may be due to a slow or bad network connection. Possible fixes:\\n\"+\n",
              "     \"</p>\\n\"+\n",
              "     \"<ul>\\n\"+\n",
              "     \"<li>re-rerun `output_notebook()` to attempt to load from CDN again, or</li>\\n\"+\n",
              "     \"<li>use INLINE resources instead, as so:</li>\\n\"+\n",
              "     \"</ul>\\n\"+\n",
              "     \"<code>\\n\"+\n",
              "     \"from bokeh.resources import INLINE\\n\"+\n",
              "     \"output_notebook(resources=INLINE)\\n\"+\n",
              "     \"</code>\\n\"+\n",
              "     \"</div>\"}};\n",
              "\n",
              "  function display_loaded() {\n",
              "    var el = document.getElementById(null);\n",
              "    if (el != null) {\n",
              "      el.textContent = \"BokehJS is loading...\";\n",
              "    }\n",
              "    if (root.Bokeh !== undefined) {\n",
              "      if (el != null) {\n",
              "        el.textContent = \"BokehJS \" + root.Bokeh.version + \" successfully loaded.\";\n",
              "      }\n",
              "    } else if (Date.now() < root._bokeh_timeout) {\n",
              "      setTimeout(display_loaded, 100)\n",
              "    }\n",
              "  }\n",
              "\n",
              "\n",
              "  function run_callbacks() {\n",
              "    try {\n",
              "      root._bokeh_onload_callbacks.forEach(function(callback) {\n",
              "        if (callback != null)\n",
              "          callback();\n",
              "      });\n",
              "    } finally {\n",
              "      delete root._bokeh_onload_callbacks\n",
              "    }\n",
              "    console.debug(\"Bokeh: all callbacks have finished\");\n",
              "  }\n",
              "\n",
              "  function load_libs(css_urls, js_urls, callback) {\n",
              "    if (css_urls == null) css_urls = [];\n",
              "    if (js_urls == null) js_urls = [];\n",
              "\n",
              "    root._bokeh_onload_callbacks.push(callback);\n",
              "    if (root._bokeh_is_loading > 0) {\n",
              "      console.debug(\"Bokeh: BokehJS is being loaded, scheduling callback at\", now());\n",
              "      return null;\n",
              "    }\n",
              "    if (js_urls == null || js_urls.length === 0) {\n",
              "      run_callbacks();\n",
              "      return null;\n",
              "    }\n",
              "    console.debug(\"Bokeh: BokehJS not loaded, scheduling load and callback at\", now());\n",
              "    root._bokeh_is_loading = css_urls.length + js_urls.length;\n",
              "\n",
              "    function on_load() {\n",
              "      root._bokeh_is_loading--;\n",
              "      if (root._bokeh_is_loading === 0) {\n",
              "        console.debug(\"Bokeh: all BokehJS libraries/stylesheets loaded\");\n",
              "        run_callbacks()\n",
              "      }\n",
              "    }\n",
              "\n",
              "    function on_error(url) {\n",
              "      console.error(\"failed to load \" + url);\n",
              "    }\n",
              "\n",
              "    for (let i = 0; i < css_urls.length; i++) {\n",
              "      const url = css_urls[i];\n",
              "      const element = document.createElement(\"link\");\n",
              "      element.onload = on_load;\n",
              "      element.onerror = on_error.bind(null, url);\n",
              "      element.rel = \"stylesheet\";\n",
              "      element.type = \"text/css\";\n",
              "      element.href = url;\n",
              "      console.debug(\"Bokeh: injecting link tag for BokehJS stylesheet: \", url);\n",
              "      document.body.appendChild(element);\n",
              "    }\n",
              "\n",
              "    const hashes = {\"https://cdn.bokeh.org/bokeh/release/bokeh-2.3.3.min.js\": \"dM3QQsP+wXdHg42wTqW85BjZQdLNNIXqlPw/BgKoExPmTG7ZLML4EGqLMfqHT6ON\", \"https://cdn.bokeh.org/bokeh/release/bokeh-tables-2.3.3.min.js\": \"8x57I4YuIfu8XyZfFo0XVr2WAT8EK4rh/uDe3wF7YuW2FNUSNEpJbsPaB1nJ2fz2\", \"https://cdn.bokeh.org/bokeh/release/bokeh-widgets-2.3.3.min.js\": \"3QTqdz9LyAm2i0sG5XTePsHec3UHWwVsrOL68SYRoAXsafvfAyqtQ+h440+qIBhS\"};\n",
              "\n",
              "    for (let i = 0; i < js_urls.length; i++) {\n",
              "      const url = js_urls[i];\n",
              "      const element = document.createElement('script');\n",
              "      element.onload = on_load;\n",
              "      element.onerror = on_error.bind(null, url);\n",
              "      element.async = false;\n",
              "      element.src = url;\n",
              "      if (url in hashes) {\n",
              "        element.crossOrigin = \"anonymous\";\n",
              "        element.integrity = \"sha384-\" + hashes[url];\n",
              "      }\n",
              "      console.debug(\"Bokeh: injecting script tag for BokehJS library: \", url);\n",
              "      document.head.appendChild(element);\n",
              "    }\n",
              "  };\n",
              "\n",
              "  function inject_raw_css(css) {\n",
              "    const element = document.createElement(\"style\");\n",
              "    element.appendChild(document.createTextNode(css));\n",
              "    document.body.appendChild(element);\n",
              "  }\n",
              "\n",
              "  \n",
              "  var js_urls = [\"https://cdn.bokeh.org/bokeh/release/bokeh-2.3.3.min.js\", \"https://cdn.bokeh.org/bokeh/release/bokeh-widgets-2.3.3.min.js\", \"https://cdn.bokeh.org/bokeh/release/bokeh-tables-2.3.3.min.js\"];\n",
              "  var css_urls = [];\n",
              "  \n",
              "\n",
              "  var inline_js = [\n",
              "    function(Bokeh) {\n",
              "      Bokeh.set_log_level(\"info\");\n",
              "    },\n",
              "    function(Bokeh) {\n",
              "    \n",
              "    \n",
              "    }\n",
              "  ];\n",
              "\n",
              "  function run_inline_js() {\n",
              "    \n",
              "    if (root.Bokeh !== undefined || force === true) {\n",
              "      \n",
              "    for (var i = 0; i < inline_js.length; i++) {\n",
              "      inline_js[i].call(root, root.Bokeh);\n",
              "    }\n",
              "    } else if (Date.now() < root._bokeh_timeout) {\n",
              "      setTimeout(run_inline_js, 100);\n",
              "    } else if (!root._bokeh_failed_load) {\n",
              "      console.log(\"Bokeh: BokehJS failed to load within specified timeout.\");\n",
              "      root._bokeh_failed_load = true;\n",
              "    } else if (force !== true) {\n",
              "      var cell = $(document.getElementById(null)).parents('.cell').data().cell;\n",
              "      cell.output_area.append_execute_result(NB_LOAD_WARNING)\n",
              "    }\n",
              "\n",
              "  }\n",
              "\n",
              "  if (root._bokeh_is_loading === 0) {\n",
              "    console.debug(\"Bokeh: BokehJS loaded, going straight to plotting\");\n",
              "    run_inline_js();\n",
              "  } else {\n",
              "    load_libs(css_urls, js_urls, function() {\n",
              "      console.debug(\"Bokeh: BokehJS plotting callback run at\", now());\n",
              "      run_inline_js();\n",
              "    });\n",
              "  }\n",
              "}(window));"
            ],
            "application/vnd.bokehjs_load.v0+json": "\n(function(root) {\n  function now() {\n    return new Date();\n  }\n\n  var force = true;\n\n  if (typeof root._bokeh_onload_callbacks === \"undefined\" || force === true) {\n    root._bokeh_onload_callbacks = [];\n    root._bokeh_is_loading = undefined;\n  }\n\n  \n\n  \n  if (typeof (root._bokeh_timeout) === \"undefined\" || force === true) {\n    root._bokeh_timeout = Date.now() + 5000;\n    root._bokeh_failed_load = false;\n  }\n\n  var NB_LOAD_WARNING = {'data': {'text/html':\n     \"<div style='background-color: #fdd'>\\n\"+\n     \"<p>\\n\"+\n     \"BokehJS does not appear to have successfully loaded. If loading BokehJS from CDN, this \\n\"+\n     \"may be due to a slow or bad network connection. Possible fixes:\\n\"+\n     \"</p>\\n\"+\n     \"<ul>\\n\"+\n     \"<li>re-rerun `output_notebook()` to attempt to load from CDN again, or</li>\\n\"+\n     \"<li>use INLINE resources instead, as so:</li>\\n\"+\n     \"</ul>\\n\"+\n     \"<code>\\n\"+\n     \"from bokeh.resources import INLINE\\n\"+\n     \"output_notebook(resources=INLINE)\\n\"+\n     \"</code>\\n\"+\n     \"</div>\"}};\n\n  function display_loaded() {\n    var el = document.getElementById(null);\n    if (el != null) {\n      el.textContent = \"BokehJS is loading...\";\n    }\n    if (root.Bokeh !== undefined) {\n      if (el != null) {\n        el.textContent = \"BokehJS \" + root.Bokeh.version + \" successfully loaded.\";\n      }\n    } else if (Date.now() < root._bokeh_timeout) {\n      setTimeout(display_loaded, 100)\n    }\n  }\n\n\n  function run_callbacks() {\n    try {\n      root._bokeh_onload_callbacks.forEach(function(callback) {\n        if (callback != null)\n          callback();\n      });\n    } finally {\n      delete root._bokeh_onload_callbacks\n    }\n    console.debug(\"Bokeh: all callbacks have finished\");\n  }\n\n  function load_libs(css_urls, js_urls, callback) {\n    if (css_urls == null) css_urls = [];\n    if (js_urls == null) js_urls = [];\n\n    root._bokeh_onload_callbacks.push(callback);\n    if (root._bokeh_is_loading > 0) {\n      console.debug(\"Bokeh: BokehJS is being loaded, scheduling callback at\", now());\n      return null;\n    }\n    if (js_urls == null || js_urls.length === 0) {\n      run_callbacks();\n      return null;\n    }\n    console.debug(\"Bokeh: BokehJS not loaded, scheduling load and callback at\", now());\n    root._bokeh_is_loading = css_urls.length + js_urls.length;\n\n    function on_load() {\n      root._bokeh_is_loading--;\n      if (root._bokeh_is_loading === 0) {\n        console.debug(\"Bokeh: all BokehJS libraries/stylesheets loaded\");\n        run_callbacks()\n      }\n    }\n\n    function on_error(url) {\n      console.error(\"failed to load \" + url);\n    }\n\n    for (let i = 0; i < css_urls.length; i++) {\n      const url = css_urls[i];\n      const element = document.createElement(\"link\");\n      element.onload = on_load;\n      element.onerror = on_error.bind(null, url);\n      element.rel = \"stylesheet\";\n      element.type = \"text/css\";\n      element.href = url;\n      console.debug(\"Bokeh: injecting link tag for BokehJS stylesheet: \", url);\n      document.body.appendChild(element);\n    }\n\n    const hashes = {\"https://cdn.bokeh.org/bokeh/release/bokeh-2.3.3.min.js\": \"dM3QQsP+wXdHg42wTqW85BjZQdLNNIXqlPw/BgKoExPmTG7ZLML4EGqLMfqHT6ON\", \"https://cdn.bokeh.org/bokeh/release/bokeh-tables-2.3.3.min.js\": \"8x57I4YuIfu8XyZfFo0XVr2WAT8EK4rh/uDe3wF7YuW2FNUSNEpJbsPaB1nJ2fz2\", \"https://cdn.bokeh.org/bokeh/release/bokeh-widgets-2.3.3.min.js\": \"3QTqdz9LyAm2i0sG5XTePsHec3UHWwVsrOL68SYRoAXsafvfAyqtQ+h440+qIBhS\"};\n\n    for (let i = 0; i < js_urls.length; i++) {\n      const url = js_urls[i];\n      const element = document.createElement('script');\n      element.onload = on_load;\n      element.onerror = on_error.bind(null, url);\n      element.async = false;\n      element.src = url;\n      if (url in hashes) {\n        element.crossOrigin = \"anonymous\";\n        element.integrity = \"sha384-\" + hashes[url];\n      }\n      console.debug(\"Bokeh: injecting script tag for BokehJS library: \", url);\n      document.head.appendChild(element);\n    }\n  };\n\n  function inject_raw_css(css) {\n    const element = document.createElement(\"style\");\n    element.appendChild(document.createTextNode(css));\n    document.body.appendChild(element);\n  }\n\n  \n  var js_urls = [\"https://cdn.bokeh.org/bokeh/release/bokeh-2.3.3.min.js\", \"https://cdn.bokeh.org/bokeh/release/bokeh-widgets-2.3.3.min.js\", \"https://cdn.bokeh.org/bokeh/release/bokeh-tables-2.3.3.min.js\"];\n  var css_urls = [];\n  \n\n  var inline_js = [\n    function(Bokeh) {\n      Bokeh.set_log_level(\"info\");\n    },\n    function(Bokeh) {\n    \n    \n    }\n  ];\n\n  function run_inline_js() {\n    \n    if (root.Bokeh !== undefined || force === true) {\n      \n    for (var i = 0; i < inline_js.length; i++) {\n      inline_js[i].call(root, root.Bokeh);\n    }\n    } else if (Date.now() < root._bokeh_timeout) {\n      setTimeout(run_inline_js, 100);\n    } else if (!root._bokeh_failed_load) {\n      console.log(\"Bokeh: BokehJS failed to load within specified timeout.\");\n      root._bokeh_failed_load = true;\n    } else if (force !== true) {\n      var cell = $(document.getElementById(null)).parents('.cell').data().cell;\n      cell.output_area.append_execute_result(NB_LOAD_WARNING)\n    }\n\n  }\n\n  if (root._bokeh_is_loading === 0) {\n    console.debug(\"Bokeh: BokehJS loaded, going straight to plotting\");\n    run_inline_js();\n  } else {\n    load_libs(css_urls, js_urls, function() {\n      console.debug(\"Bokeh: BokehJS plotting callback run at\", now());\n      run_inline_js();\n    });\n  }\n}(window));"
          },
          "metadata": {}
        },
        {
          "output_type": "display_data",
          "data": {
            "text/html": [
              "\n",
              "\n",
              "\n",
              "\n",
              "\n",
              "\n",
              "  <div class=\"bk-root\" id=\"56a033f9-c82d-4ed2-844c-102d7b5af0e0\" data-root-id=\"1002\"></div>\n"
            ]
          },
          "metadata": {}
        },
        {
          "output_type": "display_data",
          "data": {
            "application/javascript": [
              "(function(root) {\n",
              "  function embed_document(root) {\n",
              "    \n",
              "  var docs_json = {\"b06eb718-1fb6-499b-8669-4301485a191c\":{\"defs\":[],\"roots\":{\"references\":[{\"attributes\":{\"min_border\":1,\"renderers\":[{\"id\":\"1031\"}],\"title\":{\"id\":\"1003\"},\"toolbar\":{\"id\":\"1020\"},\"width\":700,\"x_range\":{\"id\":\"1005\"},\"x_scale\":{\"id\":\"1009\"},\"y_range\":{\"id\":\"1007\"},\"y_scale\":{\"id\":\"1011\"}},\"id\":\"1002\",\"subtype\":\"Figure\",\"type\":\"Plot\"},{\"attributes\":{},\"id\":\"1009\",\"type\":\"LinearScale\"},{\"attributes\":{},\"id\":\"1014\",\"type\":\"WheelZoomTool\"},{\"attributes\":{\"text\":\"A map of 10000 word vectors\"},\"id\":\"1003\",\"type\":\"Title\"},{\"attributes\":{\"overlay\":{\"id\":\"1019\"}},\"id\":\"1015\",\"type\":\"BoxZoomTool\"},{\"attributes\":{\"data\":{\"index\":[0,1,2,3,4,5,6,7,8,9,10,11,12,13,14,15,16,17,18,19,20,21,22,23,24,25,26,27,28,29,30,31,32,33,34,35,36,37,38,39,40,41,42,43,44,45,46,47,48,49,50,51,52,53,54,55,56,57,58,59,60,61,62,63,64,65,66,67,68,69,70,71,72,73,74,75,76,77,78,79,80,81,82,83,84,85,86,87,88,89,90,91,92,93,94,95,96,97,98,99,100,101,102,103,104,105,106,107,108,109,110,111,112,113,114,115,116,117,118,119,120,121,122,123,124,125,126,127,128,129,130,131,132,133,134,135,136,137,138,139,140,141,142,143,144,145,146,147,148,149,150,151,152,153,154,155,156,157,158,159,160,161,162,163,164,165,166,167,168,169,170,171,172,173,174,175,176,177,178,179,180,181,182,183,184,185,186,187,188,189,190,191,192,193,194,195,196,197,198,199,200,201,202,203,204,205,206,207,208,209,210,211,212,213,214,215,216,217,218,219,220,221,222,223,224,225,226,227,228,229,230,231,232,233,234,235,236,237,238,239,240,241,242,243,244,245,246,247,248,249,250,251,252,253,254,255,256,257,258,259,260,261,262,263,264,265,266,267,268,269,270,271,272,273,274,275,276,277,278,279,280,281,282,283,284,285,286,287,288,289,290,291,292,293,294,295,296,297,298,299,300,301,302,303,304,305,306,307,308,309,310,311,312,313,314,315,316,317,318,319,320,321,322,323,324,325,326,327,328,329,330,331,332,333,334,335,336,337,338,339,340,341,342,343,344,345,346,347,348,349,350,351,352,353,354,355,356,357,358,359,360,361,362,363,364,365,366,367,368,369,370,371,372,373,374,375,376,377,378,379,380,381,382,383,384,385,386,387,388,389,390,391,392,393,394,395,396,397,398,399,400,401,402,403,404,405,406,407,408,409,410,411,412,413,414,415,416,417,418,419,420,421,422,423,424,425,426,427,428,429,430,431,432,433,434,435,436,437,438,439,440,441,442,443,444,445,446,447,448,449,450,451,452,453,454,455,456,457,458,459,460,461,462,463,464,465,466,467,468,469,470,471,472,473,474,475,476,477,478,479,480,481,482,483,484,485,486,487,488,489,490,491,492,493,494,495,496,497,498,499,500,501,502,503,504,505,506,507,508,509,510,511,512,513,514,515,516,517,518,519,520,521,522,523,524,525,526,527,528,529,530,531,532,533,534,535,536,537,538,539,540,541,542,543,544,545,546,547,548,549,550,551,552,553,554,555,556,557,558,559,560,561,562,563,564,565,566,567,568,569,570,571,572,573,574,575,576,577,578,579,580,581,582,583,584,585,586,587,588,589,590,591,592,593,594,595,596,597,598,599,600,601,602,603,604,605,606,607,608,609,610,611,612,613,614,615,616,617,618,619,620,621,622,623,624,625,626,627,628,629,630,631,632,633,634,635,636,637,638,639,640,641,642,643,644,645,646,647,648,649,650,651,652,653,654,655,656,657,658,659,660,661,662,663,664,665,666,667,668,669,670,671,672,673,674,675,676,677,678,679,680,681,682,683,684,685,686,687,688,689,690,691,692,693,694,695,696,697,698,699,700,701,702,703,704,705,706,707,708,709,710,711,712,713,714,715,716,717,718,719,720,721,722,723,724,725,726,727,728,729,730,731,732,733,734,735,736,737,738,739,740,741,742,743,744,745,746,747,748,749,750,751,752,753,754,755,756,757,758,759,760,761,762,763,764,765,766,767,768,769,770,771,772,773,774,775,776,777,778,779,780,781,782,783,784,785,786,787,788,789,790,791,792,793,794,795,796,797,798,799,800,801,802,803,804,805,806,807,808,809,810,811,812,813,814,815,816,817,818,819,820,821,822,823,824,825,826,827,828,829,830,831,832,833,834,835,836,837,838,839,840,841,842,843,844,845,846,847,848,849,850,851,852,853,854,855,856,857,858,859,860,861,862,863,864,865,866,867,868,869,870,871,872,873,874,875,876,877,878,879,880,881,882,883,884,885,886,887,888,889,890,891,892,893,894,895,896,897,898,899,900,901,902,903,904,905,906,907,908,909,910,911,912,913,914,915,916,917,918,919,920,921,922,923,924,925,926,927,928,929,930,931,932,933,934,935,936,937,938,939,940,941,942,943,944,945,946,947,948,949,950,951,952,953,954,955,956,957,958,959,960,961,962,963,964,965,966,967,968,969,970,971,972,973,974,975,976,977,978,979,980,981,982,983,984,985,986,987,988,989,990,991,992,993,994,995,996,997,998,999,1000,1001,1002,1003,1004,1005,1006,1007,1008,1009,1010,1011,1012,1013,1014,1015,1016,1017,1018,1019,1020,1021,1022,1023,1024,1025,1026,1027,1028,1029,1030,1031,1032,1033,1034,1035,1036,1037,1038,1039,1040,1041,1042,1043,1044,1045,1046,1047,1048,1049,1050,1051,1052,1053,1054,1055,1056,1057,1058,1059,1060,1061,1062,1063,1064,1065,1066,1067,1068,1069,1070,1071,1072,1073,1074,1075,1076,1077,1078,1079,1080,1081,1082,1083,1084,1085,1086,1087,1088,1089,1090,1091,1092,1093,1094,1095,1096,1097,1098,1099,1100,1101,1102,1103,1104,1105,1106,1107,1108,1109,1110,1111,1112,1113,1114,1115,1116,1117,1118,1119,1120,1121,1122,1123,1124,1125,1126,1127,1128,1129,1130,1131,1132,1133,1134,1135,1136,1137,1138,1139,1140,1141,1142,1143,1144,1145,1146,1147,1148,1149,1150,1151,1152,1153,1154,1155,1156,1157,1158,1159,1160,1161,1162,1163,1164,1165,1166,1167,1168,1169,1170,1171,1172,1173,1174,1175,1176,1177,1178,1179,1180,1181,1182,1183,1184,1185,1186,1187,1188,1189,1190,1191,1192,1193,1194,1195,1196,1197,1198,1199,1200,1201,1202,1203,1204,1205,1206,1207,1208,1209,1210,1211,1212,1213,1214,1215,1216,1217,1218,1219,1220,1221,1222,1223,1224,1225,1226,1227,1228,1229,1230,1231,1232,1233,1234,1235,1236,1237,1238,1239,1240,1241,1242,1243,1244,1245,1246,1247,1248,1249,1250,1251,1252,1253,1254,1255,1256,1257,1258,1259,1260,1261,1262,1263,1264,1265,1266,1267,1268,1269,1270,1271,1272,1273,1274,1275,1276,1277,1278,1279,1280,1281,1282,1283,1284,1285,1286,1287,1288,1289,1290,1291,1292,1293,1294,1295,1296,1297,1298,1299,1300,1301,1302,1303,1304,1305,1306,1307,1308,1309,1310,1311,1312,1313,1314,1315,1316,1317,1318,1319,1320,1321,1322,1323,1324,1325,1326,1327,1328,1329,1330,1331,1332,1333,1334,1335,1336,1337,1338,1339,1340,1341,1342,1343,1344,1345,1346,1347,1348,1349,1350,1351,1352,1353,1354,1355,1356,1357,1358,1359,1360,1361,1362,1363,1364,1365,1366,1367,1368,1369,1370,1371,1372,1373,1374,1375,1376,1377,1378,1379,1380,1381,1382,1383,1384,1385,1386,1387,1388,1389,1390,1391,1392,1393,1394,1395,1396,1397,1398,1399,1400,1401,1402,1403,1404,1405,1406,1407,1408,1409,1410,1411,1412,1413,1414,1415,1416,1417,1418,1419,1420,1421,1422,1423,1424,1425,1426,1427,1428,1429,1430,1431,1432,1433,1434,1435,1436,1437,1438,1439,1440,1441,1442,1443,1444,1445,1446,1447,1448,1449,1450,1451,1452,1453,1454,1455,1456,1457,1458,1459,1460,1461,1462,1463,1464,1465,1466,1467,1468,1469,1470,1471,1472,1473,1474,1475,1476,1477,1478,1479,1480,1481,1482,1483,1484,1485,1486,1487,1488,1489,1490,1491,1492,1493,1494,1495,1496,1497,1498,1499,1500,1501,1502,1503,1504,1505,1506,1507,1508,1509,1510,1511,1512,1513,1514,1515,1516,1517,1518,1519,1520,1521,1522,1523,1524,1525,1526,1527,1528,1529,1530,1531,1532,1533,1534,1535,1536,1537,1538,1539,1540,1541,1542,1543,1544,1545,1546,1547,1548,1549,1550,1551,1552,1553,1554,1555,1556,1557,1558,1559,1560,1561,1562,1563,1564,1565,1566,1567,1568,1569,1570,1571,1572,1573,1574,1575,1576,1577,1578,1579,1580,1581,1582,1583,1584,1585,1586,1587,1588,1589,1590,1591,1592,1593,1594,1595,1596,1597,1598,1599,1600,1601,1602,1603,1604,1605,1606,1607,1608,1609,1610,1611,1612,1613,1614,1615,1616,1617,1618,1619,1620,1621,1622,1623,1624,1625,1626,1627,1628,1629,1630,1631,1632,1633,1634,1635,1636,1637,1638,1639,1640,1641,1642,1643,1644,1645,1646,1647,1648,1649,1650,1651,1652,1653,1654,1655,1656,1657,1658,1659,1660,1661,1662,1663,1664,1665,1666,1667,1668,1669,1670,1671,1672,1673,1674,1675,1676,1677,1678,1679,1680,1681,1682,1683,1684,1685,1686,1687,1688,1689,1690,1691,1692,1693,1694,1695,1696,1697,1698,1699,1700,1701,1702,1703,1704,1705,1706,1707,1708,1709,1710,1711,1712,1713,1714,1715,1716,1717,1718,1719,1720,1721,1722,1723,1724,1725,1726,1727,1728,1729,1730,1731,1732,1733,1734,1735,1736,1737,1738,1739,1740,1741,1742,1743,1744,1745,1746,1747,1748,1749,1750,1751,1752,1753,1754,1755,1756,1757,1758,1759,1760,1761,1762,1763,1764,1765,1766,1767,1768,1769,1770,1771,1772,1773,1774,1775,1776,1777,1778,1779,1780,1781,1782,1783,1784,1785,1786,1787,1788,1789,1790,1791,1792,1793,1794,1795,1796,1797,1798,1799,1800,1801,1802,1803,1804,1805,1806,1807,1808,1809,1810,1811,1812,1813,1814,1815,1816,1817,1818,1819,1820,1821,1822,1823,1824,1825,1826,1827,1828,1829,1830,1831,1832,1833,1834,1835,1836,1837,1838,1839,1840,1841,1842,1843,1844,1845,1846,1847,1848,1849,1850,1851,1852,1853,1854,1855,1856,1857,1858,1859,1860,1861,1862,1863,1864,1865,1866,1867,1868,1869,1870,1871,1872,1873,1874,1875,1876,1877,1878,1879,1880,1881,1882,1883,1884,1885,1886,1887,1888,1889,1890,1891,1892,1893,1894,1895,1896,1897,1898,1899,1900,1901,1902,1903,1904,1905,1906,1907,1908,1909,1910,1911,1912,1913,1914,1915,1916,1917,1918,1919,1920,1921,1922,1923,1924,1925,1926,1927,1928,1929,1930,1931,1932,1933,1934,1935,1936,1937,1938,1939,1940,1941,1942,1943,1944,1945,1946,1947,1948,1949,1950,1951,1952,1953,1954,1955,1956,1957,1958,1959,1960,1961,1962,1963,1964,1965,1966,1967,1968,1969,1970,1971,1972,1973,1974,1975,1976,1977,1978,1979,1980,1981,1982,1983,1984,1985,1986,1987,1988,1989,1990,1991,1992,1993,1994,1995,1996,1997,1998,1999,2000,2001,2002,2003,2004,2005,2006,2007,2008,2009,2010,2011,2012,2013,2014,2015,2016,2017,2018,2019,2020,2021,2022,2023,2024,2025,2026,2027,2028,2029,2030,2031,2032,2033,2034,2035,2036,2037,2038,2039,2040,2041,2042,2043,2044,2045,2046,2047,2048,2049,2050,2051,2052,2053,2054,2055,2056,2057,2058,2059,2060,2061,2062,2063,2064,2065,2066,2067,2068,2069,2070,2071,2072,2073,2074,2075,2076,2077,2078,2079,2080,2081,2082,2083,2084,2085,2086,2087,2088,2089,2090,2091,2092,2093,2094,2095,2096,2097,2098,2099,2100,2101,2102,2103,2104,2105,2106,2107,2108,2109,2110,2111,2112,2113,2114,2115,2116,2117,2118,2119,2120,2121,2122,2123,2124,2125,2126,2127,2128,2129,2130,2131,2132,2133,2134,2135,2136,2137,2138,2139,2140,2141,2142,2143,2144,2145,2146,2147,2148,2149,2150,2151,2152,2153,2154,2155,2156,2157,2158,2159,2160,2161,2162,2163,2164,2165,2166,2167,2168,2169,2170,2171,2172,2173,2174,2175,2176,2177,2178,2179,2180,2181,2182,2183,2184,2185,2186,2187,2188,2189,2190,2191,2192,2193,2194,2195,2196,2197,2198,2199,2200,2201,2202,2203,2204,2205,2206,2207,2208,2209,2210,2211,2212,2213,2214,2215,2216,2217,2218,2219,2220,2221,2222,2223,2224,2225,2226,2227,2228,2229,2230,2231,2232,2233,2234,2235,2236,2237,2238,2239,2240,2241,2242,2243,2244,2245,2246,2247,2248,2249,2250,2251,2252,2253,2254,2255,2256,2257,2258,2259,2260,2261,2262,2263,2264,2265,2266,2267,2268,2269,2270,2271,2272,2273,2274,2275,2276,2277,2278,2279,2280,2281,2282,2283,2284,2285,2286,2287,2288,2289,2290,2291,2292,2293,2294,2295,2296,2297,2298,2299,2300,2301,2302,2303,2304,2305,2306,2307,2308,2309,2310,2311,2312,2313,2314,2315,2316,2317,2318,2319,2320,2321,2322,2323,2324,2325,2326,2327,2328,2329,2330,2331,2332,2333,2334,2335,2336,2337,2338,2339,2340,2341,2342,2343,2344,2345,2346,2347,2348,2349,2350,2351,2352,2353,2354,2355,2356,2357,2358,2359,2360,2361,2362,2363,2364,2365,2366,2367,2368,2369,2370,2371,2372,2373,2374,2375,2376,2377,2378,2379,2380,2381,2382,2383,2384,2385,2386,2387,2388,2389,2390,2391,2392,2393,2394,2395,2396,2397,2398,2399,2400,2401,2402,2403,2404,2405,2406,2407,2408,2409,2410,2411,2412,2413,2414,2415,2416,2417,2418,2419,2420,2421,2422,2423,2424,2425,2426,2427,2428,2429,2430,2431,2432,2433,2434,2435,2436,2437,2438,2439,2440,2441,2442,2443,2444,2445,2446,2447,2448,2449,2450,2451,2452,2453,2454,2455,2456,2457,2458,2459,2460,2461,2462,2463,2464,2465,2466,2467,2468,2469,2470,2471,2472,2473,2474,2475,2476,2477,2478,2479,2480,2481,2482,2483,2484,2485,2486,2487,2488,2489,2490,2491,2492,2493,2494,2495,2496,2497,2498,2499,2500,2501,2502,2503,2504,2505,2506,2507,2508,2509,2510,2511,2512,2513,2514,2515,2516,2517,2518,2519,2520,2521,2522,2523,2524,2525,2526,2527,2528,2529,2530,2531,2532,2533,2534,2535,2536,2537,2538,2539,2540,2541,2542,2543,2544,2545,2546,2547,2548,2549,2550,2551,2552,2553,2554,2555,2556,2557,2558,2559,2560,2561,2562,2563,2564,2565,2566,2567,2568,2569,2570,2571,2572,2573,2574,2575,2576,2577,2578,2579,2580,2581,2582,2583,2584,2585,2586,2587,2588,2589,2590,2591,2592,2593,2594,2595,2596,2597,2598,2599,2600,2601,2602,2603,2604,2605,2606,2607,2608,2609,2610,2611,2612,2613,2614,2615,2616,2617,2618,2619,2620,2621,2622,2623,2624,2625,2626,2627,2628,2629,2630,2631,2632,2633,2634,2635,2636,2637,2638,2639,2640,2641,2642,2643,2644,2645,2646,2647,2648,2649,2650,2651,2652,2653,2654,2655,2656,2657,2658,2659,2660,2661,2662,2663,2664,2665,2666,2667,2668,2669,2670,2671,2672,2673,2674,2675,2676,2677,2678,2679,2680,2681,2682,2683,2684,2685,2686,2687,2688,2689,2690,2691,2692,2693,2694,2695,2696,2697,2698,2699,2700,2701,2702,2703,2704,2705,2706,2707,2708,2709,2710,2711,2712,2713,2714,2715,2716,2717,2718,2719,2720,2721,2722,2723,2724,2725,2726,2727,2728,2729,2730,2731,2732,2733,2734,2735,2736,2737,2738,2739,2740,2741,2742,2743,2744,2745,2746,2747,2748,2749,2750,2751,2752,2753,2754,2755,2756,2757,2758,2759,2760,2761,2762,2763,2764,2765,2766,2767,2768,2769,2770,2771,2772,2773,2774,2775,2776,2777,2778,2779,2780,2781,2782,2783,2784,2785,2786,2787,2788,2789,2790,2791,2792,2793,2794,2795,2796,2797,2798,2799,2800,2801,2802,2803,2804,2805,2806,2807,2808,2809,2810,2811,2812,2813,2814,2815,2816,2817,2818,2819,2820,2821,2822,2823,2824,2825,2826,2827,2828,2829,2830,2831,2832,2833,2834,2835,2836,2837,2838,2839,2840,2841,2842,2843,2844,2845,2846,2847,2848,2849,2850,2851,2852,2853,2854,2855,2856,2857,2858,2859,2860,2861,2862,2863,2864,2865,2866,2867,2868,2869,2870,2871,2872,2873,2874,2875,2876,2877,2878,2879,2880,2881,2882,2883,2884,2885,2886,2887,2888,2889,2890,2891,2892,2893,2894,2895,2896,2897,2898,2899,2900,2901,2902,2903,2904,2905,2906,2907,2908,2909,2910,2911,2912,2913,2914,2915,2916,2917,2918,2919,2920,2921,2922,2923,2924,2925,2926,2927,2928,2929,2930,2931,2932,2933,2934,2935,2936,2937,2938,2939,2940,2941,2942,2943,2944,2945,2946,2947,2948,2949,2950,2951,2952,2953,2954,2955,2956,2957,2958,2959,2960,2961,2962,2963,2964,2965,2966,2967,2968,2969,2970,2971,2972,2973,2974,2975,2976,2977,2978,2979,2980,2981,2982,2983,2984,2985,2986,2987,2988,2989,2990,2991,2992,2993,2994,2995,2996,2997,2998,2999,3000,3001,3002,3003,3004,3005,3006,3007,3008,3009,3010,3011,3012,3013,3014,3015,3016,3017,3018,3019,3020,3021,3022,3023,3024,3025,3026,3027,3028,3029,3030,3031,3032,3033,3034,3035,3036,3037,3038,3039,3040,3041,3042,3043,3044,3045,3046,3047,3048,3049,3050,3051,3052,3053,3054,3055,3056,3057,3058,3059,3060,3061,3062,3063,3064,3065,3066,3067,3068,3069,3070,3071,3072,3073,3074,3075,3076,3077,3078,3079,3080,3081,3082,3083,3084,3085,3086,3087,3088,3089,3090,3091,3092,3093,3094,3095,3096,3097,3098,3099,3100,3101,3102,3103,3104,3105,3106,3107,3108,3109,3110,3111,3112,3113,3114,3115,3116,3117,3118,3119,3120,3121,3122,3123,3124,3125,3126,3127,3128,3129,3130,3131,3132,3133,3134,3135,3136,3137,3138,3139,3140,3141,3142,3143,3144,3145,3146,3147,3148,3149,3150,3151,3152,3153,3154,3155,3156,3157,3158,3159,3160,3161,3162,3163,3164,3165,3166,3167,3168,3169,3170,3171,3172,3173,3174,3175,3176,3177,3178,3179,3180,3181,3182,3183,3184,3185,3186,3187,3188,3189,3190,3191,3192,3193,3194,3195,3196,3197,3198,3199,3200,3201,3202,3203,3204,3205,3206,3207,3208,3209,3210,3211,3212,3213,3214,3215,3216,3217,3218,3219,3220,3221,3222,3223,3224,3225,3226,3227,3228,3229,3230,3231,3232,3233,3234,3235,3236,3237,3238,3239,3240,3241,3242,3243,3244,3245,3246,3247,3248,3249,3250,3251,3252,3253,3254,3255,3256,3257,3258,3259,3260,3261,3262,3263,3264,3265,3266,3267,3268,3269,3270,3271,3272,3273,3274,3275,3276,3277,3278,3279,3280,3281,3282,3283,3284,3285,3286,3287,3288,3289,3290,3291,3292,3293,3294,3295,3296,3297,3298,3299,3300,3301,3302,3303,3304,3305,3306,3307,3308,3309,3310,3311,3312,3313,3314,3315,3316,3317,3318,3319,3320,3321,3322,3323,3324,3325,3326,3327,3328,3329,3330,3331,3332,3333,3334,3335,3336,3337,3338,3339,3340,3341,3342,3343,3344,3345,3346,3347,3348,3349,3350,3351,3352,3353,3354,3355,3356,3357,3358,3359,3360,3361,3362,3363,3364,3365,3366,3367,3368,3369,3370,3371,3372,3373,3374,3375,3376,3377,3378,3379,3380,3381,3382,3383,3384,3385,3386,3387,3388,3389,3390,3391,3392,3393,3394,3395,3396,3397,3398,3399,3400,3401,3402,3403,3404,3405,3406,3407,3408,3409,3410,3411,3412,3413,3414,3415,3416,3417,3418,3419,3420,3421,3422,3423,3424,3425,3426,3427,3428,3429,3430,3431,3432,3433,3434,3435,3436,3437,3438,3439,3440,3441,3442,3443,3444,3445,3446,3447,3448,3449,3450,3451,3452,3453,3454,3455,3456,3457,3458,3459,3460,3461,3462,3463,3464,3465,3466,3467,3468,3469,3470,3471,3472,3473,3474,3475,3476,3477,3478,3479,3480,3481,3482,3483,3484,3485,3486,3487,3488,3489,3490,3491,3492,3493,3494,3495,3496,3497,3498,3499,3500,3501,3502,3503,3504,3505,3506,3507,3508,3509,3510,3511,3512,3513,3514,3515,3516,3517,3518,3519,3520,3521,3522,3523,3524,3525,3526,3527,3528,3529,3530,3531,3532,3533,3534,3535,3536,3537,3538,3539,3540,3541,3542,3543,3544,3545,3546,3547,3548,3549,3550,3551,3552,3553,3554,3555,3556,3557,3558,3559,3560,3561,3562,3563,3564,3565,3566,3567,3568,3569,3570,3571,3572,3573,3574,3575,3576,3577,3578,3579,3580,3581,3582,3583,3584,3585,3586,3587,3588,3589,3590,3591,3592,3593,3594,3595,3596,3597,3598,3599,3600,3601,3602,3603,3604,3605,3606,3607,3608,3609,3610,3611,3612,3613,3614,3615,3616,3617,3618,3619,3620,3621,3622,3623,3624,3625,3626,3627,3628,3629,3630,3631,3632,3633,3634,3635,3636,3637,3638,3639,3640,3641,3642,3643,3644,3645,3646,3647,3648,3649,3650,3651,3652,3653,3654,3655,3656,3657,3658,3659,3660,3661,3662,3663,3664,3665,3666,3667,3668,3669,3670,3671,3672,3673,3674,3675,3676,3677,3678,3679,3680,3681,3682,3683,3684,3685,3686,3687,3688,3689,3690,3691,3692,3693,3694,3695,3696,3697,3698,3699,3700,3701,3702,3703,3704,3705,3706,3707,3708,3709,3710,3711,3712,3713,3714,3715,3716,3717,3718,3719,3720,3721,3722,3723,3724,3725,3726,3727,3728,3729,3730,3731,3732,3733,3734,3735,3736,3737,3738,3739,3740,3741,3742,3743,3744,3745,3746,3747,3748,3749,3750,3751,3752,3753,3754,3755,3756,3757,3758,3759,3760,3761,3762,3763,3764,3765,3766,3767,3768,3769,3770,3771,3772,3773,3774,3775,3776,3777,3778,3779,3780,3781,3782,3783,3784,3785,3786,3787,3788,3789,3790,3791,3792,3793,3794,3795,3796,3797,3798,3799,3800,3801,3802,3803,3804,3805,3806,3807,3808,3809,3810,3811,3812,3813,3814,3815,3816,3817,3818,3819,3820,3821,3822,3823,3824,3825,3826,3827,3828,3829,3830,3831,3832,3833,3834,3835,3836,3837,3838,3839,3840,3841,3842,3843,3844,3845,3846,3847,3848,3849,3850,3851,3852,3853,3854,3855,3856,3857,3858,3859,3860,3861,3862,3863,3864,3865,3866,3867,3868,3869,3870,3871,3872,3873,3874,3875,3876,3877,3878,3879,3880,3881,3882,3883,3884,3885,3886,3887,3888,3889,3890,3891,3892,3893,3894,3895,3896,3897,3898,3899,3900,3901,3902,3903,3904,3905,3906,3907,3908,3909,3910,3911,3912,3913,3914,3915,3916,3917,3918,3919,3920,3921,3922,3923,3924,3925,3926,3927,3928,3929,3930,3931,3932,3933,3934,3935,3936,3937,3938,3939,3940,3941,3942,3943,3944,3945,3946,3947,3948,3949,3950,3951,3952,3953,3954,3955,3956,3957,3958,3959,3960,3961,3962,3963,3964,3965,3966,3967,3968,3969,3970,3971,3972,3973,3974,3975,3976,3977,3978,3979,3980,3981,3982,3983,3984,3985,3986,3987,3988,3989,3990,3991,3992,3993,3994,3995,3996,3997,3998,3999,4000,4001,4002,4003,4004,4005,4006,4007,4008,4009,4010,4011,4012,4013,4014,4015,4016,4017,4018,4019,4020,4021,4022,4023,4024,4025,4026,4027,4028,4029,4030,4031,4032,4033,4034,4035,4036,4037,4038,4039,4040,4041,4042,4043,4044,4045,4046,4047,4048,4049,4050,4051,4052,4053,4054,4055,4056,4057,4058,4059,4060,4061,4062,4063,4064,4065,4066,4067,4068,4069,4070,4071,4072,4073,4074,4075,4076,4077,4078,4079,4080,4081,4082,4083,4084,4085,4086,4087,4088,4089,4090,4091,4092,4093,4094,4095,4096,4097,4098,4099,4100,4101,4102,4103,4104,4105,4106,4107,4108,4109,4110,4111,4112,4113,4114,4115,4116,4117,4118,4119,4120,4121,4122,4123,4124,4125,4126,4127,4128,4129,4130,4131,4132,4133,4134,4135,4136,4137,4138,4139,4140,4141,4142,4143,4144,4145,4146,4147,4148,4149,4150,4151,4152,4153,4154,4155,4156,4157,4158,4159,4160,4161,4162,4163,4164,4165,4166,4167,4168,4169,4170,4171,4172,4173,4174,4175,4176,4177,4178,4179,4180,4181,4182,4183,4184,4185,4186,4187,4188,4189,4190,4191,4192,4193,4194,4195,4196,4197,4198,4199,4200,4201,4202,4203,4204,4205,4206,4207,4208,4209,4210,4211,4212,4213,4214,4215,4216,4217,4218,4219,4220,4221,4222,4223,4224,4225,4226,4227,4228,4229,4230,4231,4232,4233,4234,4235,4236,4237,4238,4239,4240,4241,4242,4243,4244,4245,4246,4247,4248,4249,4250,4251,4252,4253,4254,4255,4256,4257,4258,4259,4260,4261,4262,4263,4264,4265,4266,4267,4268,4269,4270,4271,4272,4273,4274,4275,4276,4277,4278,4279,4280,4281,4282,4283,4284,4285,4286,4287,4288,4289,4290,4291,4292,4293,4294,4295,4296,4297,4298,4299,4300,4301,4302,4303,4304,4305,4306,4307,4308,4309,4310,4311,4312,4313,4314,4315,4316,4317,4318,4319,4320,4321,4322,4323,4324,4325,4326,4327,4328,4329,4330,4331,4332,4333,4334,4335,4336,4337,4338,4339,4340,4341,4342,4343,4344,4345,4346,4347,4348,4349,4350,4351,4352,4353,4354,4355,4356,4357,4358,4359,4360,4361,4362,4363,4364,4365,4366,4367,4368,4369,4370,4371,4372,4373,4374,4375,4376,4377,4378,4379,4380,4381,4382,4383,4384,4385,4386,4387,4388,4389,4390,4391,4392,4393,4394,4395,4396,4397,4398,4399,4400,4401,4402,4403,4404,4405,4406,4407,4408,4409,4410,4411,4412,4413,4414,4415,4416,4417,4418,4419,4420,4421,4422,4423,4424,4425,4426,4427,4428,4429,4430,4431,4432,4433,4434,4435,4436,4437,4438,4439,4440,4441,4442,4443,4444,4445,4446,4447,4448,4449,4450,4451,4452,4453,4454,4455,4456,4457,4458,4459,4460,4461,4462,4463,4464,4465,4466,4467,4468,4469,4470,4471,4472,4473,4474,4475,4476,4477,4478,4479,4480,4481,4482,4483,4484,4485,4486,4487,4488,4489,4490,4491,4492,4493,4494,4495,4496,4497,4498,4499,4500,4501,4502,4503,4504,4505,4506,4507,4508,4509,4510,4511,4512,4513,4514,4515,4516,4517,4518,4519,4520,4521,4522,4523,4524,4525,4526,4527,4528,4529,4530,4531,4532,4533,4534,4535,4536,4537,4538,4539,4540,4541,4542,4543,4544,4545,4546,4547,4548,4549,4550,4551,4552,4553,4554,4555,4556,4557,4558,4559,4560,4561,4562,4563,4564,4565,4566,4567,4568,4569,4570,4571,4572,4573,4574,4575,4576,4577,4578,4579,4580,4581,4582,4583,4584,4585,4586,4587,4588,4589,4590,4591,4592,4593,4594,4595,4596,4597,4598,4599,4600,4601,4602,4603,4604,4605,4606,4607,4608,4609,4610,4611,4612,4613,4614,4615,4616,4617,4618,4619,4620,4621,4622,4623,4624,4625,4626,4627,4628,4629,4630,4631,4632,4633,4634,4635,4636,4637,4638,4639,4640,4641,4642,4643,4644,4645,4646,4647,4648,4649,4650,4651,4652,4653,4654,4655,4656,4657,4658,4659,4660,4661,4662,4663,4664,4665,4666,4667,4668,4669,4670,4671,4672,4673,4674,4675,4676,4677,4678,4679,4680,4681,4682,4683,4684,4685,4686,4687,4688,4689,4690,4691,4692,4693,4694,4695,4696,4697,4698,4699,4700,4701,4702,4703,4704,4705,4706,4707,4708,4709,4710,4711,4712,4713,4714,4715,4716,4717,4718,4719,4720,4721,4722,4723,4724,4725,4726,4727,4728,4729,4730,4731,4732,4733,4734,4735,4736,4737,4738,4739,4740,4741,4742,4743,4744,4745,4746,4747,4748,4749,4750,4751,4752,4753,4754,4755,4756,4757,4758,4759,4760,4761,4762,4763,4764,4765,4766,4767,4768,4769,4770,4771,4772,4773,4774,4775,4776,4777,4778,4779,4780,4781,4782,4783,4784,4785,4786,4787,4788,4789,4790,4791,4792,4793,4794,4795,4796,4797,4798,4799,4800,4801,4802,4803,4804,4805,4806,4807,4808,4809,4810,4811,4812,4813,4814,4815,4816,4817,4818,4819,4820,4821,4822,4823,4824,4825,4826,4827,4828,4829,4830,4831,4832,4833,4834,4835,4836,4837,4838,4839,4840,4841,4842,4843,4844,4845,4846,4847,4848,4849,4850,4851,4852,4853,4854,4855,4856,4857,4858,4859,4860,4861,4862,4863,4864,4865,4866,4867,4868,4869,4870,4871,4872,4873,4874,4875,4876,4877,4878,4879,4880,4881,4882,4883,4884,4885,4886,4887,4888,4889,4890,4891,4892,4893,4894,4895,4896,4897,4898,4899,4900,4901,4902,4903,4904,4905,4906,4907,4908,4909,4910,4911,4912,4913,4914,4915,4916,4917,4918,4919,4920,4921,4922,4923,4924,4925,4926,4927,4928,4929,4930,4931,4932,4933,4934,4935,4936,4937,4938,4939,4940,4941,4942,4943,4944,4945,4946,4947,4948,4949,4950,4951,4952,4953,4954,4955,4956,4957,4958,4959,4960,4961,4962,4963,4964,4965,4966,4967,4968,4969,4970,4971,4972,4973,4974,4975,4976,4977,4978,4979,4980,4981,4982,4983,4984,4985,4986,4987,4988,4989,4990,4991,4992,4993,4994,4995,4996,4997,4998,4999],\"words\":[\"bolsonaro\",\"politica\",\"antes\",\"voce\",\"babaca\",\"mito\",\"bem\",\"vindo\",\"bolsominions\",\"serio\",\"explica\",\"multidao\",\"onde\",\"passa\",\"sao\",\"pessoas\",\"meio\",\"gato\",\"pingado\",\"amor\",\"deus\",\"todos\",\"vemos\",\"quantidade\",\"arrasta\",\"lula\",\"so\",\"ganha\",\"atraves\",\"fraude\",\"disso\",\"pode\",\"ter\",\"certeza\",\"boa\",\"noite\",\"comendo\",\"causa\",\"chefe\",\"reeleicao\",\"definida\",\"hoje\",\"jogada\",\"mestre\",\"aguardando\",\"choradeira\",\"melhor\",\"presidente\",\"historia\",\"anuncio\",\"importantissimo\",\"povo\",\"brasileiro\",\"vcs\",\"procurando\",\"quer\",\"saber\",\"improvisado\",\"nao\",\"sabe\",\"duvida\",\"dessa\",\"pesquisa\",\"ser\",\"80\",\"vitoria\",\"1deg\",\"turno\",\"servidores\",\"federais\",\"reagem\",\"novo\",\"ataque\",\"inpe\",\"perde\",\"paciencia\",\"jornalistas\",\"escancara\",\"verdade\",\"via\",\"lembrei\",\"grite\",\"sempre\",\"manipulando\",\"thiago\",\"claro\",\"vota\",\"opiniao\",\"gostando\",\"direito\",\"mesma\",\"forma\",\"desrespeitou\",\"ninguem\",\"respeitado\",\"concordamos\",\"deve\",\"repetir\",\"governo\",\"certo\",\"apagou\",\"comentarios\",\"dizendo\",\"informando\",\"errado\",\"fakenews\",\"fiquei\",\"agora\",\"jair\",\"arrego\",\"preguicoso\",\"broxa\",\"dois\",\"entrevista\",\"sobre\",\"reducao\",\"impostos\",\"gasolina\",\"diesel\",\"gas\",\"cozinha\",\"06\",\"jun\",\"2022\",\"quanto\",\"tempo\",\"poderia\",\"fazer\",\"segundo\",\"passo\",\"cotacao\",\"dolar\",\"pois\",\"brasileiros\",\"recebem\",\"vencimentos\",\"pgr\",\"aras\",\"fala\",\"bozo\",\"tse\",\"modo\",\"falar\",\"medinho\",\"vagabundo\",\"ja\",\"medo\",\"perder\",\"1\",\"aaaah\",\"guedes\",\"legislativo\",\"renovado\",\"primeiro\",\"brasil\",\"decola\",\"pt\",\"desaparece\",\"sistema\",\"mentiras\",\"cara\",\"olha\",\"acontecendo\",\"ainda\",\"pensando\",\"votar\",\"9\",\"dedos\",\"ganhar\",\"imprensa\",\"virar\",\"capeta\",\"ret\",\"lix\",\"filho\",\"puxar\",\"nada\",\"bom\",\"candidato\",\"sai\",\"rua\",\"eleicao\",\"noticia\",\"33\",\"milhoes\",\"incra\",\"sim\",\"problema\",\"propoe\",\"compensar\",\"estados\",\"reduzir\",\"icms\",\"tentar\",\"conter\",\"alta\",\"combustivel\",\"caminhoes\",\"pipa\",\"corone\",\"vende\",\"acabou\",\"exploracao\",\"familia\",\"gomes\",\"pronunciamento\",\"ha\",\"pouco\",\"rodrigo\",\"pacheco\",\"arthur\",\"lira\",\"juntos\",\"sera\",\"aparecer\",\"algum\",\"oposicao\",\"contra\",\"motivos\",\"politicos\",\"possivel\",\"messias\",\"acaba\",\"precos\",\"combustiveis\",\"contou\",\"presenca\",\"presidentes\",\"camera\",\"deputados\",\"senado\",\"respectivos\",\"ministros\",\"15\",\"moristas\",\"votarem\",\"joga\",\"ok\",\"nesse\",\"momento\",\"trabalhar\",\"amigo\",\"ficarmos\",\"reclamando\",\"caras\",\"vao\",\"levar\",\"pronto\",\"todo\",\"mundo\",\"fd\",\"vem\",\"zerando\",\"desde\",\"assumiu\",\"papo\",\"argumento\",\"fez\",\"muita\",\"gente\",\"sair\",\"armario\",\"assumir\",\"contrario\",\"diziam\",\"iria\",\"exterminar\",\"filhinho\",\"papai\",\"galera\",\"esquerda\",\"maior\",\"gritaria\",\"proposta\",\"baixar\",\"l\",\"golpi\",\"ah\",\"deu\",\"casa\",\"deputado\",\"expoe\",\"nova\",\"covardia\",\"c\",\"aconteceu\",\"questionamento\",\"porque\",\"eleito\",\"poder\",\"briguinha\",\"sertanejo\",\"anita\",\"aguardem\",\"prefiro\",\"22\",\"obrigado\",\"espaco\",\"maxima\",\"razao\",\"errou\",\"marte\",\"ajuda\",\"impressao\",\"dinheiro\",\"tamos\",\"diz\",\"stf\",\"crime\",\"afirmar\",\"sala\",\"secreta\",\"desse\",\"partido\",\"virou\",\"cachorrinho\",\"coleira\",\"cansam\",\"merda\",\"ne\",\"teimosia\",\"presidencia\",\"legado\",\"corrupcao\",\"qm\",\"pano\",\"pro\",\"ate\",\"golpistas\",\"fascistas\",\"viraram\",\"amigos\",\"obrigada\",\"vamos\",\"musica\",\"funebre\",\"grupo\",\"dps\",\"saido\",\"umas\",\"30\",\"vezes\",\"dia\",\"pessoa\",\"idiota\",\"manda\",\"video\",\"comecam\",\"discutir\",\"idiotas\",\"ngm\",\"fica\",\"vendo\",\"videos\",\"mandando\",\"le\",\"textos\",\"criatura\",\"ver\",\"cobranca\",\"adianta\",\"vir\",\"argumentos\",\"traga\",\"fato\",\"concreto\",\"querer\",\"continuar\",\"passando\",\"vergonha\",\"reeleito\",\"mit\",\"post\",\"like\",\"voto\",\"hein\",\"espero\",\"outubro\",\"livre\",\"pr\",\"algo\",\"sr\",\"chama\",\"senhora\",\"postando\",\"criticando\",\"realmente\",\"entendo\",\"falou\",\"rombo\",\"6\",\"meses\",\"reeleger\",\"genocida\",\"pai\",\"mentira\",\"presente\",\"diferente\",\"maneira\",\"institucional\",\"ofendeu\",\"kalil\",\"irritou\",\"pergunta\",\"acontece\",\"seres\",\"humanos\",\"percebe\",\"diferenca\",\"desenhe\",\"existia\",\"crise\",\"iniciou\",\"conjunto\",\"situacoes\",\"apenas\",\"poroes\",\"2018\",\"atentar\",\"democracia\",\"agradar\",\"base\",\"programa\",\"economico\",\"fracassado\",\"verdadeiro\",\"enganar\",\"arte\",\"pequeno\",\"julgamento\",\"devo\",\"conhecer\",\"criterio\",\"segue\",\"carlos\",\"insta\",\"alguem\",\"seguir\",\"afinal\",\"presida\",\"vereador\",\"rio\",\"abobrinha\",\"admiravel\",\"insistir\",\"jogar\",\"dentro\",\"tais\",\"quatro\",\"linhas\",\"constituicao\",\"qualquer\",\"outro\",\"lugar\",\"certamente\",\"ditador\",\"tiranico\",\"dizem\",\"alguns\",\"mandou\",\"matar\",\"celso\",\"daniel\",\"teori\",\"zavascki\",\"eduardo\",\"campos\",\"surreal\",\"ciro\",\"tomar\",\"cu\",\"ajudando\",\"imbecil\",\"rapaz\",\"advogado\",\"direita\",\"entendendo\",\"perplexo\",\"parabens\",\"honestidade\",\"lealdade\",\"kkkk\",\"entao\",\"tente\",\"ler\",\"novamente\",\"pl\",\"entendeu\",\"infiltrado\",\"reconhece\",\"temer\",\"recusa\",\"reconhecer\",\"comecei\",\"assistir\",\"serie\",\"the\",\"boys\",\"parecem\",\"pacto\",\"correlacao\",\"feito\",\"parte\",\"votei\",\"nenhum\",\"bolsonarista\",\"ajudou\",\"eleger\",\"irmao\",\"conta\",\"sentir\",\"odio\",\"comandou\",\"competencia\",\"chance\",\"estar\",\"pais\",\"falta\",\"saude\",\"podia\",\"ceder\",\"confiam\",\"estao\",\"comparecer\",\"manifestacao\",\"7\",\"setembro\",\"indecisos\",\"precisamos\",\"conseguiu\",\"desculpa\",\"defenda\",\"globolixo\",\"pseudo\",\"vermelhos\",\"sofrem\",\"conseguem\",\"tolerar\",\"avanco\",\"maos\",\"melhores\",\"deixa\",\"homem\",\"monark\",\"defende\",\"mesmas\",\"coisa\",\"helicoptero\",\"ameaca\",\"instituicoes\",\"favor\",\"respeitar\",\"ocupado\",\"defendendo\",\"pautas\",\"bolsonaristas\",\"salve\",\"aceitem\",\"derrota\",\"petistas\",\"acho\",\"pior\",\"morte\",\"ex\",\"prefeito\",\"santo\",\"andre\",\"oito\",\"testemunhas\",\"eterna\",\"vacinas\",\"spray\",\"desenvolvidas\",\"absolutamente\",\"tal\",\"medicamento\",\"usou\",\"viagem\",\"israel\",\"desonesto\",\"caminho\",\"entrando\",\"trilhos\",\"podemos\",\"recuar\",\"mudando\",\"lado\",\"corruptos\",\"never\",\"abre\",\"196\",\"mil\",\"vagas\",\"carteira\",\"assinada\",\"abril\",\"vou\",\"morra\",\"esquerdopata\",\"ouviu\",\"camara\",\"dormem\",\"k\",\"acaso\",\"rachadinha\",\"sus\",\"periodos\",\"resultado\",\"aceitar\",\"incompetente\",\"dizer\",\"culpa\",\"gado\",\"engolir\",\"esquerdopatas\",\"esperar\",\"desesperados\",\"cima\",\"vote\",\"casada\",\"carater\",\"enfim\",\"sabotador\",\"republica\",\"tomou\",\"voltar\",\"atacando\",\"sabem\",\"zema\",\"susto\",\"acabar\",\"mamata\",\"fingir\",\"acreditamos\",\"nunca\",\"quis\",\"uc\",\"piscando\",\"descansar\",\"vovo\",\"ficaadica\",\"nessas\",\"horas\",\"latente\",\"analfabetismo\",\"funcional\",\"controlar\",\"preco\",\"basta\",\"prefere\",\"dar\",\"lucro\",\"acionistas\",\"petrobras\",\"massacrar\",\"carga\",\"tributaria\",\"resolvera\",\"resolver\",\"chamaria\",\"quadrilha\",\"doentes\",\"mentais\",\"federal\",\"anunciar\",\"etanol\",\"tambem\",\"compromisso\",\"congelamento\",\"17\",\"vez\",\"tomando\",\"dianteira\",\"prol\",\"nacao\",\"unico\",\"garantir\",\"expressao\",\"chamase\",\"conte\",\"1a\",\"censurar\",\"toda\",\"internet\",\"serao\",\"calados\",\"pensar\",\"pqp\",\"bunda\",\"mexer\",\"lucros\",\"lascado\",\"programas\",\"combate\",\"fome\",\"outros\",\"desmontes\",\"quero\",\"gosto\",\"entenda\",\"igual\",\"anos\",\"seca\",\"rede\",\"globo\",\"abencoe\",\"amo\",\"paulo\",\"acompanhando\",\"noticias\",\"kkk\",\"veja\",\"noticiarios\",\"internacionais\",\"exemplo\",\"argentina\",\"elogiando\",\"desempenho\",\"pos\",\"pandemia\",\"urgente\",\"anuncia\",\"pec\",\"zerar\",\"transporte\",\"publico\",\"cidada\",\"patriota\",\"fechada\",\"revelacao\",\"surpreendente\",\"revista\",\"cartas\",\"baralho\",\"disputa\",\"eleitoral\",\"cada\",\"clara\",\"realizacoes\",\"luiz\",\"inacio\",\"silva\",\"simbolo\",\"atraso\",\"revoga\",\"portaria\",\"rastreamento\",\"identificacao\",\"armas\",\"picareta\",\"esperanca\",\"mostra\",\"ervilha\",\"cabeca\",\"cirista\",\"chegar\",\"cacando\",\"prendendo\",\"roubou\",\"cofre\",\"publicos\",\"esqueceu\",\"deste\",\"resposta\",\"tudo\",\"estaria\",\"alckmin\",\"junto\",\"comentario\",\"ignorante\",\"entende\",\"falando\",\"encontrou\",\"va\",\"estudar\",\"evite\",\"ficar\",\"crescer\",\"honesto\",\"ia\",\"jeito\",\"faz\",\"besta\",\"corte\",\"tributos\",\"repasse\",\"zerarem\",\"ocorre\",\"menos\",\"4\",\"objetivo\",\"visto\",\"obstaculo\",\"fonte\",\"folha\",\"postar\",\"aki\",\"bahia\",\"anda\",\"batendo\",\"novidade\",\"acreditando\",\"pesquisas\",\"tentativa\",\"medidas\",\"meramente\",\"eleitoreiras\",\"fim\",\"diminuir\",\"midia\",\"burrice\",\"limites\",\"perdeu\",\"doria\",\"governador\",\"anunciam\",\"reduz\",\"estado\",\"condicao\",\"enfrentar\",\"devaneios\",\"necessariamente\",\"ricos\",\"centro\",\"sul\",\"visao\",\"gestao\",\"fiscal\",\"ente\",\"burro\",\"mano\",\"campanha\",\"amiguinha\",\"plantao\",\"viu\",\"papel\",\"prostituta\",\"apocalipse\",\"fazem\",\"guerra\",\"2\",\"lados\",\"22pra\",\"enterrar\",\"desgraca\",\"maisbrasil\",\"virus\",\"ressarcir\",\"entender\",\"impeachment\",\"articulou\",\"recorde\",\"87\",\"bilhoes\",\"tirado\",\"tirar\",\"emendas\",\"orcamento\",\"secreto\",\"paga\",\"salario\",\"desta\",\"bando\",\"safado\",\"arrebentar\",\"maximo\",\"cair\",\"corrupto\",\"preso\",\"grande\",\"miliciano\",\"senhor\",\"pensa\",\"projeto\",\"pessoal\",\"longe\",\"postura\",\"equilibrio\",\"atua\",\"proximo\",\"demandas\",\"oxi\",\"aqui\",\"velhinho\",\"vizinho\",\"vira\",\"demonio\",\"compreender\",\"opcao\",\"frente\",\"economica\",\"moral\",\"causado\",\"icone\",\"carreira\",\"militar\",\"ministro\",\"terrivelmente\",\"evangelico\",\"mendonca\",\"oq\",\"fale\",\"nunes\",\"marques\",\"liberou\",\"alguma\",\"condenacao\",\"tao\",\"absurdo\",\"caso\",\"bandido\",\"descondenado\",\"indicados\",\"precisando\",\"tratamento\",\"mental\",\"alzheimer\",\"precisa\",\"mandar\",\"venezuela\",\"cuba\",\"experiencia\",\"tendo\",\"inflacao\",\"perseguindo\",\"conhecimento\",\"vida\",\"tira\",\"educacao\",\"ciencia\",\"significa\",\"diminuicao\",\"eleitorado\",\"milhao\",\"novas\",\"registradas\",\"durante\",\"odiado\",\"luz\",\"trevas\",\"odeiam\",\"pastel\",\"cai\",\"ceu\",\"segurando\",\"flavio\",\"jose\",\"vinculo\",\"existe\",\"zero\",\"furado\",\"genocidas\",\"defender\",\"governadores\",\"incapazes\",\"fechar\",\"contas\",\"azul\",\"precisar\",\"recorrer\",\"exatamente\",\"bancar\",\"bondade\",\"socialista\",\"voces\",\"esquecem\",\"lixo\",\"sucateou\",\"querem\",\"posar\",\"herois\",\"solucao\",\"magica\",\"fizeram\",\"16\",\"lascar\",\"verdadeiramente\",\"preocupado\",\"equipe\",\"ficou\",\"revoltado\",\"ultimo\",\"esperava\",\"apoio\",\"macico\",\"apoiariam\",\"ocorreu\",\"inverso\",\"sofre\",\"pele\",\"descaso\",\"assim\",\"botando\",\"pilha\",\"apoiar\",\"jb\",\"cade\",\"discurso\",\"brasilia\",\"principal\",\"arrecadacao\",\"quebrar\",\"municipios\",\"dependem\",\"repasses\",\"estaduais\",\"hipocrita\",\"demagogo\",\"consegue\",\"passar\",\"incompetencia\",\"perigo\",\"ameacar\",\"castigo\",\"fodase\",\"camarote\",\"salvar\",\"arrumar\",\"motivo\",\"criticar\",\"aderir\",\"mundial\",\"cortou\",\"mentiroso\",\"liga\",\"verdades\",\"assaltando\",\"cofres\",\"ganhe\",\"ano\",\"estara\",\"completamente\",\"arrombado\",\"britanico\",\"tocando\",\"terror\",\"achar\",\"jornalista\",\"ingles\",\"desaparecido\",\"amazonia\",\"cidadao\",\"reino\",\"unido\",\"barbara\",\"fact\",\"check\",\"remedio\",\"solicitado\",\"esquerdalha\",\"especialistas\",\"invisiveis\",\"ignorancia\",\"portal\",\"transferencia\",\"gasta\",\"lacaio\",\"dignidade\",\"digo\",\"poste\",\"urnas\",\"investigado\",\"criticas\",\"crimes\",\"destroi\",\"publica\",\"simpatiza\",\"caralho\",\"maluco\",\"foto\",\"camisa\",\"falha\",\"bolsominion\",\"babao\",\"quiser\",\"posso\",\"auxilio\",\"tido\",\"ficha\",\"suja\",\"peca\",\"verificar\",\"procurar\",\"orgao\",\"competente\",\"roubar\",\"falecida\",\"aprende\",\"cabeludo\",\"resto\",\"esperma\",\"mendigo\",\"live\",\"mim\",\"aparece\",\"cortada\",\"estranho\",\"votou\",\"assume\",\"reacionario\",\"ultima\",\"liberdade\",\"ocidente\",\"caira\",\"jeff\",\"analista\",\"politico\",\"americano\",\"escritor\",\"tumultuar\",\"morria\",\"covid\",\"disse\",\"pesa\",\"arroba\",\"deputada\",\"merecia\",\"estuprada\",\"feia\",\"absurdos\",\"boca\",\"mando\",\"daqui\",\"continuamos\",\"apoiando\",\"felipe\",\"feto\",\"tiago\",\"urna\",\"discipulo\",\"entendimento\",\"centrao\",\"voltou\",\"volta\",\"queria\",\"futuro\",\"bater\",\"muro\",\"100\",\"imposto\",\"positivo\",\"esquece\",\"velho\",\"obsessao\",\"ficando\",\"chato\",\"foca\",\"pes\",\"nenhuma\",\"encantado\",\"consequencias\",\"sofrendo\",\"calculos\",\"tbm\",\"enquanto\",\"sobrevive\",\"emergencial\",\"lulinha\",\"usar\",\"oitava\",\"maravilha\",\"moderno\",\"complicado\",\"pobres\",\"hospital\",\"particular\",\"odeia\",\"pobre\",\"tanto\",\"sigam\",\"nasal\",\"doenca\",\"19\",\"vacina\",\"aplicacao\",\"estudo\",\"2021\",\"prevenir\",\"possibilidade\",\"evolucao\",\"grave\",\"contaminar\",\"diferentes\",\"tristeza\",\"deram\",\"golpe\",\"impacto\",\"subsidio\",\"carro\",\"subsidiar\",\"medida\",\"engana\",\"populacao\",\"transferir\",\"aluno\",\"turma\",\"instituiu\",\"ppi\",\"coragem\",\"mudar\",\"estoques\",\"existiam\",\"criou\",\"fundo\",\"existem\",\"varios\",\"paises\",\"compensacao\",\"aumentos\",\"fortalezace\",\"reduto\",\"presidiario\",\"andando\",\"inumeras\",\"bandeiras\",\"qur\",\"motociata\",\"familias\",\"hino\",\"manobra\",\"eleitoreira\",\"partir\",\"vagabunda\",\"lola\",\"torta\",\"gostosa\",\"paz\",\"queiroz\",\"velada\",\"familicia\",\"receba\",\"candidatura\",\"wassef\",\"sombra\",\"coletiva\",\"sinais\",\"acredito\",\"liberal\",\"conservador\",\"bobao\",\"gabinete\",\"copiou\",\"espantar\",\"eleitores\",\"epico\",\"responsabilidade\",\"rolar\",\"pega\",\"dedo\",\"aponte\",\"primeira\",\"vejo\",\"cortar\",\"queres\",\"questao\",\"mal\",\"coloca\",\"obvio\",\"existiria\",\"existiu\",\"trump\",\"apos\",\"obama\",\"tolo\",\"levantar\",\"antipatia\",\"ptlula\",\"ganho\",\"doido\",\"inventando\",\"indo\",\"dose\",\"definitivamente\",\"rasgar\",\"levada\",\"mercado\",\"informal\",\"itens\",\"cama\",\"mesa\",\"banho\",\"toalhas\",\"candidatos\",\"embate\",\"militancias\",\"tentam\",\"descobrir\",\"quase\",\"pf\",\"descobriu\",\"1993\",\"pedi\",\"prisao\",\"turnos\",\"querendo\",\"botar\",\"migue\",\"lacradora\",\"top\",\"bosta\",\"twitter\",\"tatico\",\"corja\",\"malditos\",\"trocar\",\"efeito\",\"menor\",\"parar\",\"difamar\",\"lulaminion\",\"ganhou\",\"devido\",\"fake\",\"news\",\"rsrs\",\"vontade\",\"colocar\",\"vento\",\"tocam\",\"gosta\",\"casaca\",\"querido\",\"chinesa\",\"fina\",\"pagando\",\"hahahahah\",\"sinal\",\"declarou\",\"ilegal\",\"sabia\",\"viver\",\"eua\",\"dados\",\"receita\",\"logo\",\"imigrantes\",\"basico\",\"pago\",\"veio\",\"morar\",\"estrategista\",\"demais\",\"aula\",\"atras\",\"contorcendo\",\"inventar\",\"desculpas\",\"socorrer\",\"hj\",\"trabalho\",\"criatividade\",\"sustentar\",\"petroleo\",\"fronteira\",\"abastecer\",\"argentino\",\"media\",\"45\",\"haddad\",\"abaixo\",\"df\",\"massivamente\",\"58\",\"11\",\"la\",\"42\",\"35\",\"extremamente\",\"insuportavel\",\"td\",\"burra\",\"manter\",\"caros\",\"ganhando\",\"esvazia\",\"alimenta\",\"ferra\",\"eliminar\",\"acham\",\"viavel\",\"opcoes\",\"apresentadas\",\"datafoice\",\"feira\",\"sinto\",\"obrigacao\",\"patriotica\",\"xingar\",\"ata\",\"entendi\",\"grita\",\"feliz\",\"foder\",\"vermes\",\"regiao\",\"norte\",\"conhecem\",\"poha\",\"selva\",\"amazonica\",\"ficam\",\"colocando\",\"redes\",\"sociais\",\"vagabundos\",\"protecao\",\"bacia\",\"mete\",\"onisciente\",\"imagina\",\"anunciou\",\"phoda\",\"comunistas\",\"cretinos\",\"supositorio\",\"cool\",\"kakakaka\",\"coluna\",\"exclusivamente\",\"envolvido\",\"pensou\",\"colunistas\",\"fazerem\",\"terapia\",\"sugestao\",\"pauta\",\"imaginem\",\"chamasse\",\"moleque\",\"ameacasse\",\"jogalo\",\"janela\",\"exprefeito\",\"belo\",\"horizonte\",\"estrela\",\"ocupados\",\"saco\",\"criar\",\"conspiracao\",\"podem\",\"mes\",\"varias\",\"obras\",\"inacabadas\",\"reduzirem\",\"explicar\",\"saira\",\"verba\",\"aw\",\"seguiu\",\"saidas\",\"bebianno\",\"santos\",\"cruz\",\"mandett\",\"mor\",\"0\",\"joice\",\"trairas\",\"lamentavelmente\",\"exonerado\",\"conforme\",\"relatou\",\"nome\",\"harmonia\",\"veia\",\"orgulho\",\"50\",\"bi\",\"rabo\",\"pagadores\",\"acorda\",\"entregar\",\"chaves\",\"ladroes\",\"decidirem\",\"iniciativa\",\"garantida\",\"rapidamente\",\"congresso\",\"porra\",\"acredita\",\"outra\",\"alem\",\"li\",\"confia\",\"citou\",\"faca\",\"desentendido\",\"fachin\",\"deveria\",\"considerar\",\"impedido\",\"desespero\",\"esquerdista\",\"sabendo\",\"nota\",\"bolso\",\"blog\",\"noblat\",\"dias\",\"teto\",\"gastos\",\"cervejinha\",\"carne\",\"puta\",\"ladrao\",\"ama\",\"ira\",\"perdoar\",\"divida\",\"rouanet\",\"declarar\",\"lidar\",\"merdas\",\"surpreende\",\"enganou\",\"cortando\",\"receitas\",\"baratear\",\"seguem\",\"omissos\",\"importa\",\"atestado\",\"chamar\",\"exclusivo\",\"jamais\",\"vi\",\"preocupar\",\"fazendo\",\"concluir\",\"importante\",\"outrora\",\"verbas\",\"pre\",\"ataca\",\"todas\",\"pontas\",\"armou\",\"troco\",\"chegou\",\"comecou\",\"calar\",\"sabiamos\",\"isencao\",\"rj\",\"reduzira\",\"fantasticos\",\"centavos\",\"xepa\",\"presenciando\",\"confirma\",\"apoia\",\"tortura\",\"gloria\",\"aspirante\",\"cargo\",\"votem\",\"nessa\",\"sra\",\"tenta\",\"acordo\",\"29\",\"preciso\",\"ensinar\",\"matematica\",\"ruas\",\"miseria\",\"estaremos\",\"luta\",\"lutar\",\"libera\",\"pis\",\"comeco\",\"votaram\",\"show\",\"decisoes\",\"sensatas\",\"inteligentes\",\"tomadas\",\"chega\",\"esqueletos\",\"espalhadas\",\"br\",\"respeito\",\"2023\",\"grito\",\"destruiram\",\"concorrentes\",\"viaveis\",\"cuide\",\"sujos\",\"anular\",\"retrocesso\",\"exibido\",\"fantastico\",\"comprar\",\"vagal\",\"movimento\",\"moro\",\"exministro\",\"capital\",\"mineira\",\"inaugurar\",\"plataforma\",\"lavajatistas\",\"aposto\",\"bolivia\",\"forcas\",\"invasao\",\"livrar\",\"comunismo\",\"u\",\"inteligentao\",\"intencao\",\"sugiro\",\"tratar\",\"boatos\",\"fotos\",\"reuniao\",\"faria\",\"confere\",\"curso\",\"normal\",\"aecio\",\"gerais\",\"lava\",\"jato\",\"psdb\",\"elite\",\"burguesa\",\"golpista\",\"contexto\",\"externo\",\"dep\",\"sen\",\"apoiarem\",\"enganam\",\"eleitor\",\"recursos\",\"previsao\",\"orar\",\"entrarem\",\"acao\",\"bomba\",\"gigante\",\"armada\",\"colo\",\"aceitarem\",\"tera\",\"alto\",\"viloes\",\"altos\",\"tic\",\"tac\",\"entanto\",\"vetou\",\"dava\",\"representante\",\"oab\",\"impedir\",\"provas\",\"relacionadas\",\"investigacao\",\"retiradas\",\"escritorio\",\"advocacia\",\"cumprimento\",\"busca\",\"apreensao\",\"terminaram\",\"abandona\",\"prova\",\"contundente\",\"garimpeiros\",\"desaparecidos\",\"pessoalmente\",\"avioes\",\"forca\",\"aerea\",\"exercito\",\"nacional\",\"rouba\",\"retrato\",\"atrasado\",\"nesta\",\"segundafeira\",\"66\",\"xeque\",\"mate\",\"pense\",\"dupla\",\"chorar\",\"bastante\",\"isolamento\",\"papuda\",\"presidios\",\"masculino\",\"feminino\",\"friburgo\",\"nikolas\",\"ferreira\",\"criticou\",\"homenagem\",\"vereadora\",\"psol\",\"cidade\",\"brilhante\",\"ustra\",\"torturador\",\"ditadura\",\"celebrado\",\"dilma\",\"citar\",\"time\",\"assinou\",\"flamengo\",\"unicos\",\"concordar\",\"calendario\",\"escreveu\",\"carta\",\"repudio\",\"times\",\"situacao\",\"pau\",\"chico\",\"francisco\",\"propondo\",\"incapaz\",\"cumprir\",\"moco\",\"acabe\",\"irem\",\"instituicao\",\"existir\",\"5\",\"marielle\",\"franco\",\"evento\",\"realizado\",\"porto\",\"alegre\",\"atribuiu\",\"assassinato\",\"pudor\",\"matado\",\"pesadelo\",\"criminosos\",\"especie\",\"oposto\",\"declarada\",\"inocentes\",\"uteis\",\"militancia\",\"chamam\",\"weintraub\",\"patati\",\"patata\",\"cartel\",\"cupulas\",\"siglas\",\"deliberadamente\",\"infestadas\",\"raposas\",\"esquerdistas\",\"milita\",\"expresidenta\",\"atacada\",\"misogina\",\"comparando\",\"aparencia\",\"caricatura\",\"realizada\",\"frank\",\"hoppmann\",\"premiada\",\"world\",\"press\",\"cartoon\",\"publicada\",\"originalmente\",\"jornal\",\"paradox\",\"bandidos\",\"podiam\",\"andar\",\"imundos\",\"acabaram\",\"jumento\",\"idolatra\",\"salvador\",\"patria\",\"venha\",\"proprio\",\"bene\",\"largou\",\"memoria\",\"governos\",\"anteriores\",\"atual\",\"interessados\",\"compara\",\"taxa\",\"desemprego\",\"trimestre\",\"sargento\",\"mb\",\"ruim\",\"tacar\",\"testa\",\"fique\",\"real\",\"sido\",\"moeda\",\"desvalorizada\",\"tragedia\",\"ganhasse\",\"eleicoes\",\"vista\",\"disposto\",\"cometer\",\"mesmos\",\"erros\",\"2026\",\"teriamos\",\"talvez\",\"prioridade\",\"lembrar\",\"colocou\",\"filhos\",\"compram\",\"mansao\",\"ganham\",\"presentes\",\"passeando\",\"moto\",\"inves\",\"10\",\"economia\",\"bateu\",\"percebeu\",\"bilionarios\",\"revelados\",\"muitos\",\"culpar\",\"votamos\",\"nulo\",\"rir\",\"caindo\",\"reclamamos\",\"estimacao\",\"oi\",\"floresta\",\"ontem\",\"enviou\",\"aeronave\",\"inferno\",\"cao\",\"tipo\",\"dedinho\",\"pe\",\"quina\",\"cadeira\",\"enlouquecida\",\"obter\",\"popularidade\",\"demonstracao\",\"adiantara\",\"nega\",\"conversa\",\"piorar\",\"parceiro\",\"lideres\",\"religiosos\",\"promover\",\"plena\",\"agradeceu\",\"milionarios\",\"trabalhadores\",\"minimo\",\"canalha\",\"costas\",\"prefeitos\",\"fatos\",\"neste\",\"quadro\",\"entrada\",\"concordo\",\"asseclas\",\"falaram\",\"letras\",\"vencera\",\"cadaver\",\"min\",\"barroso\",\"votos\",\"somente\",\"armadas\",\"brasileiras\",\"continue\",\"votando\",\"conviccao\",\"birra\",\"segure\",\"bo\",\"enfrente\",\"militantes\",\"jornalismo\",\"uns\",\"cancelarem\",\"ramagem\",\"vivendas\",\"barra\",\"pesada\",\"treta\",\"perdidos\",\"correr\",\"economistas\",\"atores\",\"sozinho\",\"acordou\",\"renascer\",\"coracao\",\"proteja\",\"plano\",\"moleques\",\"divirto\",\"provocando\",\"ambos\",\"mitos\",\"divertido\",\"tranquilo\",\"votarei\",\"13\",\"colados\",\"planalto\",\"gilberto\",\"leda\",\"acabava\",\"bate\",\"anticonstitucional\",\"baixa\",\"intuito\",\"convocou\",\"mostrou\",\"alinhado\",\"slogan\",\"referencia\",\"descontrole\",\"limita\",\"epoca\",\"caixa\",\"numeros\",\"tamanho\",\"pagar\",\"final\",\"aumentar\",\"reclama\",\"incomoda\",\"establishment\",\"estuda\",\"professor\",\"ignorantes\",\"burros\",\"rlx\",\"preferido\",\"passou\",\"deixem\",\"moda\",\"devia\",\"unica\",\"mole\",\"acalma\",\"tras\",\"alivio\",\"maioria\",\"enxerga\",\"realidade\",\"vermos\",\"conhece\",\"social\",\"conservadores\",\"lembra\",\"agiota\",\"cartao\",\"renan\",\"primeiros\",\"tentando\",\"justificativa\",\"perfeita\",\"portando\",\"fascista\",\"individuo\",\"seguro\",\"armado\",\"desarmado\",\"compra\",\"age\",\"buscar\",\"agro\",\"agua\",\"ferrovia\",\"ponte\",\"aeroporto\",\"emprego\",\"asfalto\",\"digitalizacao\",\"estatais\",\"cnh\",\"wifi\",\"pix\",\"5g\",\"seguranca\",\"escola\",\"ipi\",\"criancas\",\"anjos\",\"aura\",\"crianca\",\"alma\",\"supremo\",\"toma\",\"refinaria\",\"aumentou\",\"acima\",\"liberar\",\"podermos\",\"russia\",\"noia\",\"cilada\",\"desgoverno\",\"nasceu\",\"cena\",\"patetica\",\"ridicula\",\"cego\",\"tiroteio\",\"bonito\",\"america\",\"latina\",\"quintal\",\"afirma\",\"chines\",\"cupula\",\"americas\",\"piores\",\"vigarista\",\"bravata\",\"despesa\",\"tirando\",\"chamando\",\"avancar\",\"estabilidade\",\"indignacao\",\"ameacado\",\"revelar\",\"esquema\",\"falsas\",\"sintomatico\",\"previa\",\"diretrizes\",\"vacinacao\",\"sp\",\"marcos\",\"pontes\",\"apresentou\",\"prometeu\",\"olhadinha\",\"vera\",\"reportagem\",\"autentico\",\"enem\",\"redacao\",\"infinita\",\"questoes\",\"elitista\",\"cotas\",\"suficientes\",\"gerar\",\"equidade\",\"entrou\",\"sanguessugas\",\"sangue\",\"sagrado\",\"tarcisio\",\"queremos\",\"afunda\",\"corta\",\"propria\",\"merecem\",\"lingua\",\"osso\",\"consigo\",\"escutar\",\"pedrinho\",\"pressionam\",\"assinar\",\"declaracao\",\"ambiente\",\"texto\",\"defendido\",\"biden\",\"perderia\",\"sentido\",\"uol\",\"esboco\",\"acontecer\",\"psicopata\",\"voltara\",\"26\",\"sairemos\",\"ciclo\",\"infernal\",\"reflexao\",\"isentoes\",\"liberais\",\"raivinha\",\"nojinho\",\"podera\",\"concorrer\",\"sucessor\",\"fruto\",\"gonverno\",\"seguidores\",\"mata\",\"atoa\",\"amando\",\"ue\",\"facada\",\"titulos\",\"distribuidos\",\"verdadeiros\",\"mst\",\"invadir\",\"terras\",\"assista\",\"vivo\",\"youtube\",\"cubana\",\"grossa\",\"mude\",\"imagem\",\"irao\",\"pedir\",\"2024\",\"lembrese\",\"cidades\",\"saneamento\",\"energia\",\"gastam\",\"shows\",\"sertanejos\",\"verdadeira\",\"fazemos\",\"carioca\",\"odiosa\",\"invejosa\",\"caluniosa\",\"acompanha\",\"irmaos\",\"conseguirao\",\"lamento\",\"frustracoes\",\"ostracismo\",\"desses\",\"dura\",\"apoiado\",\"pagou\",\"chapa\",\"amp\",\"chuchu\",\"divulgou\",\"decide\",\"cerebro\",\"bolha\",\"china\",\"numero\",\"sinceramente\",\"flow\",\"podcast\",\"tanta\",\"falada\",\"minuto\",\"ultimamente\",\"terem\",\"nocao\",\"kkkkk\",\"sendo\",\"enganado\",\"lutaram\",\"abandonaram\",\"lida\",\"nisto\",\"alegar\",\"votaria\",\"atacar\",\"prejudica\",\"preparo\",\"enriquecer\",\"brasileira\",\"tava\",\"bebado\",\"dou\",\"ventura\",\"usado\",\"27\",\"perguntinha\",\"tola\",\"smp\",\"preferir\",\"silenciar\",\"fugir\",\"alertar\",\"falsa\",\"equivalencia\",\"ridiculo\",\"risada\",\"agente\",\"007\",\"lei\",\"4188\",\"aprovou\",\"banco\",\"devendo\",\"2019\",\"ampla\",\"defesa\",\"dez\",\"tweet\",\"melhoria\",\"perderam\",\"chuva\",\"verm\",\"asqueroso\",\"copiando\",\"corrente\",\"faziam\",\"conversas\",\"fico\",\"quieto\",\"raiva\",\"partidos\",\"internas\",\"dando\",\"estadual\",\"garoto\",\"estude\",\"aprovar\",\"maluquice\",\"refem\",\"esforcado\",\"resta\",\"sensibilidade\",\"deveriam\",\"colaborar\",\"ilumine\",\"juntem\",\"abriu\",\"preta\",\"podre\",\"copiado\",\"dormir\",\"destruir\",\"facial\",\"falado\",\"man\",\"qq\",\"conteudo\",\"parecido\",\"dizia\",\"alega\",\"digna\",\"credito\",\"aponta\",\"suposta\",\"especialmente\",\"focar\",\"aprovado\",\"depende\",\"totalmente\",\"esquerdinha\",\"completo\",\"anti\",\"bolsonaroos\",\"lixos\",\"baiano\",\"gravou\",\"meno\",\"cantando\",\"aaa\",\"investimentos\",\"geracao\",\"empregos\",\"provavel\",\"reduza\",\"metade\",\"investir\",\"calma\",\"estadista\",\"ideia\",\"resistencia\",\"realiza\",\"ataques\",\"eletronicas\",\"ameacas\",\"feio\",\"171\",\"verso\",\"famosos\",\"perdido\",\"boquinha\",\"datapovo\",\"crescendo\",\"resolve\",\"mega\",\"empresarios\",\"israelense\",\"exocd\",\"24\",\"erradicar\",\"tempestade\",\"pacientes\",\"moderados\",\"graves\",\"procura\",\"evitar\",\"comeca\",\"ess\",\"antidoto\",\"reduziu\",\"aquisicao\",\"alimentos\",\"agricultura\",\"familiar\",\"voltada\",\"alimentar\",\"camadas\",\"chamo\",\"duplamente\",\"internacional\",\"elogia\",\"narrativas\",\"tendenciosas\",\"mentirosas\",\"editora\",\"reporter\",\"site\",\"foco\",\"ameacados\",\"pessoais\",\"vazados\",\"integram\",\"producao\",\"disseminacao\",\"massa\",\"forum\",\"comecarem\",\"filhas\",\"juro\",\"transformou\",\"circo\",\"pao\",\"06062022\",\"detalhes\",\"felizes\",\"co\",\"desculpinha\",\"justificar\",\"parou\",\"naquela\",\"curva\",\"chamada\",\"tempao\",\"sentado\",\"desprezivel\",\"maldito\",\"praga\",\"destruindo\",\"cedo\",\"resolvesse\",\"semana\",\"canal\",\"whatsapp\",\"222\",\"nego\",\"puder\",\"carochinha\",\"botou\",\"abaixar\",\"admitiu\",\"piada\",\"comparar\",\"modelo\",\"gov\",\"mau\",\"curta\",\"cagadas\",\"principalmente\",\"bora\",\"refrescar\",\"mostrar\",\"hipocrisia\",\"lulista\",\"ca\",\"estimado\",\"diga\",\"aspecto\",\"destacou\",\"3\",\"nordeste\",\"vendidas\",\"8\",\"duas\",\"valido\",\"enquete\",\"bonitao\",\"sensacional\",\"presta\",\"atencao\",\"militarismo\",\"sobreviver\",\"irresponsavel\",\"fio\",\"continua\",\"agindo\",\"avisar\",\"faltam\",\"208\",\"vingar\",\"fudendo\",\"sozinha\",\"petralhas\",\"fundos\",\"pensoes\",\"correios\",\"deixaram\",\"frangalhos\",\"cancer\",\"lavar\",\"segurou\",\"escreve\",\"gracas\",\"policia\",\"inutil\",\"rsrsrs\",\"imposicao\",\"uniao\",\"derrotado\",\"corrida\",\"presidencial\",\"hitler\",\"impossivel\",\"papagaio\",\"inveja\",\"foda\",\"quebrou\",\"fazia\",\"prometida\",\"acontecia\",\"balsas\",\"apareceu\",\"quebrando\",\"perai\",\"ignorar\",\"vive\",\"desmandos\",\"parlamentares\",\"inteligencia\",\"senso\",\"silencio\",\"jogado\",\"lama\",\"incrivelmente\",\"saiba\",\"deixar\",\"liberacao\",\"urgencia\",\"use\",\"dividendos\",\"pagos\",\"devolvendo\",\"bonus\",\"duvido\",\"milicianos\",\"mataram\",\"levo\",\"fichinha\",\"perto\",\"estrago\",\"faltava\",\"exjuiz\",\"justica\",\"presidenciavel\",\"exfiliado\",\"curriculo\",\"posicao\",\"juizo\",\"valor\",\"contato\",\"pegam\",\"janja\",\"pegaram\",\"saem\",\"multidoes\",\"tai\",\"integro\",\"morreu\",\"mao\",\"ronaldo\",\"caiado\",\"cumpre\",\"promessa\",\"sigo\",\"recomendo\",\"amiga\",\"apoiadora\",\"grata\",\"fundamental\",\"seguirmos\",\"rumo\",\"escravizado\",\"by\",\"mt\",\"triste\",\"considerando\",\"cadeia\",\"fa\",\"decepcao\",\"imagine\",\"democrata\",\"tres\",\"poderes\",\"velocidade\",\"violencia\",\"nove\",\"financia\",\"trabalha\",\"engano\",\"notou\",\"niveis\",\"merece\",\"difamado\",\"cancelamento\",\"porem\",\"malucos\",\"usam\",\"alienar\",\"fieis\",\"critica\",\"cortes\",\"criticado\",\"pleno\",\"ansia\",\"vomito\",\"conhecesse\",\"hoc\",\"saberia\",\"votara\",\"ufa\",\"aviao\",\"soubessem\",\"problemas\",\"central\",\"bancos\",\"voltasse\",\"funcionarios\",\"greve\",\"sonha\",\"suportar\",\"impactar\",\"viagra\",\"leite\",\"condensado\",\"ajudar\",\"tomara\",\"siga\",\"adiante\",\"chegue\",\"consumidor\",\"fda\",\"xadrez\",\"senadores\",\"bolsonaroguedes\",\"comece\",\"honesta\",\"salva\",\"agronegocio\",\"industria\",\"compete\",\"fodeu\",\"relacao\",\"potencia\",\"soja\",\"vulgo\",\"perspectiva\",\"putin\",\"fertilizantes\",\"devolver\",\"fertilizante\",\"calca\",\"apertada\",\"cangaciro\",\"larapio\",\"deitado\",\"ar\",\"interessa\",\"presos\",\"troca\",\"favores\",\"colocaram\",\"fznd\",\"anciao\",\"isola\",\"quantas\",\"ligacoes\",\"cabulosas\",\"feitas\",\"mensagem\",\"ligacao\",\"sigilo\",\"oque\",\"escuro\",\"tmj\",\"kim\",\"d\",\"paim\",\"chupa\",\"samy\",\"dana\",\"benchimol\",\"xp\",\"lulers\",\"ultimos\",\"40\",\"dezembro\",\"valorizam\",\"portugal\",\"alerta\",\"protesto\",\"vistas\",\"defendeu\",\"fevereiro\",\"lembram\",\"pegou\",\"aleatoria\",\"comecar\",\"influencia\",\"baita\",\"fudeu\",\"cabo\",\"daciolo\",\"rapaziada\",\"confirmado\",\"dialogos\",\"cabulosos\",\"responder\",\"infelizmente\",\"volte\",\"instagram\",\"ctz\",\"transferiu\",\"fortuna\",\"investiu\",\"r\",\"400\",\"bolsa\",\"terminou\",\"baixarem\",\"junho\",\"nabil\",\"bonduki\",\"barrado\",\"legiao\",\"semteto\",\"crescera\",\"votariam\",\"aceita\",\"doer\",\"meia\",\"hora\",\"relogio\",\"vivendo\",\"completa\",\"alienacao\",\"qnt\",\"desfazer\",\"sente\",\"nojo\",\"pernambuco\",\"nordestino\",\"chata\",\"promete\",\"auxiliar\",\"vitimas\",\"enchente\",\"espera\",\"otario\",\"ponto\",\"escandalo\",\"calheiros\",\"randolfe\",\"rodrigues\",\"inedito\",\"sabemos\",\"apesar\",\"stftse\",\"atingir\",\"diariamente\",\"soltar\",\"elegivel\",\"deixalo\",\"terao\",\"admitir\",\"confiante\",\"sujeito\",\"arrega\",\"donos\",\"expresidente\",\"legais\",\"apoialo\",\"criticalo\",\"ceus\",\"proteger\",\"protege\",\"permitira\",\"guarda\",\"responde\",\"teme\",\"atentado\",\"extraordinarios\",\"pm\",\"permitir\",\"posto\",\"sumico\",\"fascismo\",\"vivemos\",\"reciproca\",\"disser\",\"iguais\",\"pleito\",\"mandato\",\"achou\",\"servico\",\"vale\",\"picuinha\",\"emergenciais\",\"efeitos\",\"sossega\",\"tire\",\"ferias\",\"aumentam\",\"povos\",\"indigenas\",\"veta\",\"04\",\"maio\",\"alteracao\",\"indio\",\"decidir\",\"endossar\",\"barbarie\",\"responsavel\",\"arranje\",\"pretextos\",\"representa\",\"peso\",\"escolha\",\"socorreu\",\"700\",\"reais\",\"amarelar\",\"distribuiu\",\"politicas\",\"publicas\",\"gastou\",\"corporativo\",\"grao\",\"livrando\",\"estender\",\"quais\",\"taria\",\"cometendo\",\"estariam\",\"cometidos\",\"desrespeito\",\"representando\",\"apostar\",\"1o\",\"advogados\",\"ps\",\"segurar\",\"votacao\",\"barato\",\"calunia\",\"2017\",\"levou\",\"palavra\",\"encontrar\",\"ativista\",\"denunciar\",\"mineiros\",\"grileiros\",\"madeireiros\",\"ilegais\",\"cometem\",\"bencao\",\"representaram\",\"produziram\",\"qr\",\"pena\",\"tratado\",\"burrinho\",\"carla\",\"zambelli\",\"fundao\",\"derrubou\",\"veto\",\"estrategia\",\"rebanho\",\"derrubarem\",\"estagiario\",\"baseado\",\"coisas\",\"concreta\",\"razoes\",\"juridicas\",\"reservas\",\"01\",\"dado\",\"margem\",\"original\",\"grilagem\",\"correndo\",\"duvidam\",\"comum\",\"topo\",\"faco\",\"graca\",\"unindo\",\"cala\",\"talkei\",\"lacradores\",\"chorando\",\"sei\",\"qlqr\",\"reu\",\"primario\",\"continuou\",\"manchada\",\"injusta\",\"lindo\",\"perfeito\",\"ali\",\"inteiro\",\"asneira\",\"alias\",\"32\",\"desviados\",\"esposa\",\"bandida\",\"sa\",\"consciencia\",\"achava\",\"mlk\",\"respeita\",\"dessas\",\"paradas\",\"valia\",\"espanhola\",\"aposta\",\"sob\",\"avancam\",\"tomamos\",\"empresa\",\"elogio\",\"zoando\",\"ameacando\",\"gostinho\",\"indicar\",\"vamo\",\"pagina\",\"hentai\",\"censurado\",\"faltou\",\"improviso\",\"padre\",\"maiores\",\"atrasar\",\"oficiais\",\"divulgados\",\"dificultando\",\"divulgacao\",\"forcando\",\"veiculos\",\"secretarias\",\"normalizado\",\"comite\",\"avaliar\",\"desmatamento\",\"ibama\",\"icmbio\",\"organizacoes\",\"ambientais\",\"zoar\",\"batata\",\"quente\",\"preocupacao\",\"industrias\",\"daquilo\",\"culpado\",\"tributacao\",\"marco\",\"passado\",\"120\",\"cartada\",\"populista\",\"nazista\",\"discursa\",\"menospreza\",\"genero\",\"vozes\",\"une\",\"derrotar\",\"247\",\"percentual\",\"subsidios\",\"deficits\",\"visse\",\"iremos\",\"desesperado\",\"simplificacao\",\"miope\",\"oportunista\",\"surtos\",\"ascensao\",\"extremadireita\",\"fenomeno\",\"elegeram\",\"governou\",\"moedas\",\"cairam\",\"sofreu\",\"queda\",\"muda\",\"dom\",\"phillips\",\"bruno\",\"pereira\",\"sertaneja\",\"marinha\",\"aeronautica\",\"desviado\",\"eventual\",\"discutindo\",\"deixou\",\"perfil\",\"macumba\",\"forcar\",\"garantia\",\"conivente\",\"candidatar\",\"estudei\",\"cheguei\",\"prisoes\",\"injustas\",\"conhecido\",\"injustamente\",\"solto\",\"processou\",\"leiase\",\"amanha\",\"comprou\",\"negar\",\"trabalhou\",\"casou\",\"cristao\",\"jesus\",\"campo\",\"democratico\",\"preconceito\",\"machismo\",\"homofobia\",\"humano\",\"personagens\",\"avanca\",\"inclui\",\"condenado\",\"etica\",\"incentivar\",\"garimpo\",\"cardeal\",\"abomina\",\"homossexuais\",\"come\",\"travesti\",\"escondido\",\"monogamia\",\"mimimi\",\"corno\",\"carente\",\"serve\",\"transar\",\"pipipi\",\"thread\",\"gigantesca\",\"cheia\",\"mentiu\",\"bobos\",\"acreditam\",\"escrevi\",\"pare\",\"contraditorio\",\"capitao\",\"tanque\",\"bota\",\"tora\",\"estudante\",\"cubano\",\"jaja\",\"repetidas\",\"pres\",\"havia\",\"suportam\",\"lgbts\",\"engavetado\",\"demora\",\"tf\",\"atrapalham\",\"jogo\",\"acreditava\",\"sobrinho\",\"convenceu\",\"viajar\",\"350\",\"km\",\"investimento\",\"esperando\",\"insiste\",\"2002\",\"2006\",\"2010\",\"2014\",\"fortes\",\"superar\",\"senhores\",\"geral\",\"prf\",\"funai\",\"mp\",\"acreditar\",\"nesses\",\"corpos\",\"encontrados\",\"estarao\",\"crivados\",\"flechas\",\"machadadas\",\"indios\",\"assassinos\",\"facil\",\"dificil\",\"privados\",\"covarde\",\"respondo\",\"guarde\",\"pras\",\"infestam\",\"pls\",\"pps\",\"republican\",\"0s\",\"fechados\",\"arrastados\",\"chapas\",\"majoritarias\",\"quociente\",\"seguirem\",\"falir\",\"mona\",\"concentrar\",\"apresentar\",\"parede\",\"aguas\",\"claras\",\"lotado\",\"servidor\",\"soltaram\",\"fogos\",\"custo\",\"comprinha\",\"200\",\"classe\",\"perrengue\",\"previsto\",\"pg\",\"indicacao\",\"rodada\",\"anterior\",\"4000000\",\"compartilhem\",\"estrategicamente\",\"cheque\",\"valores\",\"principios\",\"util\",\"aonde\",\"encontra\",\"atualmente\",\"cuzao\",\"ovo\",\"retirar\",\"bolsonazistas\",\"safra\",\"garantiu\",\"produzir\",\"esterco\",\"enfiando\",\"anderson\",\"nele\",\"cheira\",\"pernambucano\",\"reelegeu\",\"mentirinha\",\"qd\",\"dividas\",\"baratinho\",\"trabalhador\",\"precisam\",\"estudados\",\"sobra\",\"duvidas\",\"mimizentos\",\"militontos\",\"prejudicar\",\"guerrear\",\"prove\",\"desvalorizou\",\"leifert\",\"frouxo\",\"bola\",\"deixarem\",\"lixando\",\"vice\",\"sobrou\",\"palmas\",\"urgentemente\",\"fugindo\",\"mente\",\"cabecinha\",\"atribuicoes\",\"basicas\",\"federativo\",\"ligam\",\"expor\",\"demonios\",\"atrasam\",\"boris\",\"johnson\",\"montanhas\",\"monte\",\"gringo\",\"cansa\",\"beneficiar\",\"perda\",\"arapuca\",\"ajudem\",\"ouco\",\"barulho\",\"correntes\",\"veneno\",\"serpente\",\"washington\",\"farsa\",\"retorica\",\"populismo\",\"congelou\",\"aliquota\",\"definiu\",\"caraca\",\"mai\",\"pio\",\"maconha\",\"planta\",\"droga\",\"dantes\",\"elisa\",\"midias\",\"supremos\",\"atrapalhar\",\"facam\",\"limpa\",\"patota\",\"caro\",\"cem\",\"escancarada\",\"manchete\",\"reduzindo\",\"incomodar\",\"ocupa\",\"esferas\",\"globonews\",\"rato\",\"sairam\",\"esgotos\",\"racista\",\"vtnc\",\"desespera\",\"irresponsabilidade\",\"atender\",\"saqueadores\",\"perdendo\",\"cegueira\",\"ideologica\",\"incrivel\",\"marido\",\"acontecerao\",\"60\",\"entrar\",\"bato\",\"racismo\",\"agradecer\",\"marcar\",\"hehe\",\"gravissimo\",\"desaparecimento\",\"terra\",\"impunidade\",\"gera\",\"tratase\",\"caracteristicas\",\"evoluindo\",\"fases\",\"tecnologias\",\"ciencias\",\"evolui\",\"continuaremos\",\"processo\",\"retrogrado\",\"morrendo\",\"colaterais\",\"poucos\",\"percebemos\",\"evidentemente\",\"haverao\",\"esperamos\",\"refletir\",\"ponta\",\"concluiu\",\"reafirmou\",\"participacao\",\"referente\",\"ministerios\",\"atingiu\",\"meta\",\"dobra\",\"blindou\",\"toga\",\"toninho\",\"mandante\",\"bolsonarentos\",\"fizer\",\"desiste\",\"bombas\",\"acusar\",\"tmb\",\"maravilhosa\",\"publicado\",\"difamando\",\"vivia\",\"zerado\",\"envolvendo\",\"aprovada\",\"cancela\",\"arremedo\",\"ironico\",\"gostaram\",\"aumento\",\"formou\",\"envolvidos\",\"stj\",\"anula\",\"quebra\",\"rachadinhas\",\"estaca\",\"demonstrar\",\"inocencia\",\"macaco\",\"louca\",\"senador\",\"pslrj\",\"lucrou\",\"292\",\"transacoes\",\"imobiliarias\",\"suspeitas\",\"lavagem\",\"aliados\",\"farofa\",\"ligar\",\"data\",\"datafolha\",\"23\",\"risco\",\"morrer\",\"cancelar\",\"cunha\",\"declara\",\"alo\",\"espalhando\",\"aborto\",\"latifundiario\",\"digitos\",\"notado\",\"arrogante\",\"parece\",\"latindo\",\"exaltou\",\"flerta\",\"simbolos\",\"nazistas\",\"defendem\",\"declaradamente\",\"nazifascista\",\"tornei\",\"email\",\"inteligente\",\"convidou\",\"obrigados\",\"publicamente\",\"enrolado\",\"barba\",\"bezerro\",\"apoie\",\"mereca\",\"simpatia\",\"pensei\",\"diria\",\"coitado\",\"origem\",\"chorume\",\"imperador\",\"burr\",\"canetada\",\"excelente\",\"certa\",\"dai\",\"tite\",\"destacado\",\"escolas\",\"inclusive\",\"aman\",\"envolveu\",\"comocao\",\"comunista\",\"faturar\",\"cristo\",\"desejo\",\"espirito\",\"sabedoria\",\"amem\",\"222222\",\"biscoito\",\"construiram\",\"construiu\",\"precisava\",\"pegar\",\"ranco\",\"davi\",\"alcolumbre\",\"maia\",\"hasselman\",\"interpretacao\",\"forte\",\"raca\",\"estudos\",\"saiu\",\"fase\",\"maldita\",\"dissemina\",\"tomavam\",\"atribuicao\",\"be\",\"falam\",\"msm\",\"veria\",\"semelhante\",\"cafe\",\"almoco\",\"janta\",\"farao\",\"esforco\",\"fara\",\"governantes\",\"onda\",\"bolsonaroe\",\"nogueira\",\"trio\",\"gay\",\"protegem\",\"rejeicao\",\"inocentado\",\"criminal\",\"haver\",\"delegados\",\"ruins\",\"correto\",\"finalizando\",\"independente\",\"arma\",\"agir\",\"legalidade\",\"liberto\",\"primeiramente\",\"ficaram\",\"palavras\",\"vejam\",\"merito\",\"novelas\",\"perseguicoes\",\"judiciais\",\"melhorou\",\"pegando\",\"errada\",\"judiciario\",\"etc\",\"infectado\",\"casorio\",\"milionario\",\"chamado\",\"ressarcimento\",\"frederick\",\"papinho\",\"fudido\",\"fatia\",\"bolo\",\"chafurda\",\"conveniencia\",\"viva\",\"acreditem\",\"jet\",\"ski\",\"safados\",\"skis\",\"sobrava\",\"olhar\",\"rank\",\"pib\",\"qnd\",\"justificativas\",\"fracasso\",\"sofrera\",\"vencer\",\"continuara\",\"ironia\",\"vinganca\",\"burrinha\",\"generais\",\"participando\",\"pilhagem\",\"liderancas\",\"ficara\",\"isolado\",\"pen\",\"repleto\",\"eleitos\",\"apoiam\",\"antipetismo\",\"precatorios\",\"previdenciarios\",\"fodendo\",\"logico\",\"falacias\",\"otarios\",\"caem\",\"mudou\",\"kk\",\"pesquisar\",\"garotinho\",\"filtro\",\"viciado\",\"valeu\",\"lembro\",\"daquela\",\"palanque\",\"farra\",\"busque\",\"namora\",\"trairagem\",\"juizeco\",\"prendeu\",\"liderar\",\"super\",\"divulgar\",\"vendeu\",\"george\",\"soros\",\"skaf\",\"datena\",\"cercado\",\"inimigos\",\"flor\",\"cheire\",\"direitinho\",\"positiva\",\"negativa\",\"guardian\",\"critico\",\"propostas\",\"projetos\",\"governabilidade\",\"caos\",\"anarquia\",\"patetico\",\"amanda\",\"klein\",\"invertida\",\"linda\",\"cristina\",\"graeml\",\"voz\",\"individual\",\"implantadas\",\"dorothy\",\"morta\",\"passada\",\"lembrando\",\"2005\",\"caminhao\",\"motorista\",\"gratidao\",\"retomando\",\"recuperando\",\"confesso\",\"duvidei\",\"chegaria\",\"avancando\",\"colocado\",\"terrivel\",\"combatendo\",\"decadas\",\"perdidas\",\"aparicao\",\"tecnica\",\"comprimido\",\"funciona\",\"governar\",\"articula\",\"decreto\",\"eleitoreiro\",\"chuvas\",\"dormindo\",\"comando\",\"global\",\"tradicionais\",\"conheceu\",\"especialista\",\"pobreza\",\"controle\",\"analisa\",\"cobrando\",\"injustica\",\"daquele\",\"viralizou\",\"gritando\",\"canalhas\",\"acabei\",\"record\",\"criados\",\"197\",\"enganacoes\",\"soberania\",\"x\",\"indica\",\"preocupados\",\"indigenista\",\"custar\",\"palacio\",\"25\",\"abusos\",\"andei\",\"observando\",\"apreensivo\",\"fab\",\"convida\",\"emissario\",\"descredito\",\"encontro\",\"comandadas\",\"amazonas\",\"conseguir\",\"leia\",\"marcam\",\"gol\",\"placa\",\"briga\",\"censura\",\"avisou\",\"contribuindo\",\"significativamente\",\"trabalhando\",\"pensamento\",\"lute\",\"esqueca\",\"levando\",\"armamento\",\"pragmatico\",\"isento\",\"aham\",\"apavorado\",\"reta\",\"tv\",\"radio\",\"operaria\",\"manipulada\",\"jn\",\"dita\",\"barril\",\"atrelado\",\"pratico\",\"questionou\",\"relacoes\",\"amizades\",\"expresidentes\",\"carnica\",\"fhc\",\"levaram\",\"permanecera\",\"simples\",\"populistas\",\"covardes\",\"debater\",\"of\",\"economicas\",\"ambito\",\"consolidacao\",\"janeiro\",\"desestruturar\",\"reforma\",\"agraria\",\"denuncia\",\"satanas\",\"acharia\",\"acompanhado\",\"publicidade\",\"trazer\",\"ref\",\"adm\",\"deixe\",\"amarras\",\"gira\",\"torno\",\"si\",\"beneficia\",\"pesadelos\",\"comico\",\"estilo\",\"tio\",\"pave\",\"funcionario\",\"ficava\",\"oferecendo\",\"palmito\",\"seguia\",\"presidentea\",\"drogas\",\"skinhead\",\"bronca\",\"descontar\",\"privatizacao\",\"fluxo\",\"carteis\",\"espacos\",\"disturbio\",\"destruidas\",\"pesquise\",\"massacre\",\"impediu\",\"formam\",\"informacao\",\"achismo\",\"foge\",\"debate\",\"fugiram\",\"debates\",\"baguncado\",\"convincente\",\"vender\",\"peixe\",\"frederico\",\"chacota\",\"perguntas\",\"total\",\"escurinho\",\"investigada\",\"buscas\",\"devem\",\"dor\",\"automatica\",\"fodam\",\"gaguejando\",\"buscando\",\"defeito\",\"arranjar\",\"ultra\",\"tomado\",\"macron\",\"otan\",\"pressao\",\"ucrania\",\"deixei\",\"torcer\",\"selecao\",\"progresso\",\"desgracado\",\"menti\",\"pouquinho\",\"namorando\",\"mulher\",\"causas\",\"57milhoes\",\"bairro\",\"verme\",\"facilitam\",\"recriar\",\"lacos\",\"convencido\",\"aliancas\",\"planos\",\"malignas\",\"perdem\",\"es\",\"lindora\",\"lideranca\",\"fariseus\",\"metodos\",\"inacreditavel\",\"pachecao\",\"neles\",\"pira\",\"culpe\",\"13979\",\"juiz\",\"verde\",\"amarelo\",\"acordamos\",\"namorados\",\"solteiro\",\"antibolsonaro\",\"saudades\",\"arena\",\"criaram\",\"macho\",\"figura\",\"independe\",\"tecido\",\"acender\",\"incendio\",\"criadas\",\"coroneis\",\"escrevendo\",\"cedula\",\"10000\",\"valer\",\"1343\",\"escrever\",\"escoria\",\"pedindo\",\"mantenha\",\"atividades\",\"mafioso\",\"cresceu\",\"assustadora\",\"2016\",\"periodo\",\"michel\",\"causou\",\"diabo\",\"tendenciosa\",\"coerencia\",\"autorizando\",\"capacidade\",\"extracao\",\"darem\",\"substituir\",\"perante\",\"europeus\",\"amenizar\",\"tupiniquim\",\"culpando\",\"321\",\"traducao\",\"imprimir\",\"desvalorizar\",\"neve\",\"ficaria\",\"patriotismo\",\"valoroso\",\"frase\",\"prosperar\",\"transparencia\",\"venca\",\"bancada\",\"comenta\",\"confira\",\"jp\",\"inadmissivel\",\"furto\",\"pariu\",\"pisa\",\"freio\",\"ze\",\"coiso\",\"destes\",\"hipocritas\",\"janaina\",\"pediu\",\"retirarem\",\"ricardo\",\"salles\",\"permaneceu\",\"firme\",\"eleita\",\"dara\",\"escolher\",\"conseguindo\",\"creio\",\"companhia\",\"limpeza\",\"ainnn\",\"simpatizo\",\"grosso\",\"assaltou\",\"comprometeu\",\"recusar\",\"fazelo\",\"arrancado\",\"pecha\",\"contente\",\"naoe\",\"brincadeirinha\",\"ante\",\"armamentista\",\"livros\",\"deviam\",\"armar\",\"moradores\",\"comunidades\",\"defenderem\",\"bope\",\"manaus\",\"nocaute\",\"declarando\",\"esperei\",\"latrina\",\"encher\",\"enfia\",\"fode\",\"cachorro\",\"1000\",\"distinguir\",\"reelegera\",\"bolsoasno\",\"carluxa\",\"usando\",\"putz\",\"tremenda\",\"bagunca\",\"retirada\",\"principais\",\"apoiadores\",\"fizerem\",\"arruaca\",\"repercutir\",\"validade\",\"feita\",\"visa\",\"ludibriar\",\"venda\",\"superior\",\"custos\",\"enorme\",\"12\",\"melhorias\",\"pequenos\",\"produtores\",\"parecendo\",\"comprometendo\",\"tocante\",\"zerou\",\"zerem\",\"contrapartida\",\"pagara\",\"deixara\",\"arrecadado\",\"carros\",\"casas\",\"postos\",\"comercios\",\"magnifico\",\"seguindo\",\"provavelmente\",\"destruiu\",\"20\",\"desvalorizacao\",\"toada\",\"colhendo\",\"esplendido\",\"profissionalismo\",\"dedicacao\",\"bf\",\"3deg\",\"nitido\",\"tdo\",\"bonzinho\",\"pares\",\"nascido\",\"freire\",\"portanto\",\"estudou\",\"geografia\",\"infraestrutura\",\"realizou\",\"tarifa\",\"google\",\"cpi\",\"parecia\",\"lavajato\",\"atuacao\",\"parcial\",\"suspeita\",\"imoral\",\"juizes\",\"procuradores\",\"induz\",\"w\",\"reflita\",\"chororo\",\"consorcio\",\"afirmou\",\"acha\",\"militante\",\"rica\",\"rendeu\",\"ateu\",\"fe\",\"coracoes\",\"decepcionada\",\"inicio\",\"dialogo\",\"dito\",\"pregar\",\"evangelho\",\"qdo\",\"patrao\",\"edir\",\"macedo\",\"olho\",\"colaboram\",\"baixam\",\"cuidar\",\"populares\",\"corpo\",\"saia\",\"aceitam\",\"rever\",\"transformara\",\"erra\",\"2013\",\"vitima\",\"canais\",\"assunto\",\"pamonha\",\"heim\",\"jean\",\"soubesse\",\"quao\",\"devemos\",\"bicho\",\"simpatico\",\"preguica\",\"petista\",\"pressoes\",\"demitir\",\"cobrado\",\"europeia\",\"chegando\",\"adota\",\"obrigando\",\"perderao\",\"justifica\",\"limitada\",\"enxurrada\",\"2o\",\"paris\",\"distorce\",\"criticos\",\"covas\",\"apoiou\",\"89\",\"joao\",\"intencionado\",\"pecas\",\"tabuleiro\",\"javari\",\"drasticamente\",\"desafio\",\"tornou\",\"retaguarda\",\"orgaos\",\"legal\",\"ajudaram\",\"preservacao\",\"nisso\",\"odeio\",\"acabo\",\"soco\",\"notaram\",\"desconforto\",\"defenestrado\",\"recebe\",\"exteriores\",\"malta\",\"2012\",\"paa\",\"receber\",\"586\",\"passaram\",\"torcedor\",\"perseguido\",\"zumbis\",\"posicoes\",\"independentes\",\"suficiente\",\"escravos\",\"pensem\",\"questionar\",\"autoritario\",\"vacinar\",\"autoritarismo\",\"discordar\",\"ti\",\"cobram\",\"furar\",\"claramente\",\"votam\",\"limpo\",\"maniaco\",\"enganador\",\"pregado\",\"pco\",\"tivessemos\",\"levado\",\"existisse\",\"preferiu\",\"democraticas\",\"erramos\",\"falacia\",\"quebolsonaro\",\"sumir\",\"mapa\",\"abrir\",\"demitida\",\"jovem\",\"pan\",\"arruma\",\"confusao\",\"bichao\",\"prateleiras\",\"lista\",\"unanimidade\",\"suspeitos\",\"ongs\",\"contrarios\",\"insanos\",\"comicios\",\"possui\",\"tamanha\",\"gostar\",\"criacao\",\"misericordia\",\"resolva\",\"meteu\",\"enxugar\",\"gelo\",\"saudade\",\"grandes\",\"vendido\",\"banana\",\"estorvo\",\"patrimonio\",\"pain\",\"resolvida\",\"estendeu\",\"reclamar\",\"costumes\",\"tirou\",\"desprezo\",\"contido\",\"strike\",\"nulidade\",\"destruida\",\"invadidas\",\"rios\",\"contaminados\",\"mercurio\",\"exterminio\",\"indigena\",\"perseguicao\",\"ambientalistas\",\"indigenistas\",\"trouxe\",\"destruicao\",\"sulista\",\"reelegendo\",\"equivocado\",\"perplexa\",\"incomodada\",\"impede\",\"posse\",\"porte\",\"fogo\",\"ativamente\",\"seita\",\"vermelha\",\"esquecam\",\"cor\",\"faltando\",\"repulsivo\",\"filhotes\",\"replicando\",\"mediocres\",\"vetar\",\"inimigo\",\"relembrar\",\"oucam\",\"recordar\",\"fabricio\",\"esquecer\",\"extremista\",\"torcedores\",\"fanaticos\",\"direto\",\"tomo\",\"ban\",\"ra\",\"xequemate\",\"proselitismo\",\"eficacia\",\"vazao\",\"roubalheira\",\"boleto\",\"finalmente\",\"kira\",\"death\",\"note\",\"perdas\",\"aguardar\",\"penso\",\"ido\",\"ficado\",\"depender\",\"propaganda\",\"aplaudir\",\"velorio\",\"hahahahahah\",\"bostas\",\"venham\",\"mudem\",\"dica\",\"outras\",\"propagar\",\"mudanca\",\"continuacao\",\"abra\",\"ko\",\"precampanha\",\"qndo\",\"alvo\",\"figuras\",\"executivo\",\"vdd\",\"tacho\",\"acoes\",\"reajuste\",\"passe\",\"jogou\",\"luvas\",\"confundir\",\"mostrando\",\"necessario\",\"traiu\",\"indicou\",\"sucessora\",\"ruir\",\"acertou\",\"reuniu\",\"comitiva\",\"viajaram\",\"promoveu\",\"cloroquina\",\"660\",\"mulas\",\"extirpado\",\"condiz\",\"famiglia\",\"doida\",\"tom\",\"indireta\",\"vaga\",\"caloteiro\",\"ador\",\"simplesmente\",\"apelar\",\"imensamente\",\"recuperar\",\"decisao\",\"falso\",\"anulado\",\"intervencionismo\",\"ce\",\"dono\",\"ficasse\",\"fizesse\",\"monstro\",\"ego\",\"assuntos\",\"interesse\",\"andam\",\"mansoes\",\"parecidas\",\"patriotas\",\"socias\",\"gastamos\",\"sola\",\"sapato\",\"proibir\",\"pagamos\",\"politicamente\",\"abro\",\"vespera\",\"jogando\",\"pros\",\"adiantar\",\"acabam\",\"executar\",\"recente\",\"gravado\",\"disputar\",\"liberando\",\"combater\",\"anvisa\",\"entregou\",\"fechado\",\"artistas\",\"achando\",\"pescador\",\"conheci\",\"existencia\",\"nazismo\",\"70\",\"bloquear\",\"tabela\",\"resolvi\",\"hahahaha\",\"foque\",\"tendencia\",\"novatos\",\"continuo\",\"gangue\",\"ligo\",\"canhotos\",\"capazes\",\"retomar\",\"perpetuar\",\"filosofia\",\"angariar\",\"tatica\",\"tiro\",\"quartafeira\",\"4188202\",\"autoria\",\"pontos\",\"permite\",\"financeiras\",\"possam\",\"penhorar\",\"imovel\",\"quitar\",\"r2\",\"passagem\",\"popular\",\"proximos\",\"perfeitamente\",\"duro\",\"ordinaria\",\"antecipou\",\"aprendeu\",\"preocupante\",\"toca\",\"prato\",\"cheio\",\"integrantes\",\"rebaixar\",\"causando\",\"roubo\",\"respondeu\",\"best\",\"we\",\"go\",\"again\",\"plmds\",\"formado\",\"somar\",\"venceria\",\"biblia\",\"pudesse\",\"libertara\",\"ii\",\"lider\",\"consecutivos\",\"cenario\",\"exterior\",\"desabastecimento\",\"ministerio\",\"desenvolvimento\",\"regional\",\"mantem\",\"bloqueados\",\"102\",\"usados\",\"contencao\",\"encostas\",\"77\",\"areas\",\"morros\",\"recife\",\"aprendi\",\"mae\",\"eleitora\",\"anitta\",\"comprometer\",\"termos\",\"desvios\",\"repassado\",\"beneficios\",\"duras\",\"licenca\",\"adiantou\",\"confirmam\",\"incomum\",\"chao\",\"olhos\",\"queijo\",\"hummm\",\"miami\",\"quedas\",\"seguidas\",\"caia\",\"paraiba\",\"dobro\",\"cansado\",\"ouvir\",\"suave\",\"ueh\",\"candidata\",\"intelecto\",\"queriam\",\"baixo\",\"ein\",\"afetando\",\"pinto\",\"inegavel\",\"enxugando\",\"transformar\",\"reembolso\",\"tarde\",\"devera\",\"conversar\",\"diretamente\",\"representantes\",\"diplomaticos\",\"retornar\",\"pretendo\",\"unidos\",\"convidar\",\"embaixadores\",\"conversarem\",\"comigo\",\"detalhe\",\"3112202\",\"obviamente\",\"desmonta\",\"invasoes\",\"despencam\",\"bonita\",\"comeu\",\"alimentacao\",\"decente\",\"passageiro\",\"amantes\",\"torturadores\",\"antidemocratas\",\"decada\",\"pateta\",\"idiotice\",\"milho\",\"trofeu\",\"calote\",\"pede\",\"confiar\",\"judas\",\"oremos\",\"teste\",\"meme\",\"estreia\",\"tagem\",\"terca\",\"kalixo\",\"lularapio\",\"aparecem\",\"assombrar\",\"ensinando\",\"assassino\",\"zombar\",\"mortos\",\"escroto\",\"pastores\",\"dentadura\",\"lascados\",\"manipulacao\",\"trouxas\",\"covaxin\",\"bolsolao\",\"mec\",\"fiscalizacao\",\"compactua\",\"maucarater\",\"estaram\",\"pautando\",\"movimentacao\",\"cobrarem\",\"ciumes\",\"nordestinos\",\"bolsonaroso\",\"jingle\",\"chiclete\",\"memoravel\",\"hit\",\"pisar\",\"discordo\",\"humilhado\",\"cirao\",\"achei\",\"gripezinha\",\"medicamentos\",\"explicado\",\"tornando\",\"errar\",\"besteira\",\"sorte\",\"atropelar\",\"oia\",\"plausivel\",\"democratica\",\"completar\",\"aversao\",\"ganhava\",\"concretizou\",\"culpados\",\"cita\",\"quebrado\",\"acesse\",\"guerreiro\",\"tecnicos\",\"afirmando\",\"assassinado\",\"devidamente\",\"autoridades\",\"procure\",\"apanhou\",\"gastar\",\"card\",\"trinta\",\"cinco\",\"confunda\",\"tange\",\"concorrencia\",\"difamatoria\",\"cobrar\",\"agenda\",\"fabricante\",\"organizado\",\"adora\",\"terroristas\",\"especies\",\"matou\",\"existente\",\"extinta\",\"pericia\",\"celulares\",\"adelio\",\"afastando\",\"ouve\",\"rap\",\"admira\",\"brabo\",\"admiram\",\"explicitamente\",\"nexo\",\"representam\",\"cortina\",\"levantada\",\"relevante\",\"declaracoes\",\"processar\",\"haitiano\",\"amadores\",\"comprando\",\"kilo\",\"minimamente\",\"sensato\",\"apoiava\",\"arriscar\",\"fragil\",\"ameacada\",\"desenfreada\",\"tapetao\",\"duvidoso\",\"tento\",\"pelanca\",\"disseram\",\"descobre\",\"cura\",\"choro\",\"jkkk\",\"otimo\",\"prepara\",\"expectativa\",\"ator\",\"palmeira\",\"recentemente\",\"hm\",\"investigacoes\",\"semanas\",\"retrospectiva\",\"bobear\",\"mandaram\",\"esfaquear\",\"engracado\",\"trends\",\"provocou\",\"rejeitar\",\"viceversa\",\"raso\",\"polarizacao\",\"largar\",\"eita\",\"pedacinho\",\"desconfio\",\"selvageria\",\"arminha\",\"reclamacoes\",\"servicos\",\"encaminhar\",\"monaco\",\"tratando\",\"portais\",\"comunicacoes\",\"cuidado\",\"maravilhoso\",\"fuder\",\"esqueceram\",\"olavo\",\"governante\",\"desvalorizado\",\"lamentavel\",\"inelegivel\",\"consiga\",\"novos\",\"esforcos\",\"defendia\",\"medicacao\",\"logica\",\"paralelo\",\"fura\",\"aumenta\",\"amigao\",\"recebido\",\"existindo\",\"pura\",\"barata\",\"fechou\",\"tampa\",\"terceira\",\"cabe\",\"franca\",\"zera\",\"cofins\",\"brasilmas\",\"conseguiria\",\"comer\",\"bebe\",\"refeicao\",\"adoradores\",\"usurpadores\",\"lamentar\",\"liberado\",\"seguida\",\"constar\",\"apagar\",\"121\",\"legitima\",\"deva\",\"ferrar\",\"maracutaia\",\"fumar\",\"arrisca\",\"chances\",\"31\",\"resumindo\",\"g1\",\"desempregada\",\"aprendiz\",\"nois\",\"apoiador\",\"homenageado\",\"homenageia\",\"emprega\",\"bh\",\"assusta\",\"paixao\",\"motivacao\",\"empenho\",\"ativistas\",\"queiram\",\"lamentando\",\"proxima\",\"manicomio\",\"justamente\",\"criminalizar\",\"religiosas\",\"funcao\",\"contribuicao\",\"impagavel\",\"igualar\",\"intelectual\",\"subestime\",\"bravo\",\"parana\",\"varrer\",\"planilha\",\"fisiologismo\",\"cn\",\"elemento\",\"preocupando\",\"decidimos\",\"entendem\",\"ozonio\",\"furo\",\"exemplos\",\"imoraes\",\"instaurar\",\"capaz\",\"delirio\",\"dificuldade\",\"fraudadas\",\"poupe\",\"rebolar\",\"peru\",\"local\",\"narcotraficante\",\"guerrilheiros\",\"aproximacao\",\"sujeira\",\"berrando\",\"desesperadamente\",\"minutos\",\"gaz\",\"cavou\",\"cova\",\"temo\",\"sujeiras\",\"tona\",\"consequente\",\"excecao\",\"orcrim\",\"nomeou\",\"quadros\",\"secretaria\",\"regular\",\"pedagio\",\"horrivel\",\"mortes\",\"adotou\",\"terceiro\",\"despejando\",\"energumenos\",\"amam\",\"colegas\",\"apoiaram\",\"estranhamente\",\"gerando\",\"altas\",\"reclamavam\",\"aumente\",\"comemorou\",\"chegada\",\"ajudaria\",\"desonestos\",\"rinha\",\"velhos\",\"alcance\",\"interacao\",\"passador\",\"compromissos\",\"reforcam\",\"globalista\",\"hemisferio\",\"atividade\",\"mandatos\",\"feitos\",\"distantes\",\"morou\",\"estarei\",\"desapareceram\",\"titulacao\",\"assentamentos\",\"voltadas\",\"propriedade\",\"rural\",\"rasteja\",\"ilegalmente\",\"protegidas\",\"pescadores\",\"empenhados\",\"acertar\",\"quantos\",\"ma\",\"homicidio\",\"prerrogativa\",\"agressao\",\"ocorrido\",\"dever\",\"entregue\",\"pretende\",\"aceitou\",\"mensageiro\",\"foice\",\"erro\",\"3000\",\"dirao\",\"8950730\",\"subir\",\"olhe\",\"defendo\",\"perdemos\",\"dificilmente\",\"ganancioso\",\"elegeu\",\"petismo\",\"bolsonarismo\",\"parecidos\",\"bial\",\"bbb\",\"regime\",\"zumbi\",\"agencias\",\"checagem\",\"distorcem\",\"esquerdofrenicos\",\"desejam\",\"dificultar\",\"insistencia\",\"centavo\",\"dependesse\",\"artur\",\"continuaria\",\"abraham\",\"and\",\"gringos\",\"solicita\",\"rejeitada\",\"retorno\",\"extremismo\",\"produz\",\"vicio\",\"morreram\",\"digam\",\"apaga\",\"implorando\",\"sequestrada\",\"pulando\",\"vidas\",\"boba\",\"falas\",\"proposito\",\"nobre\",\"rico\",\"atitude\",\"3112\",\"plateia\",\"orcamentario\",\"termina\",\"parada\",\"demorar\",\"rapido\",\"sinta\",\"reflexo\",\"intencoes\",\"prolula\",\"rapa\",\"catar\",\"comprovado\",\"tribunais\",\"diversas\",\"prevalece\",\"beneficio\",\"consertar\",\"identificar\",\"bundao\",\"vesperas\",\"preocupa\",\"mark\",\"ruffalo\",\"riquezas\",\"entrega\",\"setor\",\"ecologico\",\"comercio\",\"encurralado\",\"comunicacao\",\"pressiona\",\"tomaria\",\"atitudes\",\"bloqueei\",\"perfis\",\"continuem\",\"bigodinho\",\"fo\",\"doque\",\"mentir\",\"generico\",\"listar\",\"publicacao\",\"junta\",\"tantas\",\"apreensoes\",\"maconheiro\",\"faixa\",\"v\",\"saga\",\"tipicos\",\"amazon\",\"or\",\"it\",\"is\",\"mind\",\"your\",\"transferindo\",\"exigir\",\"balaio\",\"ponho\",\"comentar\",\"comento\",\"precisasse\",\"acostumando\",\"tempos\",\"maso\",\"paguei\",\"numas\",\"comprei\",\"avesso\",\"cangaceiro\",\"antonio\",\"confiavel\",\"conheco\",\"votarao\",\"ops\",\"traidores\",\"babar\",\"traidor\",\"estelionatario\",\"leis\",\"acabando\",\"panela\",\"preparem\",\"desculpe\",\"protagonista\",\"desastre\",\"competentes\",\"48\",\"salto\",\"duplo\",\"twist\",\"carpado\",\"sinalizando\",\"paridade\",\"vence\",\"chegara\",\"garante\",\"embolsar\",\"desesperada\",\"povao\",\"apertar\",\"ingenuo\",\"incondicional\",\"amado\",\"dada\",\"empatia\",\"imperdoavel\",\"mudaria\",\"conjunta\",\"diminua\",\"estelionato\",\"torne\",\"validos\",\"eletronica\",\"segunda\",\"ordem\",\"gema\",\"cuecas\",\"par\",\"r100\",\"filhote\",\"imunda\",\"tocar\",\"emissoras\",\"homossexual\",\"ouca\",\"clique\",\"trancou\",\"melar\",\"quebradeira\",\"preparando\",\"terrenos\",\"aprovacao\",\"garantias\",\"consequentemente\",\"porcentagem\",\"aproveitar\",\"baderna\",\"agradece\",\"negacao\",\"constante\",\"provar\",\"loucura\",\"pesar\",\"alimentada\",\"versa\",\"continuarem\",\"meter\",\"intervalo\",\"bens\",\"essenciais\",\"inseguranca\",\"disco\",\"playground\",\"assassinas\",\"ligado\",\"traficante\",\"meios\",\"prender\",\"opositores\",\"usa\",\"racas\",\"minorias\",\"justa\",\"turminha\",\"vinho\",\"governa\",\"vigor\",\"bolsos\",\"literalmente\",\"dnv\",\"h\",\"expos\",\"rabos\",\"incoerencia\",\"custara\",\"inconstitucional\",\"torcendo\",\"financiar\",\"sugar\",\"retribuir\",\"doa\",\"vendendo\",\"explodir\",\"prezo\",\"humanidade\",\"neuronios\",\"continuam\",\"3o\",\"dpvat\",\"evoluir\",\"informa\",\"sociedade\",\"puramente\",\"morder\"],\"x\":{\"__ndarray__\":\"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\",\"dtype\":\"float32\",\"order\":\"little\",\"shape\":[5000]},\"y\":{\"__ndarray__\":\"wLz/QVgsn0EXZHFBmGETQiFq50Ho/Q5CvfsBQhR8qUE8EfPBI0gIQv75wMBXMk5CqRu8P389uUEtV9rB9gvIweEbX8G6+M1AVX+yQI2rDEJJf1JCrqYOwi42tUEjJirCcS9OQjleL0Kx6yJC618BwsIakMFAriFCd6XNQdDyx8FviYvBRIDeQW2XMkJPUmNCw9q7QPWCAcFWEcHAvOKIQTHJYUGb+DBCZ4vPQQI6A0KZ9BVBf5JGQWemGkKqDLtBIUmoQZAWrcDPRc5AdAkZQU01BMGyOPnB7jMUwTnYpcEOJyxChCNOPwC47EGWpetB9sPPQfRj40EelZFBD8h+QT39UMJQvIFBqFH9QW0YhUHfqw3CllMMwozdOcEDYZdBH9cuQXoEcMFqTgHCUFJ8Qf+JB8I6EILAEvAvQmkppME7hFNBYJKCP5ilB0LRgxLBaXTeQfsX3EHy/1vBbMoWQn+h70HYzBhCFM88QoJyP0JlSwxBlM2zQXqH2UF5TPJBuXPEwavAGcDUFN/B32v0QeJLNkG26IFBb0//wAgDDcEro/RBw2edwbCTdEFgHEJBy7+FwS+SjEDvuehBYX2eQV+FBcKS9YrBTZOnwQyGDsKRBR7C6WAlwsObH8I/tybCFkYmwucgPMIDVx5BW/SjQZ+gD0KHyx1C2dTAwe8cfcF4RgJC2EPGQbMZ6sDFPCXC0GXYQXzsxsGtEBPCX+K/wKppUUCKrU1A6dVuQeML/0G65glBmbOlQUafIEIKpNrA3u3qQc35M0G+aZhBmXwCwg8/9EEJkd0+DBiuwXJWLD5mj5hBeZH8QcxNjsGHjyVAvvwbwtyC/EBI1yhClvb5wW94q0Hmx5NB435/wX6U00EXhxXB+lJfwbr3OkJEuMhB3XMCwmb/H0L2viTAXBUFQElaV0Ha3ek/73ujQQea8j1NyU9Cgb4JQoTdr0FLYzJCdm5cQvWSJULQOjRCIxRLwpDZRsI26yPCaZ3kQfmNC0KuB5c/+VwAwpVaCMIomRbCg7ccwuJ1ykGuXBDCzIYRwl96IsJgJQrCrI39wWG/vEF23R7Cf3dDwUDVv8F5iRjCgK2+QYYIZ8FrqHvAdLS7QYzoHD/irkE//DMdQCg0GEDbBFZCRTqoQQOWzb8ZZClCGv2HQU9TjkHRZenBHeEKwmle2EEoFhNCdYxrQfBXIsI0/CDC0YY5wE/jV8FAcwvCdAUTwTCa4cCdVg0+Vf7VwSQGJ8CQmVPCMHV9wTORa8EieqfAyVqOQU0oE0IX/ghCQAy3wC9MmEE+fsjATfppQVaG9sHou9HBUctcwHXGfEEw8sVBwEwUQah57kDy3pnBTbsEwafTK8KehiTC3A3nQbszIUKscZXBV6A6QvPPx0GxYjJCi4CjQAwTdUEGF4xB25uNwTMdr8FnHx1BQcWLQYpzjEEBH8lBSyLVQUQwxUHkpgpBt5GWwVY6GcJ63fNAaiZlQO/Ag0F5GErBDjDLwbzf18GG8P+/SyUywbPZHUK6fN5AQDsyQQj3/kHdVNZBu+eiQRKmJD8suoZAS6kYws4Bmz8Od1FBYNXFQcQaoUG+OPtBL1u2QV51BD9Fx+fAlFkGQimQdUEKakrB7FP8Qb/i6cG6eZdBhcKpvzNRqD/UKjjBDRgoQiLyMkJn0zJC7jgXQuV8mMCbhae9OdbcQJF9CUEBOLbBGcC1QcQAm0HQmqNA9R9qQRuuesDyddbBUCS+QXsZ+0HIBEY/UatcQaW+rsHHffPBlD3DwcnT2sFvH/xBzYTYwfzFjkGBeZZB4m3vQW9Bg0GCKWtB93UYwkVeVcK/RjvCjqfBQbcvPUJCXetBWBSywFGtgkE3n3nBNH4xQlqL7cFKVrJBO8GqQZ6VBsFBkYFBxSS5wKd630Gn8qbA2La2QT+/KkKQbOzBa4K2wTh7ncAUZh5CaKaIQf5LDkIi1J5BDLjLQXPyxEHAPLlBPjzNQW4WoUF6BQ9CWcuaQcLBeUHhg0bBJh+KQai1ykFU45JBnOYLQpuXukH9zE1CwBL0QW2IBUIgS5lBp056QUMb+sAGdAxCGLf7QUq8a0Gx5wzCtENSwvjSPcLVjxHBznkDQn3bO0E4kDlCIPk5wVRJ5UEbPD9CVz5RwfhbEUGh6ZjBEvkKQRIW3EHnmK5BuKfOwRdAz8GdnvVBqU4hQiLmcUFZaHvBCtPMwCPTIsIpMULAQDnfwWjvDkJN/G3A2igsws7Z8UBXl35BU7QaQrweOcDWst/BQya+wM9u/0FpLw1CQqAdQuTYckGIli5BhnuzQClf30GIpitCxDj5QdFlVEIvydDBNg2CQTuhF0J331hCH7TEwWoElEGMUNTB5MHqwQb7OkKxEglCJakbQg/zgsDrrR7BsU32wfU3XsKYoxXASrv8PR+8L0LzdABC0YmBQVWi3kF014/BsbvxQJIXxcEF4RPCSVWuwNQLCsLpopvApRmbwCVHz8GrMntA0kfQwaJjz8Ei0QhCRAocQglT7L9g1zhAAmauwSIW7kE/NKpBnX2xwbCOAUJGmPVBm1ITQWhmAUINAzFCtEeZQT/2lEGtcMpBCrfKQeZiHkLgoJpB2sSFwQrwDMHKR4FA2YoIQpOHH8JldClB1tYgQkEGW0FBNyhCU8qCwWPjnMFUaZrBrPfGwVtboUF0+krADaSAQXK1qEFO7UHBJA8pQl6v2EGcR7fBhzSowcD9l0GB/uLBXOl9P6dXQULgB2vAr9AwQvMNI0KTgY1BLhuPwWYVTsFeo97Bmg28wSXvIcGSCefAyd+zwRFrcUEEagtBbihOwsONN8IWt9bB7SXTwajZq8FKiwVCh86mQQbRZsH0LO1Bb9nHwerxvsGTnNLBbQMMQfzGwcDEd07AzccCwoctqcG7gBJC5V+iQfgNCUImD/jBLApAQvsO7ECdP1ZBicXawCWYjUEKhhhCMB5LQcMFCUKH5+bBZoXzwahwD0KKRLhBNyGAQYiL98HVrQJCky8jQo8DBcJRmjhCf4TswdKmi0HzHp9A6qJXwvX09MFyL+9BVe3CwQACxsFnNDHBPTimQYm/psHC0cDB1NB0wc0BEcIrT8fBsoL1QWGwjEDuQhvB+wtdQII31sE2BfNAcHaUQHa1/EET6QnCnWmowTwHi0EIhj7CY9FHwpk1LcLKJD3CJR49wkU2McJlOMTBAsg8QMfMzkGoEj5CzqR0wcb9jMFa95hB8MmdQTzjy8FMHwjC9jW6wZLUgUHOhylCTqsBQi6gJ0KLPQrBW+biQZGsSkF8vwPCtLQaQtjcusF6IBrBGF50weOkm8DiPC9CKqjvQa935kGyi/ZB7swqwD7iQkEwVyDB09u/wacsmsHX8hFBaJoVQZzWGMKPUSFCpEEsweRyc0HG5aDBN8ELQGieAkFDwInAFhsxQaF0WkDXtJDBchdAwjI9XEGGgvHA5FzzQf4eE8LdeiPCRpzRQaLDzEG5sT3BtV4QwnpuEMJ+UxPCkAqZwCdOAcJIo+PBsdGVQeoJ6cBUZa5BG4U4QoOA5MFYzNbBwFrjwRpXFsLh6R/CAb4nQuvlD0LgbQTCiQVFwiPBgsGYhgPAKiImQXKAgr6YbgRCcYjFQf3k30DM32RB10kNQWEJoEE9LvRB9rjwQO6A5EHGbJ3BO1ywwenawMEXLSBCA7CdQdR6AkDEwZnA6oYPwrglYD/wLq/Byf0UQS+sHcJkKQvCDLGBwWVnn8GZpfxBbUjjv71twEFrzjzC90dwwcgDbsGNCGPBvVsQQsl/hEGitfu/iyKJQd0aoMHW0JdB6IxQwSniFEApVJ7B92ZtwWfET8EKxwLBMjCBwSjFM8FYytXA+TSzQKWsnsGxQJHBClYZwkhY48FRLwzC6bKqQf7SDUKWJrJAuFyEQXtvhEFyJ6jB02vBQULSS0GRLCxC/vKhQXnb20FraD1C6wY7QdDrwMEkq7/BTU2/wd1Ng0FhQEDA3fuiP4YBgMGXOes/gSLgwEjvnMHUAvJBx2AjQtT+3UHOslVBIbBdQEyd0EF53AFBtBA/wU5tQMFSkN/BlvwPwm/vEMJVjozBsLQWQsPi/EHdzMlBu+OQQS5/JsIJnVnBojWcQdvm90Hubu1BAat3QXIZI8BbrLDB1DcxP7Z+eT/LHKxBgp/gQDOsEEI7Dq/BkouzQUTvjcHue6RBP3WdvzqXBcLqYwTCJHL/wZbCZEFWYLVB2NFewoWmvcFq0DxB6nOTQYtikMGDiSLBkGAjQn/YNkFqYNfBVJkuwr/mA8Ha0wBC0hUOwWZekkG/CzlBXe+AwI7lvUFNuTDBDi3EQbtMFsLh/x9CbbQnQlHiDcLPsQPCKRikwA1s78G3e+lApAkAwuOT3cE9ICNCaJMqQQPe/kBHYrxBYT7QwXRhoEEhxdzBZhsXQpKW28DT6wrCyaiEPnNM8UFCjJlBITowQklhnEAYSODBCnhGQX7Rq0GTIyRBT/0nQX12j8EbACfBF/Bawgy5GcImfOtBdN7nQRTJ2UHRQO1Bk8yywWee/8GuTSJCcNPJPwpQuUCjTxjCP7s4wqLkRcK9VVJBKlBrwPqE+sEoq/rB1qD6weMoJcJLFy3CgzTkQYXg/8EykPNBSYZ5wFuGN8JKyF/AUlb+QffRB0GwpsdB9doDQmzv80FQIvNBtICXwTqSxUFuPnJBTfoWQvfbLkJ0RfO/fY+eQUuficGEe2pBi8gyQcnJqUEC5QxBC5rNQMeIA0ArZiFCx9wfQkjaBkHqB7/Ay3gjQn179MBOElFBdefPQUyDVUH768Q//2JIQkBmSEI2Gp9A5kpPQjSN0kGSAHlAX/l4QHwa+sH/3EFCa5fDQIqOEULp5evBYYAIQo/9+0EJazVCUBAqwEgV6MCmGb3BSjooQi4Qg0AGk8vBON9Vv8xyS8G2MEvBOckuQrBRkUGH4yDCY00jwawNLEJ7VtRBRK4wwCk93sG+9cHBkjjkQd6HBMIujxRCCwFJwo6lm8G8LJTBEKgzweVyhsFNNlzCUTgtQCYz0sG1fKxA0zMowROxDkLH0JtAnyGzwZbBw8EZVxTA2PP1QdiQ0MBNHu5BpSjmwZ/wCkLTfA7CEUnuwQ871UCZeATCrXXhQKn79cBlQvlA4PMKQvEHGsLNS5ZBHO6mQUs9+cEW6InBht7YQWCo2L+jkrzB3xOUv36m2sFWuh5CobelQYvKlsGnClPCVocrQFA+DkKTeyzByQ0EQuubpUG+Z8TAAArLQYHSo0F2Y7RBAuJzQUyZNUEdoTBBJAsHQqUTT8H0j4lAnpYtwX6Z5EEXUuvA2of3PujGG0JLoSpAwrPnwYx8FkJTeenBJ1/FQVAgCcLu9tZANOwIwpjegMGwyuPBC7sLwmGV8EE4SPRBFkzVQSFHuUFPBxnBhlRMQV8WpMDHIv9AQPF5QGpsV0EOFghBUPGFwJVMBUIXWTJCvEpQQLoqsMACyf7B+kP6QY9mjEHwZDRCMKQSwYHsEMJlrIlBA3k9woyM1EGd+BRCiI6jQeq4V8HR8cNAPvaowQJyIkLQxK3BamyhwYAVUsEEGqDBeFOwwd18WcFbVFnBD3qewSB9REG6x+lACi68wT1AF0DLZtBBaBOZwfijrMFCAClCSiuYwfBD78HJtCXCTEF6QLeYFsE56fRBf5jWQJfqJUKDCgtBRKvrwa49OsFpXve//K1ZwatKnEHyAaFBnlerQayhekEqkwdBBwo9QT1xpUHl6ohBhUbFQeFBxcHcdunBCyRhQQmhikDEnsJBb8K6QQbzbcAJJ4w/piKNwVLxDUL1tvHBpHceQRBcqEH+G+JAGZu6QWEBA0FolGZBqJaDwZU0F0L+FH7BgcYZPvnU8UGBaFHBOLBaQbhC50HGVGhByxRpQXlBFEFmshW/w5+lQNYCvz/ChAhCF20gwTGxlMGOPC9Bv5towRWLtMGM62lBTP6svzB3pcDxzrJB39OrQXTAlkGLoDtCKb8EwlRAP0LAJK3A6NQowDyH40CVygfBSqIZwgkEt0DHbt9BpQooQpDeAEHHZv5B0E8wwZXBjkCFpEJBtfGjwZBZPEHIZQfAVAUZQalYYsLfAx7C5nqdQVS5qEHnYKBB8KKuQYj+j0E5gJBBhUE8QYbHhEAf5T1CufuCQeVNnsGay37Bfj2mwFkoKEIp9rLBRf4WP76l6cGjspxBlKPAwDHLiT+MiexBf0e7QYeR9kEVQ9HB0csKwmP/B8Lz2QFCXCcLwtSeEULw11ZCDlfFwWRftcG+WLXBDXHDwVmSpsHNMPjBTRQvwgMs0MDtfyJCk7mWwBj7ScFIfovAWr39wVNEJUKNRkvBDlhDQTbEAsIchBnCliwswp+kE8JSykXApXg6wRsilkH2DLHAe+iTQZ/2z0Hy6CNAZ/8Qwl/FuEG/MfrAoCn2wBu7l8H4HAnBb/UvQrL73MHcyA/ChZJfwU3E/MECpQ/CciJ8QRlmzMHAmjdCZJwwwtD0NsI9bK3B70yHQBmWM8KqtsbB4ID4QUWUGMGBG4HA9zBZQVj2vUGLA8NA2EPoQL0iTEEJ0AFCZSHxwVw9VUGZKxjCamJZQZxPt0HUxMu/boojQcmSasF+J2TB9RrnQXnQAkJsaQRCkPO4QYZXA8LvY5pBg9cQQXBB2MHx1/w/kicHwizrcMBTxMnAx63HQQiPkEFEaPRB5msGQvpHAsJmHTBBbfYCQkGpP0L97ZPAQbzqQYF3uUFqq6pBMA8/wQ/DhsHWT4pAmAI5QVM9NMA/o89Aa0TDQZjaPUHys7hB3jABwbrxF8E+Nk1AunqRQTcvu7/oschAwvcrwkow98HcoTfCsNGBQDEsKcJboxdAaHydwXJjFMLE5elA5n3JQIpKu8Fi+ny+jnU/wrQkgMHuHFXB5klQQF9zUkGv5w9B3ewZwg8CqcFRBXTAnBQjQbWjwUG+3eVB3Qy0QYUfikF9nOpAGEDQQfyXAcKfeHHAURbBQabcw0F1saLAfBvIQUGY0kBAqwPCtdc7wX2cn8ErhJ3BSTiAQenTIkKIXI/AaYRYQSZp0EB2ZANCtfdGQXsoCEKx6q7Bng5jQWlrJMKh2o5B0j2qQYVdV0LPE37BnXFqwSJ9A8IEP0HBA1O+wRgN7sHw3LJAz2v1wEX32MHXkyPCA6Q0QViQKcJD7e5B5MIRQg7JPUFwklvC4A0lQdzyIEKrWyRB1k9bwaL1MELgHP5BLMkrQjb+HcFijiLCb3thwbYCKMIejWzBX/A6wiuxRcJdiivCblQjwjc36MF8494/hoJLwiQYT8IUskZA6ORMwk1vUcKdXRJCvQSKQc5ExkF0tbVBgTUOQbFyDcKhOALC3+sEPwLNpD4Um3Y/hXgZQfS8y8G97x9CLVcYwqyU57+9TxbBefVewdT2CkInLNXBt+0gQdL2FkJiF4FBlenhQZV2HUHJl4BBEtgFQGtGBMIQ+9/BLG3dwVONusF061ZBL0X6QU5VZsFGjbPBMjPkwKlUscEaGbPB6WAIwjRnjsE59FzAprDgvxBAWkA+WDHAAeS+PgZ0D0GAygHC4FLZwcwasEAw3iBA5e7oQCw6hMFjBmPAvlawwWtbp8E5eG3A1aqcwYkec0EBs7FB5yqRv6aNNz+G8U4/nEvKQQHZ+kC47PZAu8jyQMUGxMGkVcPByLPDwVPijcG+JL7B/owHQUUdBUGOvf5BAgrSwToOPMKnYjjC0+H0wVzQ78Eauw++HDMmQrYVpEG0yfrBGjPUQUPl0kHQpkPC9ttDwoRlRsIojEbCq9dDwsWWHUFd8xxBQwxRvkkKXb5Cx0O/CfWgv7nvnL9Dxq6/3FF+QZztGcHX0lhBwCoEQtEiUsJU6kPCJzItQBnwCMGZFcM+pW0ewhe8zsHbrgnCa4m8wM9liMHw/EhBlV2mQIwwg74TCq1BJhgVQuyDP0IzdhlAOwLWQV8aKcHilthBFAmDwbTdNUFoogpBNBXDwV9TdEE3RaxAExe3QTPh0UEnHwDB+fs4wmsqCsJ9BaDB1k4wQcTCP8JH4THCgA0xwlZqCEDnlrVA8J6hQXCEAEJScwNCryjAwXfw0b2NQMrBm7AUwsGEWEJubM1Bx5VFQqtDiEEl6TjBk5r8wU5RAcLMDBLC7vbPwdjnmMG0BfdBCp/0QezlFkL0oovBQTVvQZQCT0HwbeLAJ7ZvwXxdKcE0MOVA7nChweuh+8GeYrZBz5csQY8ZOMJlvhLACVMVwej2ccAgovC/LzVaP1xu9kAU7aTB8X34weze6MFUhAvBUiCnwFYHOMIICQC/Csd0wLUEgsGJcAFC034FwXb5DELBh4ZAg5F0v6pddMFHzzlCtziZQYa8t8HmdjhAvw9IwlXrysHdILc+QOfCQa1wXEI3kx3Ceh7TQZqo6UF1XOpBpmb7weoIAsJUeybCzSJpwSBcgD8zcXXA3M6GwSDi6MHNwkLBKGSPQbtsl8A3KRzBQ1KNwVDuGkK4qY5BfW8IQVeNp79PxkXBVZU/wQoh6D/vefvBv589Qs3tTcBQmZ4/2SKBwXCJI8KBoPRBEQv7QZA4pcB8nsfBG0FJwQ/WM0EOzevB1WrDQVdcEcASH21BWYgZwu5/9kB61pDBubkRQQn4D0IW0uhA25YJv78I4UGyToRBrj+8QdpuwsDFfX1BvSpuwdAwgcB+TofAk6l9wDvnkUFF6ybCPrjcwdGk6MDRq+jANqkmwuWUnkFiNK9AmFsBQhwSC0JKy8HAlw7dwfNFCUD1ApTBRmrJwRC30kG7YwHC3e43wS1b9EF588jAlpklwKFKCMKTEztBxnNIQeJ8vb+qCInBpA+oQdHDIMLX2dvBnmcOwpgEm0GmAJtBMygNQl0ce8H9JTXCj28NQl1jsMFxrkdBh3vNQAfnHsGzMWvB58nKwP42BsJki67B2I72PwjahsGCk6TB06ySwd4ER0EXphRCqRAKQUDclcGy6KTB3WSRQZB4CcICJwNCfh8EwWBAREGpmqk+ROULQm3zVEEB2IdBCl9pQZATR8FXNlPCFBZmwatqtz9E/sFBwPMZwUoi7z912blBT0KmwcuwhkHLMTnB7N+2QMkAgL8RtDfBnQ2fwbj4ycEMnGTBECeVQTooA8JEnZrAwybjwQEhO8GkROnAxH3iwM5KWUGSoDTBd70fwlcLJUKucQ5B3JfOP3rnxUEhmfTBaOYZQgm/IkAoZ95ByQBmwchSdsHplJPBJArLwO6cyr/tyrzBZP/nwZ4LfkCKLwBC5HM4QFkthUFtwC1BEKNnweCm4r+uY31BNoJYwuPoAsKQcwDCGRXIwdK7PsG1JcbB6ErGwXDxPkDTKQTCz6MBwgvVAcKs4HRBvfoPwnMXGkKkdv9BMAKeQEXG5cHrXNbB2QgIQgGvxsFo5s1BBh8QwsoZEMJ1BS7BogEuwXHeLcH/UUXBVwsuwTWbI8J5kATCvaIPQY4CkUDC6o5BS7IYQTFr6cBpSRZCrD4WwZmyKcHTqhrBOQgcwT4aacE42CnBag4qwQoWKsHCAIXBmW6vwFdmh8Gfbn/BIHsOwl5sscF9hjDCTWbfwcLemsFuY+1Bip7+Qa5mhcGh1gpCVe2bwegFS8Gl89RAnetMQBH6h0H/yAzCzWf1wWVInsCluHjB5li/Qf3cHsLiVyDC6PQrwlvwjL8J1zpAtGYlQguSxb8usf1AN8OmQcfU+MCuYWtBHLR/wEqvD7+7/gHCNHGCQQ2VJUJGrJxBksDfQdWuL8Eg3vTBRLcEwq2Qj0Gz3pFBsVnJQdpaiT4r183AKWbnwO5OF8IYkxrCxUAawr1gFMIPeH7Bf2IwwlTQNMLCobbBg2lXwkMQsMB1AQPB3MkMwYdBy8GO+CbBRo4TwmqdH8H0TnTBVys+Qhls7T9ddSfBOK6oQGxXAEKOjDhBd2BnwbLhisHU2djBqa0BwSp+1j8Uc+ZAB+y4QW4uDEEQNyw/azWTQHBbcEHUbDvB0NypvyD1GUGcOQVCaemlQbY8Y0EK9eVBeGgRweLzUEFkagPCaLzPwV9N+EAR/jfBTBVgQVVFEMIMMsTB1CY5wgzd9UH/B8K/iPQNws7X/MHRMBNCpbDLQY7aBsKDegBCNfXhwTH9l8H+n9jBoQSNQYDSLEEDa5o/qbkMQdRVFUL0fw1C5ov2QEekvMHypdNBBQ5cwZrexkFFOL1By2lUQPWgSkHNCtRAXFMHwha6zUFslCDCj4lpwL3eoT4atgbCijgGwmF4p0GxROZB5Sa5wednOEDAmWTB7BLPwck5q0HFWn9B2lyfQXIlDkKY4w9C7GWywKyeLUBPUgZB8JQewTN5BML9GF7BHmKLQcDRIUFgn0jBdBVFwqWkNsDmaINByEKmwYysBkDfN2U/L14BwWFtxL4jvwfC9327wYCsJ0Ey4ltBPgW5QVGugcEijAxAqa4NQG9EYT+gDS/ClDgVwvxRvsEvksfAd5okwnJDxUESQBbC75iBQVvoAEJY63FBRZC9QbTMr0DAVOzBKt7twc2/FkFlFllBF+alwWJzqsGuzo7BnCXAwR+PQULC6QhA0nxoQYC4LMEoyl9B6rt7wSjP80FwmDhC6timQED68EHGU5HAVMPmwfAHhsF8FJTAem4wwtvzzMHeG1TCET6qwTryBEI2YjhCrJyzQOLtDUKyZxRCgskhwah/X0Fn1k1BLeodwnVK778DTbdBP3e7wd2qLsLXptPBNuHPwdYCzsFRjgPCVV4AwlyeIsEzjBDCz5v8wUJzN75+se/BwjiFvqxd68EYwwZBkN4Bwv/erME3fSHBjbDYQCgiPkFGULtBVd6NP1Oy3b/eIBnCTDoWwtZgQEFkBP3B6qE2vq2VKcHEZFlBrTY4QX7XJcG3FUhB2F5xQbI8OUJJcDtCG3D2QagTXUF75XZBadptwdMDbcHJpdtA2yq5v1JXrsERKGfBwAhnwZXJAsKBEOtBNBaFQZ/K/8H0Pf7B8mr2wJ6S4EBQfOrA3B4dQgvNhMElVq1AtKG7wdMvn8H8J29AuiA4wUnpT0D4nLvBZGrmwQgFwcG13NTBiHcqQL0mVUBAhwZBTxmKQfAMicF/9AhCxAFNwJLIcMFLYclAATLswZyyhkGiXqPADUXuwbWxAsJnJvu9lLwgwnD/38FsSIDAEuJ3QVGdy0GzgDfBJe0hQAJO/cEb+Q3Bqv7VwSSBPUL/sbZAIbPXQRHwJUJbXxhBaStuwZ2RbMEe04HB+gRswSanDEJ8jGlBnyNmwWNYAMILHB1CbZOcwS8Oh0AqhhPBJ+/4QZqwlUEbH0rCIpi/QGRdysDLs2FBj039QeUBvcF7T+bBisEFQSPGd0Fiu8DB3iOnQXHznEG/Lv7AVmgzQN7G0cEp1QzCFW2iQEhm3ECCDHhBx4r0QGP0scFFCdTB5t7xwacYqMG5ko3Bv6GuwRtInsHL6aDBXbafwXbYj7+DL51BDmeMQd4r0UEcdNHBT6dCwQClEcH9EC9Aygm1waH22MHREQvCKZgQwiXuEsJYJhPCD7IzQisRUEBlKGVB4k0OwUQ6fUEboAVB96SMQR3eD8Lt1LvAvaymwKhEpb+J0XFBPBoMwuIU6r8O821BEx0fwpxet0GM0LDB94vQQO/XNcFVfGFBLLkpQvF5L0IT7VHBE0krwoL2+0FzxpbB3XWMwcGOOkI5625AhevEQU8VHcE4e4vB7I0qQgSiB0FMB5NBdc0GQs9Hr8HebIDBTurSv4/1/EHVQLtAhkpOwbqSMkK9gQI+ZZ8bQSPxGcHbESHAnVpxQdLrxkHjqJpBB/CgQE5TfkEjEFDCaqaXQb2Jo0Dd7txACHbNQbo4oL6Dz51Bt4KdwK+KI0KRmCFCRxnSQVjtQ0EWhaxATHefv9bLXMFdsYTB3ZuAwXJVxMGp4SzCg88rwpAxJUHXu/PAej9Xwnk9m0FNpgO/1cifwZ/PLsLgQ4A/Pv/vQec95sCwF2pBfbiWwbutpMHGn3lB0P0fQYg4KUKAVprADJmVwR7aQMFwzt/Bed5XQc7zykGCQI/BP34vQQSukECbcN5ArKGZwR2vLEJuRtXBpvsAQYfpDULcVqDAh6cLwfUuCcKNvMNBTuAlQWTESUALY+xAG1UeQcFOd0E2w4BBdVcwQnAExUHZNeVBQMULwYaztL9DwxPBulkwwnWDIMHXt3lANQq5wWW78cDseYHBl6jkPmbLFUK58cRB91UWQmBPC0Kr9tLBOTwHwjk71cH5078/t1JYQSqCGkFb/wtAko/+wZBXo8BApQPCfbHTQQzS/MBIzzPClAEcwnGbJEHOUttBGOizQQuyOUGrVtC+59a4wQ8xI0KnOtHA3OiRQY9Zw0AZYAFBVc/PwehPgUFP7ChAImMWwYGvgsAX66tB6CrSwfHuzMFUdqrBi8knQdFKS8JcAqE9T1xKQS6Qt8GKHjXBjKKfwSF3vUH1+0dBaqdgP9MviEDVoudA2iUZwqgo4cEACQ/CGHDfwWRR38EMT/2/VuDtwQt5j8BMq0lB9zzJPeTkWsFiREQ9tff6wdvRmsFVYJ3BJxuRwPIZrMHgVZXBaiIlQcxPpMFb/l7ByeRywYivLsEQZQzChtJ8QBFcgUGJMKjBHqF3wRIUX0HAbY5B3/ufP/0YAEFHCLNAsMKIwa7/jcEKEsTBTpugwPGi6EFPcyJCmLdFQZfchMGMA0vAN8c3QrbNAkEn/cJAz9gIQjKI60GeErZBxt9qv2AAVkG9fg7AIiBZwf3jmcEuC4hBgDc+wUdlrUHusDNBfFxtQHHo2sDxXxXC30hfQUBbq0GNdy9CTm29wJtU3sG9kD9CbCiHQaoiPMHPnLrBLDQcQb0uhkHwnCxCJ30mQscl10E3g1FAekY/Pzd9ykH9owhC/9r9PkGGW8IH+d/BLtGbwdHiVMJZWzbCxRTpQcXCj0FECYdBidMJQriL/0Ea0DzBswF6Qc2dA8LcwAFC/XQoQY/ZwkGe3CbBVSI9vtOpT8ImyhRB+euIwIU5FL9VmhFB8OYBwlUcEMLJjt/A+hURwpTDwcFu0xTAMX3lQXLYnzyqu+nARaGVQTvjCUIztAzCksTvQcsGhEFhRS9ARm+dwFJJoEE6Ji1CcusPwvU5DsH1o9hBqVE6QhLAKUIoVahB93uvv/wkjsGYoye+t5OOwWlRkT/6bVNBQeMIwOTkfEGklRJBpWNRQnpPVMHOCJvASFgsQu3QIUL4GUHBR6V/QaOAM8D3hqRA0UOiQVFe0MCZy6TB8J2oQMk+BkBxGw3C+3kOwqh0ysAaVSZAQJy1QVTPEsKiNQnC9qoeQTwW6kD/9rVB6J2eQQiIg8FI04hAYTiqQH/aB0EZY3RArvgEQl+h0kF4XA1BHdcswhyFi8AdMpbBGVg1QZLsfMGCQ6jBnTFOQsf7aEFlIwxCq7hAwUYX1j6fM8HBTocBQFQ/HUBQBUhAAvVYQkpqgUE54WVBd1ybQVjcAkIXhuFADBmZQdkvg0D6VWVBTtGHwZKXhkG2ViNC6McyQUA8E0EmbPtBRbPrQTtdMMCD7AJCs4pbwvcpH8D3xR/BrFzcwG7uOkLcCejBP+hdwdwKRUHdnMs//qQKwjnwFkLZmYk/wBVGQfGI5UFit8XBsHnBwU4yWEFH1+vBjvoaQiil48HO3IxB1ZEeQX7oJUI2M/ZAoGCnQVDAm0HSqKFBMW9UwUO5QkG6EQ7CS52BwTW4BsIX8OHBfmjFwfbe4kAt7hbCVs0KwjE4dUEC50lBsO8cv7wIDMLws0rCwa9KwtkRCsE1pMpBWk9VQgmpq0F8A/BAj8cLwlrzkD8qIchBTLThwG7l/cC3XzBBQugzQnUHCkCPUrrBtsf3wcwt1z861Zm+zRCowbyKjsC5MybCYnT0QcUF3cCnBRHB7JJ5wStAH8LfBm7BGQoTQQLjE0EC3y1BJ0syQmahtEAw/MFB8gf2Qfe7EcLSqvDBvEbOwFcH5sA2xb5A+z6Hvmp66kCX5jjCCFoBwmuxwMA9gjPC5oqsQTznAMKhDmTClAtPQpewHb5FGlZC92aewQ6o20CYIp3BmwsuQVUZXkFlY11BwQB8wLXlL8GeMbVAOkBVwi24UsIbeTTCDxrbwBlFWMFzmcxAYGX4QGA4yMGg6WPBsDspwr5DiMF4rVPBD0xmQUWTrsDKyCjAP/mhQT/Q/z+YSixCEx2iQQuSH0H3DSRBPs8zwTJW8sDbkiZCVYniQRFwQEGPJodBcqp3QVmzuMDFHR/C2EoIwoxUQsKCHUvCuXnMwebi8sHoYv/A2pI0wkqQ7D/rgu0/rLACQG+KhMHZN+s/FbnsP7FVacHu+7tB1QIbQUSY6UAOs+9BRL+7QE/VU0GwgDJCHw4fQjlejEEORIZAulQKQjFSyUGxFu/BEPRuwb9SskEBHNU/M4kbQIx3r8FX4JXAlLNKwJvl5EFYZgdCvq66wfqmy8H3I8rBOnvKwXHti0A6bbjBwBtIQSQoI0GTVclBpby1weBZr0CQ3BBBSfmoQb59r8HZxiJCfE8fQco4FkLs1URAV1XDwcGGGsLRaJrBR9OkQSzw0UD1D4xBRiGFwTBKkMHZp7pBJ71SQDUO2kFpBPhAN8vzQIH83MBlVPnBPpruQYbcH8LNJEvBFG8PQt7sU0EPVsRACdCuQUo9+8G+pYhBTuE7wj9dV8D8gt/BK3F6wXxvP0EjLBXB6ga2wRTtw0B5+69AZrwuwtXr7cFePX7BYoR+weWVesE3VVfCyOYzwgmGksEHbXjBt3EqQgJT/UCRaXNBpLYKwWs7ikBOEq3A6pkMQspzecH+7Q9CEg14QDuzRsIUoUDCpR1oQBU03cEO4qbBZrywwSDNJMKf2i/C2n++QOO8AcGjBVbA2AD0wV4UOkCacDHB8PGwwfiqOMFcWQVCny71QAVmBsBsdP1BP8hhwfPFgkEhcX7AOhaIQcDELcIN2ibBM1Qlwj95F8FGRERCwYupwNoK70GekbNAHyaDPxt9lsHdd5XBRg+OwX96LsFLoghCX0QpQVBgW8D7LyFBMh5UwRc8n8GgYKtBEujdwd8m3sGRCS9Ck9UcQB78eMFJESBCpiVqwTybsUDP/7BBhuXqQWPURUKZMx5BC7PowZZ4S8H9pgrCTW88wpDBT0EWXQvBR8FXQVe9d8HWGnBAMAqQwXN8AUKn0gBBbVODweodSEHVdFTBQ8voQFLnkUEXiszB6GhtQAK25EE4BTJCPQ3TQD1ay8ASqh3C2durQIpKDUFPke5BMX4JQki5m0BfocVBdjU8QocvIkGlQk3CTTMkwke2HEGqBLdBSvuuQYA0JkJcvWZBLdyZQaiEE0KqT5nBecPwwa/KYsBcKpXAM1dSQWEEVMHuQInBqVcewePjFcJNdgFC+Y2AQVbgGcFsfkxBf4WFP7QrHUGZeIRBuuONQC9UoEB+64vBNodOQI64scEF6gTCl7QJwda3MMIRXXfBEclAwYJSdsFqSxPB+5jSwUI/eMFNgo1AL+ynwFfyzEFKsaTB3/1uwQhdccE7iZfBidSmwaR+QkE5N7lAo8qlQG9ZKUJrZsvBGWcJQpHwCcHdJPfBSb8twlzEHsJyt1DCo6QPQfRGGEKGiwxCdlr9PzjrDED4hAvBndWEQLLwP8AK+JRBLsHQP2FNF8Gd9QzCNhKQwbLShEBav/vANWZRQTrqDkK1a3BBmIztQdrowkD63aTArvb7QVzH2kEhX1/BVQAawsktCcGdGJnBEjFNQHN9HcIN0qpBP9ypwXKCpcGjVq7BCZmswcOGOUH/OgnCgVqVwdaRDMLX1TFBNRtsQZMvw8G9aY5BFURMQZKVyUG4rrbBICGZQRNrqEE+1rhBvy5yQRIAlcFLW0TBmIzZQadPhUAtHwRBHdn6QCHeKUFXpr5Bt7QewkWKIEJ/RK1BDvFJQVCXSkI6SVFCVX34QZKKfkGqBvTAilnzwBW8+sBcdQlCK0rMwfUEI0DDDOPBwHL8QBWQkkHtFoXBKH6CwT5OG8ERsB5BsFvYweqpvECoc0xB37q7QUYjsUDv57FBcTOnQQUyXcGnW3rB4u9xQaVpyEE52AxCW62eQERJrEHCZ2jBMdQjQGpozMFRKtZBTYWwwcO69kGp5RBC8ospwuTaeMD+L9++YI21Qc6Dor/uIA5BEoCgwUN/uEEPx1FA/ZuTwcKUdMFTMurAr3o4wfKHFEEeuW1AA7HKQTGICsGBuz5BApZYQUDGJ8K8ozHCYBs3wg1L/sGrIDHBwumuQeA3KMJFkybCu/4swqtALMLQbifCbU0iQQcTCsLMXu3BFyEMwl4Yl8H+PIbBN0MXQtEnDsKLBrHB1MTFwbnprsGH2K3Bldaswegbq8GDFLPBdswRwtX+WEKg/FhCFkLkwYte20HU+WtBUzgPQoPzqcHDyyTCG1wlwuKQJcK7xCXCoi4mwoxCKsIh7irCtwsrwnQHK8LTDCvCayMrwpYSJsDqPotBk/ScQAI5LkIixrVAXJ7awRAVRsEW4MQ/mz/iwWQ+tkEnDRFAaAkJwpQuCUFLuEvCvRujQUhm1T9LcvvBfIfWwHUErD8YQjvBXLsfwhI7B0CNmULBMJomQVFaJsKcc41B8pKPQT6Co0Edm9I/Xh4RQDNYhcDaFNtBO6eCQE6Wy0DWObJA1Bp3wX1LO0HJVvvB+R3lQAbJq0D6xcvBJQc/QszL2kCQYmLBuEmDQE6udUH0QjVB0n/Gwaa9tj9wWwXBy67SwQ1TFsFci4LAUpnQQbZcU8HiLrDBF6Y+Qa8t5kDNBZNBUeQ+vzKt30GwU9lBYN8GQXySxMEBII+/PFu8QcYdu79pcNRAq5qqQFoam0HfB+FB+7mEQTKmkEAH8QXCPRQpvecXlMG4KS9Cp34Awuc/ekDvcnTBn4tzwViZg8AnlbBB0SyPQSV+ykEJE97BPxaDwIagEEGClU3B4ZB/QTChn0GKGh7BK+TnQMbTi0CoaARBygt7QeFNHEKRIb7AatjuwCfa+8HdVzZB+3iXQXkPjz8mbANBIf4kQAq61EBXBQnC8AuMQWUVP0HmBLHBo+O3wRmHQEGIZYfBQmqtQef4x0Fqoy7CQudXwkdyIEGIgnXBeVgKwiJz4L+8YPK/HKbYwRCLicHDOtdBrDmiwYe4iMCGIgtCf+WgQWU5SEFHoIHB5XnCwQ5CEsHSKgLCW1EcQkTo3b9OrQlCFdgfQf4mWcCYfFHCMn6DwJrWXUDZb+bANjXzQfPAncCpp3ZBVHSGQe2CpMHbXVrB8NoSwVS4QkHlqxDAOaHnwZQRRMFomdfBMzwGwYLKdsEN8olB8L3iQNGBrkBdG+1B+Hjhwc4PpMHp3hTC3WXJQC5lxEDe+dhAFqqyQSt6J0KTEvfAolXuwXNz2UAZi3zB/J+LP4gIHcGj2hrCGJlRwWH02j10xhNA1dfVQLhim8BSVAPC1pJgwZ3VfcFOflJBSOwIwvJAMkJPvChCkUQ1QpBdicGPjBLB8fu6P8qy88G6A6vBxUmOwSGiiD4mWtRABpGBQXhzCsFdcA/CrAM+wV3I+8H6I3VA9IfjQOpTZEBy88vBsFvkv32wjUHm3BdC4cPxQBY6KEHCd9zB6QMQwjciEMJs0w/CVa0PwqKJD8Jj+wrCNx8MwkJX28Ed1OdAYtZtv3SYJME5pAjBnfBIwv8lTUFq2LM/uIU5QrvQzsHA41dCzjO6PSsHGcEs/AfBBsYxwB0yHMLXxIhByyvwQXD07EFT7cFAq+rYQBE+AEJbnR3BKRX0wV6c08FJ+A9Bn2sDQtEgVkHNLSjAJJoMQh9ThEDoPevBnFgOQSn8iEEuGwdB/ANYQaUftkEJ/ABCC878QZW4ZUFjGblB1MWqQS1JEMIZgwhB146KQC6dij+kTZa9MBcJQmg8P0Icz0JB7RoQQQpxrEB6ybXBB7qiwSHQVL+TTCVBDz7HQDX1qEFOVojAGKJQQrjxFkI55YpB7uUDQj8kEEIrbli+syUXQI+j5MBhwR3CQbuqwXptM8BaFcVBR5KewTj6wMGPTBQ/zSRWQQdBDUKdYJtAmtDRQZoaq8F1cx/Cs+/SwIV5vUGGcpVBiExvwHq2vMATxltBio7EwRhaM0K4V9VAiqalQftclkCGOtZAJFXYQL6EjsGFVPlBw56PwQuCCcJad9dB3X0NwU0T3cGoj7lAwQOPQS1QlcFcpORB4RfwQB7N2UB26idCvxP7wdgK/sGSjOxBuxl0QFMWFkK1zp3BIFdeQR8ndMAMySxAK2RiQVC2pMEF2EZCMNlIwZEzKsBkTWjA+FdbwUjER8FDnHrAxzDTwHMyPkL24gs/TODfwe+uVcBrfm2/aO4rwjSiCUJXcFHBBY/Xvzae5kG1Neg/9h/fQZ6V2EDiNJ9AiSIAQi+V60FJti/B2+I0wvqQNMKj9gTCsICiwG/xhMDzMiNCHFvyQCx3K8ILoIJBkaixQHXhusAeozBBWAWTQay0wkEXSxJCbdoVQDEyx0Eua7fBYcW8wI0nAcH+3Z3BqQ+mQS1qgkHR7aVAYg67QAha/cHoS9PBa90OQntABcJ908C/dWBFvqXv6UEUoZjBRT7twQqYw8F1+p1BXBmdQSlvIkIRaFFBHL9SQSj1CEHmh/xBm5xLQaiJhMGG1kVBWZEYwoWvuUFu7JxBllb1QEOTC0HdDU1ATJAIv1ddnkHZ183AUSccwg9grsH9pK7BTiZJQD6hwUHDzZjBIUvjwSjjZUH6wQ1BQ9lZQSPpM0JPITNCqOagwRawAkJhE/fBulr8wcHkxED5V8jABgqRQOvl0EG7uHJBKK5yQbpV4kBYRTZCLcbDwUzkm8EDrEVBrQ7eQNd3AMFP5rhA6iulQU+tIcLKW33BotghwsDCJMIHmfJAFMEEQqGdasBaA4vARiamQbWUREEKRTlByTBMQEvygEGGGGFBcN0XQX+gxsFfLrbBzdKTQaqfLsCZa/FAilUGQjyuQ8F/lZs/l3OUwZG1vD8uDe/BVUZkQE8fBkKQcbjAu/C9wXEVREFI247BUIEdwtTuCcIFkg3AZorvwUbh8kGZUmNBchrTPy6GHEGSRQbCY5tFQbIecsENy8XBtH6XwSz2Xb/9h1zBFZwUQTGkPkFbBrvB59eqwVQ6NsKOfINB9CVQwiORU8G2WDRA89HOwNko7D/x9g3CH6ACwKlJXb0QxztB2NxqwXmh5L9JDebB8pPEQfFMksHkRkXB7mqcQTV8mEFE6+RBN5dVQbd7pcHO6RdA/fnWwJHGYMEelBNCtJIjQBfIjsB6eR3Be0ObwUak5kEF1ulBaWiEQeTjKEHQjddBGk+SweZ/jsEliTZB8d5AQdoogMG2qe9Bc50gwtgN+cA+20ZBfBckQWnqg8EDS4vBzS5UwfC3MkIFvB/CrRSXwfd600DH5wZC+J4Dwk/1BMLQTzNCz+2SwQE+p8GjwJ3AhqGjwHzNh0H523NAnEvhwRzR4cEgx6nB4PcBQC1enEHu+brB7KMGwnoxAEFq2h0/FjVFQRX0qsEEc5RAB4W/QU9M3sD1qRhCw3HgwRNJT0H3O49BlCpSQaraDEHnNFBB6qnlwUz3EMHjnZfAP3g/QVkvdkFWUANBOG2kwaou0UD84SNB/Vozv+cbE8IJ/InBK9PgwEQdOMEDPIpB0eq5wXvey0EOi43BB78pQP5JmMHAyjNCaajPQTfdm0GWDzZCGTNfwSt6NkKCgjo/oi1NQVLfHsIYkspAmSvfv9OIM0HfuARBBxPEQZRxHkFkS/zBoPqZwX9y1cH/XSVCtNwzQS0UbUBwBolAq6BuwddBBUKDI66/utpkwZrwWMDOnHvB9hOSQP1RDsLL8yjBWq9ZQezrqT5zawxB+hJ/QC6x7EHsTohBwpe8Qd1TXEHNByJBBm7bwWKx1MDaL+TB+1ruQfypnMAiBh3B7cQwwXJU3kHeUfbBKdcNwiNa8L99HqDBJqwHQgJ9Y8Gi1R1B/SfUwVYix8GMkORBF7TvQOx4oEG7TbZBd06CQFNJQz/JuKZApGExwCUbMcDyleZBDPDNQfG4H0FF8fFBjsysPsAAhUB5xMDBL+PHQXcHGkIKS8U/GgSWP0IWaUFltTfAl3K9wd8/BME5OXtB0xJHvt5VNMI8qC7BkWNHv7M5IUKbbs1BCaBHwWs72L5/gM/BfRa2QRlgK8Lcw/hAGfUrwjHNPMKotB/CLgwKwX19EkCGVsdBMoweQvmO0EAQEi1CnmUFwhgoT8EgGzHAjg3pQVWKgsHY3KPB/X7+QXH8BcFm1BpB/NFVQZAqRb/v4cS/MzWiQGaxo0Eu7wRClqcJQiBCQkLrPZZAPoKPwTmriUH5l3TBCRM+wME+lsHHPZLBZaEXwZh4jkH9LqNB9z0DQIVrjUAAohnCuCdEQb7sC8Iq0AHCqJq+QcvAe0BdFMfAzFzXwaSV2cHP+NJBuCwOQkkurUHuCZxB0ZIsQmPNqsHGy+ZB8wkhQJfPqUHcY4pBW0mZQf6Y08EfITe/U5vmP1DC7kFhgp7AOukZv5eHVEA8RB1AaSMQQLV1K0HVXKjAtQ4FwDoAxcFtf7fBR4dMQcxV/sHQ+7PBobsswXpu+8FSD+nB6tAbQWbTV0IZc1BB+gbKQACgJT49RbC/8FfxPqIHwUAekj3C/DDMQTQ/DkGEpHxAWkwlQd1zFMHi/ZJBPGwoQdiInkB2sddAWVKgwXly5MHxoffAuFijQVAKcUD7THnAtyMpwYm+e7/8+6VAjB8WwmwBtMDu5AbC3ebFQV2xUcLboojBao3HwVKGusHs+IdB1SLGwLAKB0FQVxnCzbn7wf6lpcAIWuXB/w+UQdrL4sDvbtbB6z3GwWQfDMIbf8vBHroBQlXKV0LFA79Be1eev+ffVMJomP3BgtAnQZnLRMFx1lZAwg8lQWiyAkIJizzCreH4Qffw3UFiWKk/MlcdQewBFEGVMFxBte+twbBti0EH2PxBzCGFQbiO1cGpmNPBAWmwwDtvhEHoyPXBHlpnQQX0pcGpL43BC6+fQK9CtsEyPRlCp3g0wF94KMFP/PhBnRHRQSNr0kHN6LFBB4jGQRRN378rV/VBu7vJQZVpsUHd4LTANASjQVClBkKoPWrBhdRuQaQSKMLYMp1AwEB3QWe1GkJ0voJB+mIbQRuwQUF01LTBKDu1wVR0WMFPjvLAgUr3wGU82cC1c73BOLCgQF1XMkKky8XB3C1mwAlxYEFwFgdCgRoowr01EsGT9snBT28LQj/CUEFbJItBQ3SRwfUhpUEkCBFCK4bUwVGdoUGWRYtBwtK2QfU42EENUh/BQyEjwc2D78F2I7jADgOdQUUNpz+QslXBKVPIwCEOpT/A/+BBnJDNwHGUAUKnhrtBmw/eQY5I0sG371dAyI2mwS8HSMJpMsvBR/7RQSQrwkH5ksNBxqpJwdsg9MCMZYFBO50EPCkklEDUgozBWC0uQncFt8GDaGnBiyA1QpZBkUHYSUlBBLM+QWLTk8G56KVATzGWQWrvEsKVWEHB6gXAwc09LMKCB4XBfGQbwivoPMISIqTBe+eFQXGul0G8br3B3YvhwcyH7cEOkdFBPj62wbcytMBS3SZCsHICQliDacG2b1RBxnIYQqJ+oUGD2ujBLFnWwK2QGkLmTWvBXCCPQOSo7ECwp/RBaFqXQJxhU0EhkxvBscV/QdhovUFM9KnB4J3XwJK/KUB77uVBI+HHQOsaisBp+RzCmQ2ewAeVH0Bst8W/ABmSwSwJrEDi5QlB+wdWQUiF/8DQb7XBYNaYQSwB+cGO5rXBopTFwZT21cGdG6TBuVSlwKQdL0LdwhlCYL7uwb8zDEJ+svPBDsHQvzRqAMD61cnA6jl4Qaiwo8E6JYhBMvkewp2vvkBkHuTBpRlFQUminz61o74+gqe/wJHQjkG8Ih/C/HYGQkFuJEG/1t9AjJ5mwMmqN8AWn5DBj9wLwtgU0MGrREFBhnNswYIebsF//U9B3U+/wf2xR8EuA6c/TX4gwH9t40AW3DzBITruQfCmXkBDEhNBQYgPP7RZosEAu5/BDe6pvyn90r/4xstBFR/lQFOBjsD9qOxAFjIzwsbGt0CHfszB6yELwd4N78EVsoxADOkCQlDShEB0XBK+3mKKQI8Y8MH7usrA5oH6QRFVz8Ea1ezBn/FTwAXOK0FnjTJBQt9GQV+FgkFsKJxBE9W9wXW98D7jC9jBDjYrwsiwZkHq9hNBvSPXPy684UAitLbB4Si6wNulAkLJ4mhB8IZlQW/VbUHhbjBCZb1wQWhE9r/8GVtBsxQawvX9ncENmajAl20iQamDNcLs75fBU5GTQN4pX0D5kopBi1uzQNvES8GHNBhB/c2yP9tx6sE0hgA+mh0vQnlkoD5Aq4/B/8cNwqrAI0CncP7Au4yUQGvxH0LN6t5BIIvjQHmwOsEuDP4/bxpIP3wThD+erO/AjnqIwUBgEsKa6pPA7Rg6wedft8Hav7PBalnZwRnak0HJC+NBlFw5wP3PJkHdjJzBHjVNQUbGxb51ddtAoKrZQAGkAELJHgFBIy8QQW4F+kDTXDPAcYj3QQ6F3UA2XE7A7LxzQfqEBMJn+yrAsuJcwFIB5UGtz/RBBAHzwZbeG8BEiKjB11AYwv1UXsHimFZCNQstwP9i7L8WW6pA5hKtQOUd58Ev3iPC9yHDQRD4JUHf9mNBjvaxwCMEw8EslK1BUyOpwUb8ykD5n7TBkbAIQG+UpkG3xHHBi58WQeoYBMKNcBvCa1ynQYY0E8IgWLpBlpHpQSfASEFivEA/3q4HwZsLUcJL2DHAe8rxwXjVK0E2Z5NBHK8bwC6CusCyOT7BIsbaQQYlWMG61WlBVs+8wTNL7sEzVb1A9JISQSGM1EHjVM/AOOAfQsc6zUHHnUnBoPyHwdTsh8GPdAjBXnqMwZY8vMEjvLnBjPi+wZt0wcFWAsDBFITwwNtoMsK2nG9B/kBTwtp+10ESsUvBY4i2QcKcyT4qratBLHugQdMoiEF0pNVAptuRv/uXjcC4grxAc6d7wXo32sEd19tB0iKNwUpMjsGxT9DBC+BOQawcpkFZ4q/AWprOQGtqhcEbf0pCt5+2wZU970GUA6nBhXzbQXNePcKkLR1C7xDNweyuE8Jxp9fBocFYwWqcRMEdRSXAE/7VwdZrsL9AwtrBxxLXwcN71sHWyT7CHnOwwbXm+MGCmO7BEgFyQRZDOkHqiZtBXNeWP2YYxkD1gBxBu3kHwh7YDcL4vszBm95bwUaZBsFp+ahBp+cRwSnGnkGr36hABdlawbD3ukCsAHFBzy6BwCi+7MAWTB/BUYEjv//32ME1BjbCeOFqQSKAJULCvv9AiHaYQBgvtkEWLQ5CuEm3wZI6NMI+u4dBGU11wKUmpkAej1NByMfEwG1E70DqD13BClJjQl3TiUFroSxCDF2JweIRmsGZOCbAt3VGQdnSN0EAygbCvTSlwEr0XcECXpK/yDShQeY+5r8um7JA/hwQQvpeh8DyqafBKMiQwV96ckEFoNFAnnwywrweF0IaAiO/skALwblg8MB+E1vBCGQowiv3zUGRPihC0cLBQORQD0FlzArCh21LwS4qGkJOO+RBE2b3QWXYoUHCGo1B8mN5wds5ecG4X2jBXdKcQEHLMELzH3/BQnZCQMt8i8AIfQRCkJStQbdBrcHafutBV3gEwo9e7kDxElHBX104QrlP7MECpbDA6OMDwktLBMKFBpDB5TmfQXoF+0FBrfPApEacQPBgCEE46P7AGZ1sQQ7+1cEMUARBSHuDwc1lmkFCNjBAwPSCQBnBDEBcpQBC/HmcQXsaGUFB5GVBfRyzweHGt8GsvolBVBQZPomunb8igD1C4B6ZQTr0FkAuKD1Bn5oAQiuxdkFwQdtATwf/P74kAsIlfZlAT0H2wZJdpr5QpgfAs6aVwXDzDUJejQjC17IDwUDDCsJ0KtnAY+6Qwf5PvUH3GkJBwCkmwiC0GMIuiVTCWyBZwkYAnUFlkrBAbI8TQIz2g0AXv/7AuGlLwRmPdMB5xDjBHXU3QeJPvsH12YzBMtcHwp4etEARKZNBifajwCSYpMHqfQTCNoMIwf+rR0GCLKfBfcijQaw/vEHXQoLBWo0OQataWkHrLwPC85fTQXF3d0C5p6FBmK3pwR0et0CVAuRAEhROQG8PHMI0XzLCvf4QQno/CUI8UWrBmGM4vJ4TAUKqTCZBNX7cv3GbOUFMBuFBcqUUQvxJPUE5iY3BOXE3PyfRtsEKdM8/Uy+xQL9ICUL2xllBfQ3zwBHTkcFQIXZAbEy0wUE0D0Eco27BCUk9woCBtMAwF8FAMWGVwZlQX0DxGAlCBuo2QfqP6sCNsi9BoR+VQSc4B0LkFB1C+BM8wB3vgkF3NlJAmNQcQBRv/kAuUqBBSVAOQZYPBMIZ4H9A+FTcv/OVTMEuMUfBD3hCweyt7z8L9vJBGPALQL0en8El7a5AGz0SQhdXYL9TJfxBPzgTQeX/y0F7ysbBd/FrwDORZME60jnAU/EcQhjLv0GFpsZAJHYUwh8imUGD99dBJn7QwMDT8UEkpTLCIAEhwrUvuEClJ/pBc6+IQemsVsHKtvzBDbL7wfJbyEBGbqvBoObFQNhp2UAW8zHBfQrmwR6DAcE5X+xA9WbgwGcXr0AXjYDB8w6zv3OQM8JKg+y/wWPlQXyuFsG6kz1BLIATQPZ4dkDW1iFCS5g2wq00LkHxg57BdcF5vtFErkGsTJRBVtr3QVIF/MHuQqtBTpAeP5e438FYdhPBDrenQV80wUFALQJCdhDKwbZOwcEKKOTAOApmQeBGckGTBhFCgt3QQEQQZ8Enpb6/P3ULQAcZDT+9iS9Cv1cpQipDLkH581VB0KoWwQq5GkErKpNAIvrBQLRWfr75ORRCZFDQwEquNECQU8PBbjT8QDsLd8C7xwHC/FjtQJ3ko0Bcba7BtLDzQdKROsE7SSJCFT2NQbYGUkH4W1vB7749wVghu0DcE6FANN8fwDcRH0KRuOTACBzBQLTIPsIY8BDB6+G9QPT4jEDhEplBN3g8wSvE7r/YLW7AaBhMwUsza0B+60RAWp59wZz1i8HFj/BAryEswi2YJEIEr6vBMyX3P04R9kHyuHnAW//FwVjQz8GXw4rBzJSowXCaQEEskgPCbXsFwqcN70DIRADBSCgxQe+OyL9hiGJBxQL1wTqijEA+4dzBhMD6QXMVlb8h/LhBSMBPwcMxN78pSKNBpDVsPgi40cFZXzzCwaIEwp6+ccGlOy1BODvZQWxmO8Ehf3bBmTSAwcJvdsEl2bnBhUa7wfn9MsCOoCTBTCt/wcUo9cCXi0rBTvBGQT2fWMJOHDBC4RAgwQJsAL+MVV/B7UrLwJm5H0B73yXBRRS8wQ+TikAdlbBAylEcwSAA8kEQBDLCaNQaQLgQ1MAquLHAHWlhQIaTCUI0OzfAmOIqQTabyUBPJVzB96YNQmW2DkKlWPjBPEAGQWQSNkE7e1ZBcUcwQWRLm8FGe5vBqkiUwY+It0DIBJ/BkWOgwAmU1EHFRC3C4ptsQf/zGUC7XGZAaH3OQSADkMH5jptAcYbfP+P8LkG9Lec+VxiyQYWI5cAj/xxBgJiuwQDgjsHDfXxB+EjbwI7ZcT4vQu0/ZSKzweKYakG3perBsJVIwV8drL5kHwvCqEJOwJXgtUCQNgBB+C/pweGnOcGLz1rC35xGwNUsq8B9biBAbO9SwPUPRcLBtqE/yAP+QBFM0D+RFbZBSIdtwIAMN8JeXZFBUu/iwc1z9UDcCvZBYsLaQYSwaEELGi/BeohvQGPiZUBf0sLBIbzmwTon/sGeb/bAp5X2wbvsOkEZ/tLBG5SqwTL2Yj9waWfAedJ1QY980MGDOdNBAFPKQIm46UCjPvZA5OIeQu0JWkF9wivBqGqDwYV+n8FKlDbCRuKkwek6hUGM+3RBhkjqQPlwH8Ev7J9AmsMZwC+OqMEtz6fBSm2bwYdMo0BcfYvBMKPQwP0pX0Er9IBB4sMYQeMFI0JkM2tBxgOnQSzzEUIkSwzCQ3H9QLdLNsILbDRBJm46wrN8cUGb39FA9kPFwVs6E8H0p4HBOkJqwZKYO0HFCgPCW9tqQKXt6kHBJC1Cg89YwYvaQsH07mJAWe77v/eI4UHhC/JAeSe0wP05CcJoDUfC9NbfvwwcXUGQQUlBmRg/QcRlBEGoyg/C54OMQXnPP0EAOSZBWjiiwPmStkGHmhhBm4KHvzb3B0IX03BBP28IQuWk2EBR9ChCAw4xv2/DlEHZ+h3A262Ev17qLUKrYTJBuYhFwqUDKEKEBfZB8DGHvyxr8EDfxrhA3o8cQAAjrMAT4GBBF7rBQaGEnb+VX6rBGeBWQX39ckGnU6lA6+Ghv67BUUEnKcbAZOYvwZswBsJx5zbC2OiqwdyChsENxeFB+s+RwN6eqUBs/gFCggfvv/T7T8AmbyZC3qEnQhYcxb9DNYFAmuiTQXUdhMHCQxPA1MsbQUEhv8HFtM/Bl9HswebUXEGpIwtBCL/hwE/8pME5WAXCd97Swe9pskAlVeDB+Atwwbh8D8Cgy/rAlz+nv4Eay0GAlKVAQpJDweUqVD/YkgrCklSoQcV2lUHwvOpAk5gfQaMxmsHBpxBCgCXcwCHN1j9IEVLBsx8bwh1j+8Af4yZBLrLbwPOkHsLUmtRAwxSJP+yWjEFStBrCxdmxwTn/9kFx7/XBpcUTQctDQ8Cqzo9Brj66QXz87T8=\",\"dtype\":\"float32\",\"order\":\"little\",\"shape\":[5000]}},\"selected\":{\"id\":\"1035\"},\"selection_policy\":{\"id\":\"1036\"}},\"id\":\"1027\",\"type\":\"ColumnDataSource\"},{\"attributes\":{\"fill_alpha\":{\"value\":0.1},\"fill_color\":{\"value\":\"#1f77b4\"},\"line_alpha\":{\"value\":0.1},\"line_color\":{\"value\":\"#1f77b4\"},\"x\":{\"field\":\"x\"},\"y\":{\"field\":\"y\"}},\"id\":\"1030\",\"type\":\"Scatter\"},{\"attributes\":{\"data_source\":{\"id\":\"1027\"},\"glyph\":{\"id\":\"1029\"},\"hover_glyph\":null,\"muted_glyph\":null,\"nonselection_glyph\":{\"id\":\"1030\"},\"view\":{\"id\":\"1032\"}},\"id\":\"1031\",\"type\":\"GlyphRenderer\"},{\"attributes\":{\"fill_color\":{\"value\":\"#1f77b4\"},\"line_color\":{\"value\":\"#1f77b4\"},\"x\":{\"field\":\"x\"},\"y\":{\"field\":\"y\"}},\"id\":\"1029\",\"type\":\"Scatter\"},{\"attributes\":{\"source\":{\"id\":\"1027\"}},\"id\":\"1032\",\"type\":\"CDSView\"},{\"attributes\":{\"bottom_units\":\"screen\",\"fill_alpha\":0.5,\"fill_color\":\"lightgrey\",\"left_units\":\"screen\",\"level\":\"overlay\",\"line_alpha\":1.0,\"line_color\":\"black\",\"line_dash\":[4,4],\"line_width\":2,\"right_units\":\"screen\",\"syncable\":false,\"top_units\":\"screen\"},\"id\":\"1019\",\"type\":\"BoxAnnotation\"},{\"attributes\":{},\"id\":\"1036\",\"type\":\"UnionRenderers\"},{\"attributes\":{\"active_multi\":null,\"tools\":[{\"id\":\"1013\"},{\"id\":\"1014\"},{\"id\":\"1015\"},{\"id\":\"1016\"},{\"id\":\"1017\"},{\"id\":\"1018\"}]},\"id\":\"1020\",\"type\":\"Toolbar\"},{\"attributes\":{},\"id\":\"1018\",\"type\":\"SaveTool\"},{\"attributes\":{},\"id\":\"1035\",\"type\":\"Selection\"},{\"attributes\":{},\"id\":\"1011\",\"type\":\"LinearScale\"},{\"attributes\":{},\"id\":\"1007\",\"type\":\"DataRange1d\"},{\"attributes\":{},\"id\":\"1013\",\"type\":\"PanTool\"},{\"attributes\":{},\"id\":\"1005\",\"type\":\"DataRange1d\"},{\"attributes\":{\"callback\":null,\"tooltips\":[[\"word\",\"@words\"]]},\"id\":\"1017\",\"type\":\"HoverTool\"},{\"attributes\":{},\"id\":\"1016\",\"type\":\"ResetTool\"}],\"root_ids\":[\"1002\"]},\"title\":\"Bokeh Application\",\"version\":\"2.3.3\"}};\n",
              "  var render_items = [{\"docid\":\"b06eb718-1fb6-499b-8669-4301485a191c\",\"root_ids\":[\"1002\"],\"roots\":{\"1002\":\"56a033f9-c82d-4ed2-844c-102d7b5af0e0\"}}];\n",
              "  root.Bokeh.embed.embed_items_notebook(docs_json, render_items);\n",
              "\n",
              "  }\n",
              "  if (root.Bokeh !== undefined) {\n",
              "    embed_document(root);\n",
              "  } else {\n",
              "    var attempts = 0;\n",
              "    var timer = setInterval(function(root) {\n",
              "      if (root.Bokeh !== undefined) {\n",
              "        clearInterval(timer);\n",
              "        embed_document(root);\n",
              "      } else {\n",
              "        attempts++;\n",
              "        if (attempts > 100) {\n",
              "          clearInterval(timer);\n",
              "          console.log(\"Bokeh: ERROR: Unable to run BokehJS code because BokehJS library is missing\");\n",
              "        }\n",
              "      }\n",
              "    }, 10, root)\n",
              "  }\n",
              "})(window);"
            ],
            "application/vnd.bokehjs_exec.v0+json": ""
          },
          "metadata": {
            "application/vnd.bokehjs_exec.v0+json": {
              "id": "1002"
            }
          }
        },
        {
          "output_type": "display_data",
          "data": {
            "text/plain": [
              "<Figure size 432x288 with 0 Axes>"
            ]
          },
          "metadata": {}
        }
      ],
      "source": [
        "#@title t-SNE chart\n",
        "def similar_words_graphic (data, name):\n",
        "  output_notebook()\n",
        "  plot_tfidf = bp.figure(plot_width=700, plot_height=600, title=\"A map of 10000 word vectors\",\n",
        "                          tools=\"pan,wheel_zoom,box_zoom,reset,hover,save\",\n",
        "                          x_axis_type=None, y_axis_type=None, min_border=1)\n",
        "\n",
        "  # getting a list of word vectors. limit to 10000. each is of 200 dimensions\n",
        "  word_vectors = [data[w] for w in list(data.wv.vocab.keys())[:5000]]\n",
        "\n",
        "  # dimensionality reduction. converting the vectors to 2d vectors\n",
        "  from sklearn.manifold import TSNE\n",
        "  tsne_model = TSNE(n_components=2, verbose=1, random_state=0)\n",
        "  tsne_w2v = tsne_model.fit_transform(word_vectors)\n",
        "\n",
        "  # putting everything in a dataframe\n",
        "  tsne_df = pd.DataFrame(tsne_w2v, columns=['x', 'y'])\n",
        "  tsne_df['words'] = list(data.wv.vocab.keys())[:5000]\n",
        "\n",
        "  # plotting. the corresponding word appears when you hover on the data point.\n",
        "  plot_tfidf.scatter(x='x', y='y', source=tsne_df)\n",
        "  hover = plot_tfidf.select(dict(type=HoverTool))\n",
        "  hover.tooltips={\"word\": \"@words\"}\n",
        "  plt.savefig (PATH_IMAGES + '{}_similar_words_graphic.png'.format (name))\n",
        "  show(plot_tfidf)\n",
        "\n",
        "candidate = 'Bolsonaro' #@param [\"Bolsonaro\", \"Lula\", \"Ciro\", \"Moro\"]\n",
        "\n",
        "if candidate == 'Bolsonaro':\n",
        "  name = 'bolsonaro'\n",
        "  similar_words_graphic(tweet_w2v_b, name)\n",
        "\n",
        "if candidate == 'Lula':\n",
        "  name = 'lula'\n",
        "  similar_words_graphic(tweet_w2v_l, name)\n",
        "\n",
        "if candidate == 'Ciro':\n",
        "  name = 'ciro'\n",
        "  similar_words_graphic(tweet_w2v_c, name)\n",
        "  \n",
        "if candidate == 'Moro':\n",
        "  name = 'moro'\n",
        "  similar_words_graphic(tweet_w2v_m, name)\n"
      ]
    },
    {
      "cell_type": "markdown",
      "metadata": {
        "id": "QGOz1uxtB2TB"
      },
      "source": [
        "## 3. Training the model"
      ]
    },
    {
      "cell_type": "code",
      "execution_count": 19,
      "metadata": {
        "cellView": "form",
        "colab": {
          "base_uri": "https://localhost:8080/"
        },
        "id": "-Ju-404KHFEC",
        "outputId": "6f879edc-a504-4a1d-9d92-4b39a9b14493"
      },
      "outputs": [
        {
          "output_type": "stream",
          "name": "stdout",
          "text": [
            "building tf-idf matrix for Ciro\n",
            "('vocab size :', 72246)\n"
          ]
        }
      ],
      "source": [
        "#@title Construir matrix TF-IDF\n",
        "\n",
        "def tf_idf_create (candidate):\n",
        "  vectorizer = TfidfVectorizer(analyzer=lambda x: x)\n",
        "  matrix = vectorizer.fit_transform([x.words for x in candidate])\n",
        "  result = dict(zip(vectorizer.get_feature_names(), vectorizer.idf_))\n",
        "  return result\n",
        "\n",
        "candidate = 'Ciro' #@param [\"Bolsonaro\", \"Lula\", \"Ciro\"]\n",
        "\n",
        "if candidate == 'Bolsonaro':\n",
        "  nome = 'Bolsonaro'\n",
        "  print ('building tf-idf matrix for {}'.format (nome))\n",
        "  tfidf = tf_idf_create(data_labellised_b)\n",
        "  print (('vocab size :', len(tfidf)))\n",
        "\n",
        "if candidate == 'Lula':\n",
        "  nome = 'Lula'\n",
        "  print ('building tf-idf matrix for {}'.format (nome))\n",
        "  tfidf = tf_idf_create(data_labellised_l)\n",
        "  print (('vocab size :', len(tfidf)))\n",
        "\n",
        "if candidate == 'Ciro':\n",
        "  nome = 'Ciro'\n",
        "  print ('building tf-idf matrix for {}'.format (nome))\n",
        "  tfidf = tf_idf_create(data_labellised_c)\n",
        "  print (('vocab size :', len(tfidf)))"
      ]
    },
    {
      "cell_type": "code",
      "execution_count": 20,
      "metadata": {
        "cellView": "form",
        "id": "Em1Dz2MTIzPv"
      },
      "outputs": [],
      "source": [
        "#@title Construir palavra vetor\n",
        "def buildWordVector(tokens, size):\n",
        "    vec = np.zeros(size).reshape((1, size))\n",
        "    count = 0.\n",
        "    for word in tokens:\n",
        "        try:\n",
        "            vec += tweet_w2v_b[word].reshape((1, size)) * tfidf[word] #combining w2v vectors with tfidf value of words in the tweet.\n",
        "            count += 1.\n",
        "        except KeyError: # handling the case where the token is not\n",
        "                         # in the corpus. useful for testing.\n",
        "            continue\n",
        "    if count != 0:\n",
        "        vec /= count\n",
        "    return vec"
      ]
    },
    {
      "cell_type": "code",
      "execution_count": 17,
      "metadata": {
        "cellView": "form",
        "colab": {
          "base_uri": "https://localhost:8080/"
        },
        "id": "juRgXk4_I2vf",
        "outputId": "c61c7fb7-ef1c-4b74-eb61-62385cb57901"
      },
      "outputs": [
        {
          "output_type": "stream",
          "name": "stdout",
          "text": [
            "concatenando o modelo para Ciro\n"
          ]
        },
        {
          "output_type": "stream",
          "name": "stderr",
          "text": [
            "145064it [00:25, 5731.78it/s]\n",
            "62171it [00:09, 6564.38it/s]\n"
          ]
        }
      ],
      "source": [
        "#@title Concatenar vetores\n",
        "\n",
        "def training_model (train_model, test_model):\n",
        "  train = np.concatenate([buildWordVector(z, n_dim) for z in tqdm(map(lambda x: x.words, train_model))])\n",
        "  train = scale(train)\n",
        "\n",
        "  test = np.concatenate([buildWordVector(z, n_dim) for z in tqdm(map(lambda x: x.words, test_model))])\n",
        "  test = scale(test)\n",
        "  return train, test\n",
        "\n",
        "\n",
        "candidate = 'Ciro' #@param [\"Bolsonaro\", \"Lula\", \"Ciro\"]\n",
        "\n",
        "if candidate == 'Bolsonaro':\n",
        "  nome = 'Bolsonaro'\n",
        "  print ('concatenando o modelo para {}'.format (nome))\n",
        "  train_vecs_w2v_b, test_vecs_w2v_b = training_model(x_train_b, x_test_b)\n",
        "\n",
        "if candidate == 'Lula':\n",
        "  nome = 'Lula'\n",
        "  print ('concatenando o modelo para {}'.format (nome))\n",
        "  train_vecs_w2v_l, test_vecs_w2v_l = training_model(x_train_l, x_test_l)\n",
        "\n",
        "if candidate == 'Ciro':\n",
        "  nome = 'Ciro'\n",
        "  print ('concatenando o modelo para {}'.format (nome))\n",
        "  train_vecs_w2v_c, test_vecs_w2v_c = training_model(x_train_c, x_test_c)"
      ]
    },
    {
      "cell_type": "code",
      "execution_count": 20,
      "metadata": {
        "cellView": "form",
        "colab": {
          "base_uri": "https://localhost:8080/"
        },
        "id": "y-hy0aKlI21T",
        "outputId": "b4bd393b-7b9e-4a3d-b746-ef7d925298a7"
      },
      "outputs": [
        {
          "output_type": "stream",
          "name": "stdout",
          "text": [
            "Training the model for Ciro\n",
            "Epoch 1/10\n",
            "15/15 - 1s - loss: 0.5066 - accuracy: 0.8036 - 1s/epoch - 81ms/step\n",
            "Epoch 2/10\n",
            "15/15 - 0s - loss: 0.2854 - accuracy: 0.9030 - 138ms/epoch - 9ms/step\n",
            "Epoch 3/10\n",
            "15/15 - 0s - loss: 0.1837 - accuracy: 0.9033 - 134ms/epoch - 9ms/step\n",
            "Epoch 4/10\n",
            "15/15 - 0s - loss: 0.1321 - accuracy: 0.9033 - 128ms/epoch - 9ms/step\n",
            "Epoch 5/10\n",
            "15/15 - 0s - loss: 0.0906 - accuracy: 0.9034 - 150ms/epoch - 10ms/step\n",
            "Epoch 6/10\n",
            "15/15 - 0s - loss: 0.0406 - accuracy: 0.9034 - 128ms/epoch - 9ms/step\n",
            "Epoch 7/10\n",
            "15/15 - 0s - loss: -2.5773e-02 - accuracy: 0.9039 - 120ms/epoch - 8ms/step\n",
            "Epoch 8/10\n",
            "15/15 - 0s - loss: -1.1304e-01 - accuracy: 0.9044 - 122ms/epoch - 8ms/step\n",
            "Epoch 9/10\n",
            "15/15 - 0s - loss: -2.2278e-01 - accuracy: 0.9047 - 140ms/epoch - 9ms/step\n",
            "Epoch 10/10\n",
            "15/15 - 0s - loss: -3.6535e-01 - accuracy: 0.9047 - 108ms/epoch - 7ms/step\n"
          ]
        }
      ],
      "source": [
        "#@title Treinando o modelo\n",
        "model = Sequential()\n",
        "model.add(Dense(32, activation='relu', input_dim=n_dim))\n",
        "model.add(Dense(16, activation='relu'))\n",
        "model.add(Dense(8, activation='relu'))\n",
        "model.add(Dense(1, activation='sigmoid'))\n",
        "model.compile(optimizer='RMSprop',\n",
        "              loss='binary_crossentropy',\n",
        "              metrics=['accuracy'])\n",
        "\n",
        "def dl_training (train_vec, train, epocas):\n",
        "  \n",
        "  return model.fit(train_vec, train, epochs=epocas, batch_size=10000, verbose=2)\n",
        "\n",
        "candidate = 'Ciro' #@param [\"Bolsonaro\", \"Lula\", \"Ciro\"]\n",
        "Epochs = 10 #@param {type: 'integer'}\n",
        "\n",
        "if candidate == 'Bolsonaro':\n",
        "  nome = 'Bolsonaro'\n",
        "  print ('Training the model for {}'.format (nome))\n",
        "  model_b = dl_training(train_vecs_w2v_b, y_train_b, Epochs)\n",
        "\n",
        "if candidate == 'Lula':\n",
        "  nome = 'Lula'\n",
        "  print ('Training the model for {}'.format (nome))\n",
        "  model_l = dl_training(train_vecs_w2v_l, y_train_l, Epochs)\n",
        "\n",
        "if candidate == 'Ciro':\n",
        "  nome = 'Ciro'\n",
        "  print ('Training the model for {}'.format (nome))\n",
        "  model_c = dl_training(train_vecs_w2v_c, y_train_c, Epochs)\n"
      ]
    },
    {
      "cell_type": "markdown",
      "metadata": {
        "id": "yzNwSSlvzcL4"
      },
      "source": [
        "### Resultados"
      ]
    },
    {
      "cell_type": "code",
      "execution_count": null,
      "metadata": {
        "cellView": "form",
        "colab": {
          "base_uri": "https://localhost:8080/"
        },
        "id": "M08mbDLvI285",
        "outputId": "2032d0f5-1115-4240-ae8f-1930d9bb5fca"
      },
      "outputs": [
        {
          "output_type": "stream",
          "name": "stdout",
          "text": [
            "Accuracy the model for Ciro\n",
            "289/289 - 1s - loss: -6.7278e-01 - accuracy: 0.9114 - 595ms/epoch - 2ms/step\n",
            "loss :  -0.6727846264839172 \n",
            " accuracy :  0.9114201664924622\n"
          ]
        }
      ],
      "source": [
        "#@title Avaliando acurácia do modelo\n",
        "\n",
        "def score (test_vec, test):\n",
        "  score = model.evaluate(test_vec, test, batch_size=128, verbose=2)\n",
        "  print(model.metrics_names[0],\": \",score[0],\"\\n\",model.metrics_names[1],\": \",score[1])\n",
        "  return score\n",
        "\n",
        "  \n",
        "\n",
        "\n",
        "candidate = 'Ciro' #@param [\"Bolsonaro\", \"Lula\", \"Ciro\"]\n",
        "\n",
        "if candidate == 'Bolsonaro':\n",
        "  name = 'Bolsonaro'\n",
        "  print ('Accuracy the model for {}'.format (name))\n",
        "  score_b = score(test_vecs_w2v_b, y_test_b)\n",
        "\n",
        "if candidate == 'Lula':\n",
        "  name = 'Lula'\n",
        "  print ('Accuracy the model for {}'.format (name))\n",
        "  score_l = score(test_vecs_w2v_l, y_test_l)\n",
        "\n",
        "if candidate == 'Ciro':\n",
        "  name = 'Ciro'\n",
        "  print ('Accuracy the model for {}'.format (name))\n",
        "  score_c = score(test_vecs_w2v_c, y_test_c)"
      ]
    },
    {
      "cell_type": "code",
      "execution_count": 23,
      "metadata": {
        "cellView": "form",
        "colab": {
          "base_uri": "https://localhost:8080/"
        },
        "id": "dElzVblWJzk4",
        "outputId": "9816c1d6-c5e4-4135-f17a-d8cebfde1414"
      },
      "outputs": [
        {
          "output_type": "stream",
          "name": "stdout",
          "text": [
            "Modelo salvo no google drive\n"
          ]
        }
      ],
      "source": [
        "#@title Saving model\n",
        "def saving_model (test_vec, name):\n",
        "  test_vec = model.to_json() # serialize model to JSON\n",
        "  with open(PATH_MODELS + 'model_{}.json'.format (name), \"w\") as json_file:\n",
        "      json_file.write(test_vec)\n",
        "\n",
        "  print(\"Modelo salvo no google drive\")\n",
        "\n",
        "#Loading the model\n",
        "# newmodel = model_from_json(open('model.json').read())\n",
        "# newmodel.load_weights('smodel.h5')\n",
        "\n",
        "candidato = 'Ciro' #@param [\"Bolsonaro\", \"Lula\", \"Ciro\"]\n",
        "\n",
        "if candidato == 'Bolsonaro':\n",
        "  nome = 'Bolsonaro'\n",
        "  saving_model(test_vecs_w2v_b, candidato)\n",
        "\n",
        "if candidato == 'Lula':\n",
        "  nome = 'Lula'\n",
        "  saving_model(test_vecs_w2v_l, candidato)\n",
        "\n",
        "if candidato == 'Ciro':\n",
        "  nome = 'Ciro'\n",
        "  saving_model(test_vecs_w2v_c, candidato)"
      ]
    },
    {
      "cell_type": "code",
      "source": [
        "#@title Carregar modelo treinado\n",
        "def load_model (nome):\n",
        "  newmodel = model_from_json(open(PATH_MODELS + 'model_{}.json'.format(nome)).read())\n",
        "  # newmodel.load_weights('smodel.h5')\n",
        "  print ('Modelo sobre {} carregado com sucesso'.format(nome))\n",
        "  return newmodel\n",
        "\n",
        "candidato = 'Ciro' #@param [\"Bolsonaro\", \"Lula\", \"Ciro\"]\n",
        "\n",
        "if candidato == 'Bolsonaro':\n",
        "  model_b = load_model(candidato)\n",
        "\n",
        "if candidato == 'Lula':\n",
        "  model_l = load_model(candidato)\n",
        "\n",
        "if candidato == 'Ciro':\n",
        "  model_c = load_model(candidato)"
      ],
      "metadata": {
        "colab": {
          "base_uri": "https://localhost:8080/"
        },
        "cellView": "form",
        "id": "DAX7AzRqDb7t",
        "outputId": "ed7a6c39-619e-4bdd-e11d-1ab68a508deb"
      },
      "execution_count": 11,
      "outputs": [
        {
          "output_type": "stream",
          "name": "stdout",
          "text": [
            "Modelo sobre Ciro carregado com sucesso\n"
          ]
        }
      ]
    },
    {
      "cell_type": "code",
      "execution_count": 23,
      "metadata": {
        "colab": {
          "base_uri": "https://localhost:8080/"
        },
        "id": "BgenxvR8MM8O",
        "outputId": "1519c493-a31d-4f00-dd11-da1a522a2ea3"
      },
      "outputs": [
        {
          "output_type": "stream",
          "name": "stderr",
          "text": [
            "207555it [00:33, 6222.09it/s]\n"
          ]
        }
      ],
      "source": [
        "# query_b=np.array(df1.tokens)\n",
        "# query_w2v_vecs_b = np.concatenate([buildWordVector(z, 200) for z in tqdm(map(lambda x:x, query_b))])\n",
        "\n",
        "# query_l=np.array(df2.tokens)\n",
        "# query_w2v_vecs_l = np.concatenate([buildWordVector(z, n_dim) for z in tqdm(map(lambda x:x, query_l))])\n",
        "\n",
        "query_c=np.array(df3.tokens)\n",
        "query_w2v_vecs_c = np.concatenate([buildWordVector(z, n_dim) for z in tqdm(map(lambda x:x, query_c))])"
      ]
    },
    {
      "cell_type": "code",
      "execution_count": 31,
      "metadata": {
        "id": "UcRbhJDWMUfb"
      },
      "outputs": [],
      "source": [
        "#training the model\n",
        "result_b = model_b.predict(query_w2v_vecs_b)\n",
        "result_l = model_l.predict(query_w2v_vecs_l)\n",
        "result_c = model_c.predict(query_w2v_vecs_c )"
      ]
    },
    {
      "cell_type": "code",
      "source": [
        "#@title Criar novo DATASET com nova análise de sentimentos\n",
        "def create_new_df (result, data):\n",
        "  resultado = pd.DataFrame(result)\n",
        "  df = pd.concat([data, resultado], axis=1)\n",
        "  df_data = df.rename(columns={0: 'sentiment_DL'})\n",
        "  df_data.loc[df_data['sentiment_DL'] > 0, 'sentimentos'] = 'positivo'\n",
        "  df_data.loc[df_data['sentiment_DL'] <= 0, 'sentimentos'] = 'negativo'\n",
        "  return df_data\n",
        "\n",
        "candidate = 'Ciro' #@param [\"Bolsonaro\", \"Lula\", \"Ciro\"]\n",
        "\n",
        "if candidate == 'Bolsonaro':\n",
        "  name = 'Bolsonaro'\n",
        "  new_df_b = create_new_df (result_b, df1)\n",
        "\n",
        "if candidate == 'Lula':\n",
        "  name = 'Lula'\n",
        "  new_df_l = create_new_df (result_l, df2)\n",
        "\n",
        "if candidate == 'Ciro':\n",
        "  name = 'Ciro'\n",
        "  new_df_c = create_new_df (result_c, df3)\n",
        "\n"
      ],
      "metadata": {
        "cellView": "form",
        "id": "xC8JZfShO_gW"
      },
      "execution_count": 32,
      "outputs": []
    },
    {
      "cell_type": "code",
      "source": [
        "#@title Salvar DATASETS no google drive\n",
        "\n",
        "new_df_b.to_csv(PATH_DATA + 'interim' + '/bolsonaro_dataframe_master.csv', sep=';', index=False)\n",
        "print ('the sentiment analisy for the BOLSONARO dataset has saved in {}interim/'.format (PATH_DATA))\n",
        "print ('----------------')\n",
        "\n",
        "new_df_l.to_csv(PATH_DATA + 'interim' + '/lula_dataframe_master.csv', sep=';', index=False)\n",
        "print ('the sentiment analisy for the LULA dataset has saved in {}interim/'.format (PATH_DATA))\n",
        "print ('----------------')\n",
        "\n",
        "\n",
        "new_df_c.to_csv(PATH_DATA + 'interim' + '/ciro_dataframe_master.csv', sep=';', index=False)\n",
        "print ('the sentiment analisy for the CIRO dataset has saved in {}interim/'.format (PATH_DATA))"
      ],
      "metadata": {
        "colab": {
          "base_uri": "https://localhost:8080/"
        },
        "cellView": "form",
        "id": "lIzZoRM57l4H",
        "outputId": "771c8987-c860-4e9e-a828-251c06d26afd"
      },
      "execution_count": 33,
      "outputs": [
        {
          "output_type": "stream",
          "name": "stdout",
          "text": [
            "the sentiment analisy for the CIRO dataset has saved in /content/drive/MyDrive/Colab Notebooks/project_politics/data/interim/\n"
          ]
        }
      ]
    }
  ],
  "metadata": {
    "colab": {
      "collapsed_sections": [
        "0zwOX-U_fD9U",
        "Z7qk4QgPTTb6",
        "PPqI1n8Fy6Y6"
      ],
      "name": "4 - Word2Vec e treinamento da rede neural .ipynb",
      "provenance": [],
      "authorship_tag": "ABX9TyO9D2f1YVRhnAhh48gVJNSL",
      "include_colab_link": true
    },
    "kernelspec": {
      "display_name": "Python 3",
      "name": "python3"
    },
    "language_info": {
      "name": "python"
    },
    "accelerator": "GPU",
    "gpuClass": "standard"
  },
  "nbformat": 4,
  "nbformat_minor": 0
}