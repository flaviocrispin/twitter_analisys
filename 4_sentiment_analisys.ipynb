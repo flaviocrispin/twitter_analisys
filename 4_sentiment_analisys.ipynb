{
  "cells": [
    {
      "cell_type": "markdown",
      "metadata": {
        "id": "view-in-github",
        "colab_type": "text"
      },
      "source": [
        "<a href=\"https://colab.research.google.com/github/flaviocrispin/twitter_analisys/blob/main/4_sentiment_analisys.ipynb\" target=\"_parent\"><img src=\"https://colab.research.google.com/assets/colab-badge.svg\" alt=\"Open In Colab\"/></a>"
      ]
    },
    {
      "cell_type": "markdown",
      "metadata": {
        "id": "oj6erTigpV2w"
      },
      "source": [
        "# Análise de sentimentos\n",
        "- TextBlob\n",
        "- Vader Sentiment\n",
        "- Save the files in google drive"
      ]
    },
    {
      "cell_type": "markdown",
      "metadata": {
        "id": "WwWCxaswQTbI"
      },
      "source": [
        "## Sentiment Analisys"
      ]
    },
    {
      "cell_type": "code",
      "execution_count": 1,
      "metadata": {
        "cellView": "form",
        "colab": {
          "base_uri": "https://localhost:8080/"
        },
        "id": "wZnUIO7-LlgV",
        "outputId": "e2238196-ba63-4f94-8c38-baea7be05223"
      },
      "outputs": [
        {
          "output_type": "stream",
          "name": "stdout",
          "text": [
            "Mounted at /content/drive\n"
          ]
        }
      ],
      "source": [
        "#@title Connect google colab with google drive\n",
        "\n",
        "from google.colab import drive\n",
        "drive.mount('/content/drive') "
      ]
    },
    {
      "cell_type": "code",
      "execution_count": 11,
      "metadata": {
        "cellView": "form",
        "colab": {
          "base_uri": "https://localhost:8080/"
        },
        "id": "9EQriVEgfkbg",
        "outputId": "2260f705-0eef-4124-cd1a-4c91abefbaf0"
      },
      "outputs": [
        {
          "output_type": "stream",
          "name": "stdout",
          "text": [
            "[nltk_data] Downloading package punkt to /root/nltk_data...\n",
            "[nltk_data]   Unzipping tokenizers/punkt.zip.\n"
          ]
        }
      ],
      "source": [
        "#@title 2.3 Libraries import\n",
        "\n",
        "import pandas as pd\n",
        "\n",
        "import nltk\n",
        "nltk.download('punkt')\n",
        "\n",
        "# Sentiment Scoring by textblob\n",
        "from textblob import TextBlob\n",
        "\n",
        "\n",
        "!pip install vaderSentiment &> /dev/null\n",
        "# Sentiment Scoring by vader sentiment\n",
        "from vaderSentiment.vaderSentiment import SentimentIntensityAnalyzer\n",
        "\n",
        "import warnings\n",
        "warnings.filterwarnings(\"ignore\")\n",
        "\n",
        "\n"
      ]
    },
    {
      "cell_type": "code",
      "source": [
        "PATH_FOLDER = '/content/drive/MyDrive/Colab Notebooks/project_politics' #@param {type: 'string'}\n",
        "PATH_IMAGES = '/content/drive/MyDrive/Colab Notebooks/project_politics/img/' #@param {type: 'string'}\n",
        "PATH_MODELS = '/content/drive/MyDrive/Colab Notebooks/project_politics/models/' #@param {type: 'string'}\n",
        "PATH_DATA = '/content/drive/MyDrive/Colab Notebooks/project_politics/data/' #@param {type: 'string'}"
      ],
      "metadata": {
        "cellView": "form",
        "id": "59HW-OjJPbs_"
      },
      "execution_count": 6,
      "outputs": []
    },
    {
      "cell_type": "code",
      "execution_count": 9,
      "metadata": {
        "cellView": "form",
        "id": "8gKsF3jvIsdI"
      },
      "outputs": [],
      "source": [
        "#@title Load the DATASETS\n",
        "df1 = pd.read_csv(PATH_DATA +  'interim' + '/bolsonaro_tratado.csv', sep=';')\n",
        "df2 = pd.read_csv(PATH_DATA +  'interim' + '/lula_tratado.csv', sep=';')\n",
        "df3 = pd.read_csv(PATH_DATA +  'interim' + '/ciro_tratado.csv', sep=';')\n",
        "df4 = pd.read_csv(PATH_DATA +  'interim' + '/moro_tratado.csv', sep=';')"
      ]
    },
    {
      "cell_type": "code",
      "execution_count": 17,
      "metadata": {
        "cellView": "form",
        "colab": {
          "base_uri": "https://localhost:8080/"
        },
        "id": "pcrO7XyegMxg",
        "outputId": "05d63306-3981-4c89-c4a8-23f056378e4b"
      },
      "outputs": [
        {
          "output_type": "stream",
          "name": "stdout",
          "text": [
            "Running sentiment process\n",
            "Finish!!!\n"
          ]
        }
      ],
      "source": [
        "#@title Sentiment Analisy using TextBlob\n",
        "print(\"Running sentiment process\")\n",
        "#@markdown Choose the candidate you want to create sentiment column\n",
        "def create_sentiment (data, grams):\n",
        "  data['steemer_twitter'] = data['steemer_twitter'].astype(str)\n",
        "  for row in data.itertuples():\n",
        "    tweet = data.at[row[0], 'steemer_twitter']\n",
        "    #textEN = Translator().translate(textPT, dest='en')\n",
        "  #run sentiment using TextBlob\n",
        "    analysis = TextBlob((tweet))\n",
        "    analysis.ngrams(n=grams)\n",
        "  #set value to dataframe\n",
        "    data.at[row[0], 'polarity'] = analysis.sentiment[0]\n",
        "    data.at[row[0], 'subjectivity'] = analysis.sentiment[1]\n",
        "  #Create Positive / negative column depending on polarity\n",
        "    if analysis.sentiment[0]>0:\n",
        "        data.at[row[0], 'Sentiment'] = 1\n",
        "    elif analysis.sentiment[0]<0:\n",
        "        data.at[row[0], 'Sentiment'] = -1\n",
        "    else:\n",
        "        data.at[row[0], 'Sentiment'] = 0\n",
        "  return data\n",
        "\n",
        "candidate = 'Ciro' #@param [\"Bolsonaro\", \"Lula\", \"Ciro\"]\n",
        "number_grams =  3#@param {type: 'integer'}\n",
        "\n",
        "if candidate == 'Bolsonaro':\n",
        "  df_blob_b = create_sentiment(df1, number_grams)\n",
        "\n",
        "if candidate == 'Lula':\n",
        "  df_blob_l = create_sentiment(df2, number_grams)\n",
        "\n",
        "if candidate == 'Ciro':\n",
        "  df_blob_c = create_sentiment(df3, number_grams)\n",
        "  \n",
        "\n",
        "print ('Finish!!!')\n"
      ]
    },
    {
      "cell_type": "code",
      "execution_count": 21,
      "metadata": {
        "cellView": "form",
        "id": "7667VffGeZ9U"
      },
      "outputs": [],
      "source": [
        "#@title Sentiment Analisys using Vader Sentiment\n",
        "\n",
        "analyzer = SentimentIntensityAnalyzer()\n",
        "\n",
        "def create_sentiment_vader (text):\n",
        "  result = analyzer.polarity_scores(text)['compound']\n",
        "  return result\n",
        "\n",
        "def analise2(score):\n",
        "  if (score >= -0.05) & (score <= 0.05):\n",
        "    return 'neutral'\n",
        "  elif score > 0.05:\n",
        "    return 'positive'\n",
        "  return 'negative'\n",
        "\n",
        "candidate = 'Ciro' #@param [\"Bolsonaro\", \"Lula\", \"Ciro\"]\n",
        "\n",
        "if candidate == 'Bolsonaro':\n",
        "  df_blob_b['vader'] = df_blob_b['steemer_twitter'].apply(create_sentiment_vader)\n",
        "  df_blob_b['new_sentiment'] = df_blob_b['vader'].apply(analise2)\n",
        "\n",
        "if candidate == 'Lula':\n",
        "  df_blob_l['vader'] = df_blob_l['steemer_twitter'].apply(create_sentiment_vader)\n",
        "  df_blob_l['new_sentiment'] = df_blob_l['vader'].apply(analise2)\n",
        "\n",
        "if candidate == 'Ciro':\n",
        "  df_blob_c['vader'] = df_blob_c['steemer_twitter'].apply(create_sentiment_vader)\n",
        "  df_blob_c['new_sentiment'] = df_blob_c['vader'].apply(analise2)\n",
        "  \n",
        "\n"
      ]
    },
    {
      "cell_type": "code",
      "execution_count": 22,
      "metadata": {
        "cellView": "form",
        "colab": {
          "base_uri": "https://localhost:8080/"
        },
        "id": "YvubGyEfm9QA",
        "outputId": "32ba1219-1b94-48d4-f288-31885cefcccb"
      },
      "outputs": [
        {
          "output_type": "stream",
          "name": "stdout",
          "text": [
            "the sentiment analisy for the BOLSONARO dataset has saved in /content/drive/MyDrive/Colab Notebooks/project_politics/data/interim/\n",
            "----------------\n",
            "the sentiment analisy for the LULA dataset has saved in /content/drive/MyDrive/Colab Notebooks/project_politics/data/interim/\n",
            "----------------\n",
            "the sentiment analisy for the CIRO dataset has saved in /content/drive/MyDrive/Colab Notebooks/project_politics/data/interim/\n"
          ]
        }
      ],
      "source": [
        "#@title Save datasets with the sentiment analisys in google drive\n",
        "df_blob_b.to_csv(PATH_DATA + 'interim' + '/bolsonaro_tratado_sentiment.csv', sep=';', index=False)\n",
        "print ('the sentiment analisy for the BOLSONARO dataset has saved in {}interim/'.format (PATH_DATA))\n",
        "print ('----------------')\n",
        "df_blob_l.to_csv(PATH_DATA + 'interim' + '/lula_tratado_sentiment.csv', sep=';', index=False)\n",
        "print ('the sentiment analisy for the LULA dataset has saved in {}interim/'.format (PATH_DATA))\n",
        "print ('----------------')\n",
        "df_blob_c.to_csv(PATH_DATA + 'interim' + '/ciro_tratado_sentiment.csv', sep=';', index=False)\n",
        "print ('the sentiment analisy for the CIRO dataset has saved in {}interim/'.format (PATH_DATA))"
      ]
    }
  ],
  "metadata": {
    "colab": {
      "collapsed_sections": [
        "0zwOX-U_fD9U",
        "Z7qk4QgPTTb6",
        "PPqI1n8Fy6Y6"
      ],
      "name": "4 - sentiment_analisys.ipynb",
      "provenance": [],
      "authorship_tag": "ABX9TyMKwhaG64EN+TfTPFGI6MDL",
      "include_colab_link": true
    },
    "kernelspec": {
      "display_name": "Python 3",
      "name": "python3"
    },
    "language_info": {
      "name": "python"
    }
  },
  "nbformat": 4,
  "nbformat_minor": 0
}